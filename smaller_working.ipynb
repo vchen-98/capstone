{
 "cells": [
  {
   "cell_type": "markdown",
   "metadata": {},
   "source": [
    "# Data"
   ]
  },
  {
   "cell_type": "code",
   "execution_count": 25,
   "metadata": {},
   "outputs": [],
   "source": [
    "import pandas as pd\n",
    "import numpy as np\n",
    "import matplotlib.pyplot as plt\n",
    "%matplotlib inline\n",
    "import seaborn as sns\n",
    "\n",
    "from os import path\n",
    "from PIL import Image\n",
    "from wordcloud import WordCloud, STOPWORDS, ImageColorGenerator\n",
    "\n",
    "from collections import defaultdict\n",
    "from sklearn.model_selection import train_test_split\n",
    "import nltk\n",
    "from nltk.tokenize import regexp_tokenize, word_tokenize, RegexpTokenizer\n",
    "from nltk.corpus import stopwords, wordnet\n",
    "from nltk import pos_tag\n",
    "from nltk.stem import WordNetLemmatizer\n",
    "from sklearn.feature_extraction.text import TfidfVectorizer, CountVectorizer\n",
    "from sklearn.ensemble import RandomForestClassifier\n",
    "from sklearn.naive_bayes import MultinomialNB\n",
    "from sklearn.metrics import accuracy_score, precision_score, confusion_matrix, f1_score\n",
    "import string\n",
    "import pickle"
   ]
  },
  {
   "cell_type": "code",
   "execution_count": 26,
   "metadata": {
    "scrolled": true
   },
   "outputs": [
    {
     "data": {
      "text/html": [
       "<div>\n",
       "<style scoped>\n",
       "    .dataframe tbody tr th:only-of-type {\n",
       "        vertical-align: middle;\n",
       "    }\n",
       "\n",
       "    .dataframe tbody tr th {\n",
       "        vertical-align: top;\n",
       "    }\n",
       "\n",
       "    .dataframe thead th {\n",
       "        text-align: right;\n",
       "    }\n",
       "</style>\n",
       "<table border=\"1\" class=\"dataframe\">\n",
       "  <thead>\n",
       "    <tr style=\"text-align: right;\">\n",
       "      <th></th>\n",
       "      <th>review_id</th>\n",
       "      <th>user_id</th>\n",
       "      <th>business_id</th>\n",
       "      <th>stars</th>\n",
       "      <th>date</th>\n",
       "      <th>text</th>\n",
       "      <th>useful</th>\n",
       "      <th>funny</th>\n",
       "      <th>cool</th>\n",
       "    </tr>\n",
       "  </thead>\n",
       "  <tbody>\n",
       "    <tr>\n",
       "      <th>0</th>\n",
       "      <td>vkVSCC7xljjrAI4UGfnKEQ</td>\n",
       "      <td>bv2nCi5Qv5vroFiqKGopiw</td>\n",
       "      <td>AEx2SYEUJmTxVVB18LlCwA</td>\n",
       "      <td>5</td>\n",
       "      <td>2016-05-28</td>\n",
       "      <td>Super simple place but amazing nonetheless. It's been around since the 30's and they still serve the same thing they started with: a bologna and salami sandwich with mustard. \\n\\nStaff was very helpful and friendly.</td>\n",
       "      <td>0</td>\n",
       "      <td>0</td>\n",
       "      <td>0</td>\n",
       "    </tr>\n",
       "    <tr>\n",
       "      <th>1</th>\n",
       "      <td>n6QzIUObkYshz4dz2QRJTw</td>\n",
       "      <td>bv2nCi5Qv5vroFiqKGopiw</td>\n",
       "      <td>VR6GpWIda3SfvPC-lg9H3w</td>\n",
       "      <td>5</td>\n",
       "      <td>2016-05-28</td>\n",
       "      <td>Small unassuming place that changes their menu every so often. Cool decor and vibe inside their 30 seat restaurant. Call for a reservation. \\n\\nWe had their beef tartar and pork belly to start and a salmon dish and lamb meal for mains. Everything was incredible! I could go on at length about how all the listed ingredients really make their dishes amazing but honestly you just need to go. \\n\\nA bit outside of downtown montreal but take the metro out and it's less than a 10 minute walk from the station.</td>\n",
       "      <td>0</td>\n",
       "      <td>0</td>\n",
       "      <td>0</td>\n",
       "    </tr>\n",
       "    <tr>\n",
       "      <th>2</th>\n",
       "      <td>MV3CcKScW05u5LVfF6ok0g</td>\n",
       "      <td>bv2nCi5Qv5vroFiqKGopiw</td>\n",
       "      <td>CKC0-MOWMqoeWf6s-szl8g</td>\n",
       "      <td>5</td>\n",
       "      <td>2016-05-28</td>\n",
       "      <td>Lester's is located in a beautiful neighborhood and has been there since 1951. They are known for smoked meat which most deli's have but their brisket sandwich is what I come to montreal for. They've got about 12 seats outside to go along with the inside. \\n\\nThe smoked meat is up there in quality and taste with Schwartz's and you'll find less tourists at Lester's as well.</td>\n",
       "      <td>0</td>\n",
       "      <td>0</td>\n",
       "      <td>0</td>\n",
       "    </tr>\n",
       "    <tr>\n",
       "      <th>3</th>\n",
       "      <td>IXvOzsEMYtiJI0CARmj77Q</td>\n",
       "      <td>bv2nCi5Qv5vroFiqKGopiw</td>\n",
       "      <td>ACFtxLv8pGrrxMm6EgjreA</td>\n",
       "      <td>4</td>\n",
       "      <td>2016-05-28</td>\n",
       "      <td>Love coming here. Yes the place always needs the floor swept but when you give out  peanuts in the shell how won't it always be a bit dirty. \\n\\nThe food speaks for itself, so good. Burgers are made to order and the meat is put on the grill when you order your sandwich. Getting the small burger just means 1 patty, the regular is a 2 patty burger which is twice the deliciousness. \\n\\nGetting the Cajun fries adds a bit of spice to them and whatever size you order they always throw more fries (a lot more fries) into the bag.</td>\n",
       "      <td>0</td>\n",
       "      <td>0</td>\n",
       "      <td>0</td>\n",
       "    </tr>\n",
       "    <tr>\n",
       "      <th>4</th>\n",
       "      <td>L_9BTb55X0GDtThi6GlZ6w</td>\n",
       "      <td>bv2nCi5Qv5vroFiqKGopiw</td>\n",
       "      <td>s2I_Ni76bjJNK9yG60iD-Q</td>\n",
       "      <td>4</td>\n",
       "      <td>2016-05-28</td>\n",
       "      <td>Had their chocolate almond croissant and it was amazing! So light and buttery and oh my how chocolaty.\\n\\nIf you're looking for a light breakfast then head out here. Perfect spot for a coffee\\/latté before heading out to the old port</td>\n",
       "      <td>0</td>\n",
       "      <td>0</td>\n",
       "      <td>0</td>\n",
       "    </tr>\n",
       "  </tbody>\n",
       "</table>\n",
       "</div>"
      ],
      "text/plain": [
       "                review_id                 user_id             business_id  \\\n",
       "0  vkVSCC7xljjrAI4UGfnKEQ  bv2nCi5Qv5vroFiqKGopiw  AEx2SYEUJmTxVVB18LlCwA   \n",
       "1  n6QzIUObkYshz4dz2QRJTw  bv2nCi5Qv5vroFiqKGopiw  VR6GpWIda3SfvPC-lg9H3w   \n",
       "2  MV3CcKScW05u5LVfF6ok0g  bv2nCi5Qv5vroFiqKGopiw  CKC0-MOWMqoeWf6s-szl8g   \n",
       "3  IXvOzsEMYtiJI0CARmj77Q  bv2nCi5Qv5vroFiqKGopiw  ACFtxLv8pGrrxMm6EgjreA   \n",
       "4  L_9BTb55X0GDtThi6GlZ6w  bv2nCi5Qv5vroFiqKGopiw  s2I_Ni76bjJNK9yG60iD-Q   \n",
       "\n",
       "   stars        date  \\\n",
       "0      5  2016-05-28   \n",
       "1      5  2016-05-28   \n",
       "2      5  2016-05-28   \n",
       "3      4  2016-05-28   \n",
       "4      4  2016-05-28   \n",
       "\n",
       "                                                                                                                                                                                                                                                                                                                                                                                                                                                                                                                                              text  \\\n",
       "0                                                                                                                                                                                                                                                                                                                          Super simple place but amazing nonetheless. It's been around since the 30's and they still serve the same thing they started with: a bologna and salami sandwich with mustard. \\n\\nStaff was very helpful and friendly.   \n",
       "1                       Small unassuming place that changes their menu every so often. Cool decor and vibe inside their 30 seat restaurant. Call for a reservation. \\n\\nWe had their beef tartar and pork belly to start and a salmon dish and lamb meal for mains. Everything was incredible! I could go on at length about how all the listed ingredients really make their dishes amazing but honestly you just need to go. \\n\\nA bit outside of downtown montreal but take the metro out and it's less than a 10 minute walk from the station.   \n",
       "2                                                                                                                                                          Lester's is located in a beautiful neighborhood and has been there since 1951. They are known for smoked meat which most deli's have but their brisket sandwich is what I come to montreal for. They've got about 12 seats outside to go along with the inside. \\n\\nThe smoked meat is up there in quality and taste with Schwartz's and you'll find less tourists at Lester's as well.   \n",
       "3  Love coming here. Yes the place always needs the floor swept but when you give out  peanuts in the shell how won't it always be a bit dirty. \\n\\nThe food speaks for itself, so good. Burgers are made to order and the meat is put on the grill when you order your sandwich. Getting the small burger just means 1 patty, the regular is a 2 patty burger which is twice the deliciousness. \\n\\nGetting the Cajun fries adds a bit of spice to them and whatever size you order they always throw more fries (a lot more fries) into the bag.   \n",
       "4                                                                                                                                                                                                                                                                                                        Had their chocolate almond croissant and it was amazing! So light and buttery and oh my how chocolaty.\\n\\nIf you're looking for a light breakfast then head out here. Perfect spot for a coffee\\/latté before heading out to the old port   \n",
       "\n",
       "   useful  funny  cool  \n",
       "0       0      0     0  \n",
       "1       0      0     0  \n",
       "2       0      0     0  \n",
       "3       0      0     0  \n",
       "4       0      0     0  "
      ]
     },
     "execution_count": 26,
     "metadata": {},
     "output_type": "execute_result"
    }
   ],
   "source": [
    "df = pd.read_csv('data/smaller/yelp_review.csv')\n",
    "df.head()"
   ]
  },
  {
   "cell_type": "code",
   "execution_count": 27,
   "metadata": {},
   "outputs": [],
   "source": [
    "pd.set_option('display.max_colwidth', None)"
   ]
  },
  {
   "cell_type": "code",
   "execution_count": 28,
   "metadata": {},
   "outputs": [
    {
     "data": {
      "text/html": [
       "<div>\n",
       "<style scoped>\n",
       "    .dataframe tbody tr th:only-of-type {\n",
       "        vertical-align: middle;\n",
       "    }\n",
       "\n",
       "    .dataframe tbody tr th {\n",
       "        vertical-align: top;\n",
       "    }\n",
       "\n",
       "    .dataframe thead th {\n",
       "        text-align: right;\n",
       "    }\n",
       "</style>\n",
       "<table border=\"1\" class=\"dataframe\">\n",
       "  <thead>\n",
       "    <tr style=\"text-align: right;\">\n",
       "      <th></th>\n",
       "      <th>review_id</th>\n",
       "      <th>user_id</th>\n",
       "      <th>business_id</th>\n",
       "      <th>stars</th>\n",
       "      <th>date</th>\n",
       "      <th>text</th>\n",
       "      <th>useful</th>\n",
       "      <th>funny</th>\n",
       "      <th>cool</th>\n",
       "    </tr>\n",
       "  </thead>\n",
       "  <tbody>\n",
       "    <tr>\n",
       "      <th>8</th>\n",
       "      <td>w41ZS9shepfO3uEyhXEWuQ</td>\n",
       "      <td>u0LXt3Uea_GidxRW1xcsfg</td>\n",
       "      <td>5r6-G9C4YLbC7Ziz57l3rQ</td>\n",
       "      <td>3</td>\n",
       "      <td>2013-02-09</td>\n",
       "      <td>Not bad!! Love that there is a gluten-free, vegan version of the cheese curds and gravy!!\\n\\nHaven't done the poutine taste test yet with smoke's but Im excited to see which is better. However poutini's might win as they are vegan and gluten-free</td>\n",
       "      <td>1</td>\n",
       "      <td>0</td>\n",
       "      <td>0</td>\n",
       "    </tr>\n",
       "    <tr>\n",
       "      <th>11</th>\n",
       "      <td>PdZ_uFjbbkjtm3SCY_KrZw</td>\n",
       "      <td>u0LXt3Uea_GidxRW1xcsfg</td>\n",
       "      <td>XWTPNfskXoUL-Lf32wSk0Q</td>\n",
       "      <td>3</td>\n",
       "      <td>2011-09-28</td>\n",
       "      <td>Server was a little rude.\\n\\nOrdered the calamari, duck confit poutine and the trout fish with miso soba - all very tasty. Definitely not your typical diner.</td>\n",
       "      <td>5</td>\n",
       "      <td>0</td>\n",
       "      <td>1</td>\n",
       "    </tr>\n",
       "    <tr>\n",
       "      <th>13</th>\n",
       "      <td>lsoSqIrrDbQvWpMvsSj2xw</td>\n",
       "      <td>u0LXt3Uea_GidxRW1xcsfg</td>\n",
       "      <td>RtUvSWO_UZ8V3Wpj0n077w</td>\n",
       "      <td>3</td>\n",
       "      <td>2012-12-03</td>\n",
       "      <td>Wanted to check out this place due to all the hype I had heard. My friend wanted to come here for her birthday. We had a group of seven and based on the way the seating works (as it is communal), we wind up sharing with another group of five. \\n\\nFood was ok - not sure what the hype was. Almost 75% of the dishes had some sort of cheese in it.\\n\\nThis place is very loud so not ideal for catching up\\/talking. Not a great place to go if you have any gluten or vegan restrictions.\\n\\nInteresting concept. Would definitely recommend to try this place once - but definitely not worth the 30- 45 mins wait.</td>\n",
       "      <td>2</td>\n",
       "      <td>1</td>\n",
       "      <td>1</td>\n",
       "    </tr>\n",
       "    <tr>\n",
       "      <th>17</th>\n",
       "      <td>xdu8nXrbNKeaywCX79KZSw</td>\n",
       "      <td>u0LXt3Uea_GidxRW1xcsfg</td>\n",
       "      <td>PFPUMF38-lraKzLcTiz5gQ</td>\n",
       "      <td>3</td>\n",
       "      <td>2010-09-15</td>\n",
       "      <td>Came here with my girlfriends one Sunday afternoon. This place will take a long time to serve your food - as it took them almost an hour to give us our food. So make sure you give yourself lots of time! It is definitely a lazy brunch place!\\n\\nDefinitely recommend the pancakes! Beware of the portion sizes - they are huge!</td>\n",
       "      <td>2</td>\n",
       "      <td>0</td>\n",
       "      <td>0</td>\n",
       "    </tr>\n",
       "    <tr>\n",
       "      <th>18</th>\n",
       "      <td>K7o5jDInfmX3cY5oH6ATNw</td>\n",
       "      <td>u0LXt3Uea_GidxRW1xcsfg</td>\n",
       "      <td>oWTn2IzrprsRkPfULtjZtQ</td>\n",
       "      <td>3</td>\n",
       "      <td>2012-09-23</td>\n",
       "      <td>Came here for a burger as one of my friends said they had good burgers and people from work would come by twice a month for a burger run.\\n\\nOrdered the original was was ok, wasn't as amazing as everyone says it to be. I think the veggie option would have been better.\\n\\nA little pricy for a take-out burger.</td>\n",
       "      <td>4</td>\n",
       "      <td>0</td>\n",
       "      <td>0</td>\n",
       "    </tr>\n",
       "    <tr>\n",
       "      <th>...</th>\n",
       "      <td>...</td>\n",
       "      <td>...</td>\n",
       "      <td>...</td>\n",
       "      <td>...</td>\n",
       "      <td>...</td>\n",
       "      <td>...</td>\n",
       "      <td>...</td>\n",
       "      <td>...</td>\n",
       "      <td>...</td>\n",
       "    </tr>\n",
       "    <tr>\n",
       "      <th>5261654</th>\n",
       "      <td>W63llfTEM02-WpKBA2P9pQ</td>\n",
       "      <td>mPjPyipaD0C_myqWqDipZg</td>\n",
       "      <td>KqtmbsZUDNNspTp1Yn2Mtw</td>\n",
       "      <td>3</td>\n",
       "      <td>2012-08-30</td>\n",
       "      <td>They do deep tissue massage which most Chinese massage places provide but at a more attractive rate.\\n\\nComfort Zone Price:\\n\\n$38 for 45min\\n\\nMonday - Thursday before 7:00pm:  $30.\\n\\nPlace is very clean and busy.  Front desk girl is just interested in money (I guess), I feel like they over booked me and just opened a table in one of the room which had 3 chairs\\/couch (for foot massage).  Space was so tight the girl cannot even go around the table and had to push the table every time she wanted to come around (annoying noise).\\n\\nAt the end of the Massage, went back to front desk, handed over $40 and asked for $5 return and told the girl to give the masseuse the other $5.  She said 'oh'...and put the $5 in the drawer and went on doing whatever she was doing.\\n\\nP.S.  RMT receipt price: $70</td>\n",
       "      <td>5</td>\n",
       "      <td>2</td>\n",
       "      <td>0</td>\n",
       "    </tr>\n",
       "    <tr>\n",
       "      <th>5261655</th>\n",
       "      <td>C0uT2UJQ3yz9hqE4h3sy2A</td>\n",
       "      <td>mPjPyipaD0C_myqWqDipZg</td>\n",
       "      <td>n0NH0FW8NU3zfeJY3QluMQ</td>\n",
       "      <td>3</td>\n",
       "      <td>2015-10-25</td>\n",
       "      <td>Went in for a snack on a sat night.   Bar area was pretty pack, restaurant side was pretty dead. \\n\\nSat in the restaurant side.   Service was non existent as the section was dead and the server would disappear after bringing the food. \\n\\nTypical bar food,  nothing special.</td>\n",
       "      <td>1</td>\n",
       "      <td>0</td>\n",
       "      <td>0</td>\n",
       "    </tr>\n",
       "    <tr>\n",
       "      <th>5261664</th>\n",
       "      <td>-CJNPrDWgIkorx4iEZJXIg</td>\n",
       "      <td>mPjPyipaD0C_myqWqDipZg</td>\n",
       "      <td>pOEL97ld-FJMKO8Ki8JmYg</td>\n",
       "      <td>3</td>\n",
       "      <td>2016-04-30</td>\n",
       "      <td>Spring rolls was pretty good, cod was a bit raw\\/cold in the middle. Server was too cool..... As if he's doing us a favour.</td>\n",
       "      <td>0</td>\n",
       "      <td>0</td>\n",
       "      <td>0</td>\n",
       "    </tr>\n",
       "    <tr>\n",
       "      <th>5261666</th>\n",
       "      <td>hqQ1UTFKMN2P1ezUow48OQ</td>\n",
       "      <td>mPjPyipaD0C_myqWqDipZg</td>\n",
       "      <td>EO3i5kTUG7_S2OIQ23sdSA</td>\n",
       "      <td>3</td>\n",
       "      <td>2011-11-07</td>\n",
       "      <td>A small, cozy family run Authentic korean restaurant.  Chris Lee - the owner is very friendly and courteous.  The price is generally about 25% more than other restaurants in the area.\\n\\nOrdered a whole bunch of food to share including:\\n\\n1) Pork Bone Soup - $9.99\\n2) Samgyeopsal - BBQ Bacon and soup (for 2 ppl) - $32.99\\n3) &amp; 4)  Bibimbap - $??\\n5) Side dishes - Free\\n\\n\\n1) Pork bone soup is really good, the consistency of the soup is slightly thicker than what you would get from any other place.  This is because of the potatoes in the soup and is really delicious.  It used to come with the Korean multigrain \\/ five grain rice (Ogokbap), but this time they served it with white rice.  When asked, Chris said that due to the raising cost, they are now serving with white rice - Generally not a good sign when they start to cut corners.\\n\\n2) I personally don't find anything special about this dish and find it a bit over priced.  They bring a grill to your table and a whole plate of fatty pork (uncured bacon).  You grill the meat, wrap it in lettuce, put some bean paste....A-OK, nothing really wowed me.  The combo also comes with a soup.  \\n\\n3) &amp; 4) Got two different Bibimbap, one was plain rice with beef, some veggies.  They give you hot sauce  and sesame oil to add.  The second one was kim - Chee Bibimbap.  Both of them  comes with fried egg and served in traditional stone bowl.  I am not 100% sure, but I believe they were about $12.99 for each.  Once again, a bit over priced, however it was good.\\n\\n5)  Side dishes are really good and I think they make these themselves.  I particularly love their Kim Chi.  The only other place where I have seen\\/tasted this kind of kim chi is in Korea.  It's hard to explain, but this is as authentic as it's going to get.\\n\\nAll in all the food is pretty good, I would give it 3.5*.  The owner is really friendly and always checking if everything is ok.  The only complain is the price point seems to be a bit off, If it was 25% cheaper, This would be one of my regular spot.</td>\n",
       "      <td>2</td>\n",
       "      <td>0</td>\n",
       "      <td>0</td>\n",
       "    </tr>\n",
       "    <tr>\n",
       "      <th>5261667</th>\n",
       "      <td>ldsIs3sGXPJ7WM7VyAm4lQ</td>\n",
       "      <td>mPjPyipaD0C_myqWqDipZg</td>\n",
       "      <td>HloEEXm_QzEpycuwA_RtQA</td>\n",
       "      <td>3</td>\n",
       "      <td>2011-11-15</td>\n",
       "      <td>Really nice atmosphere and settings and very clean.  The food was sub-keg and the service was definitely under par.\\n\\nWent with a group of people, after taking the initial order, our server seems to have disappeared.  We were missing some water and had to wave down another waiter to ask for our waiter.  Asked for the water, and once again he disappeared and no water.  Kindda annoying.\\n\\nSteak was unevenly cooked.  Asked for a medium well rib steak, half of my steak was medium and the other half was well......kindda gives a different meaning to medium well.  \\n\\nOne of the person in the group also found hair(s) in her food.  She opted not to eat after that, In all fairness the Manager came by to make sure if there wasn't anything he can do.  Since she was disgusted, she did not wanted a replacement.\\n\\nThe manager however offered us two pieces of cheese cake at no charge.\\n\\nAll in all, it was A-OK, the best part is the atmosphere, that's about it.</td>\n",
       "      <td>0</td>\n",
       "      <td>1</td>\n",
       "      <td>1</td>\n",
       "    </tr>\n",
       "  </tbody>\n",
       "</table>\n",
       "<p>615481 rows × 9 columns</p>\n",
       "</div>"
      ],
      "text/plain": [
       "                      review_id                 user_id  \\\n",
       "8        w41ZS9shepfO3uEyhXEWuQ  u0LXt3Uea_GidxRW1xcsfg   \n",
       "11       PdZ_uFjbbkjtm3SCY_KrZw  u0LXt3Uea_GidxRW1xcsfg   \n",
       "13       lsoSqIrrDbQvWpMvsSj2xw  u0LXt3Uea_GidxRW1xcsfg   \n",
       "17       xdu8nXrbNKeaywCX79KZSw  u0LXt3Uea_GidxRW1xcsfg   \n",
       "18       K7o5jDInfmX3cY5oH6ATNw  u0LXt3Uea_GidxRW1xcsfg   \n",
       "...                         ...                     ...   \n",
       "5261654  W63llfTEM02-WpKBA2P9pQ  mPjPyipaD0C_myqWqDipZg   \n",
       "5261655  C0uT2UJQ3yz9hqE4h3sy2A  mPjPyipaD0C_myqWqDipZg   \n",
       "5261664  -CJNPrDWgIkorx4iEZJXIg  mPjPyipaD0C_myqWqDipZg   \n",
       "5261666  hqQ1UTFKMN2P1ezUow48OQ  mPjPyipaD0C_myqWqDipZg   \n",
       "5261667  ldsIs3sGXPJ7WM7VyAm4lQ  mPjPyipaD0C_myqWqDipZg   \n",
       "\n",
       "                    business_id  stars        date  \\\n",
       "8        5r6-G9C4YLbC7Ziz57l3rQ      3  2013-02-09   \n",
       "11       XWTPNfskXoUL-Lf32wSk0Q      3  2011-09-28   \n",
       "13       RtUvSWO_UZ8V3Wpj0n077w      3  2012-12-03   \n",
       "17       PFPUMF38-lraKzLcTiz5gQ      3  2010-09-15   \n",
       "18       oWTn2IzrprsRkPfULtjZtQ      3  2012-09-23   \n",
       "...                         ...    ...         ...   \n",
       "5261654  KqtmbsZUDNNspTp1Yn2Mtw      3  2012-08-30   \n",
       "5261655  n0NH0FW8NU3zfeJY3QluMQ      3  2015-10-25   \n",
       "5261664  pOEL97ld-FJMKO8Ki8JmYg      3  2016-04-30   \n",
       "5261666  EO3i5kTUG7_S2OIQ23sdSA      3  2011-11-07   \n",
       "5261667  HloEEXm_QzEpycuwA_RtQA      3  2011-11-15   \n",
       "\n",
       "                                                                                                                                                                                                                                                                                                                                                                                                                                                                                                                                                                                                                                                                                                                                                                                                                                                                                                                                                                                                                                                                                                                                                                                                                                                                                                                                                                                                                                                                                                                                                                                                                                                                                                                                                                                                                                                                                                                                                                                                                                                                                                                            text  \\\n",
       "8                                                                                                                                                                                                                                                                                                                                                                                                                                                                                                                                                                                                                                                                                                                                                                                                                                                                                                                                                                                                                                                                                                                                                                                                                                                                                                                                                                                                                                                                                                                                                                                                                                                                                                                                                                                                                                                                         Not bad!! Love that there is a gluten-free, vegan version of the cheese curds and gravy!!\\n\\nHaven't done the poutine taste test yet with smoke's but Im excited to see which is better. However poutini's might win as they are vegan and gluten-free   \n",
       "11                                                                                                                                                                                                                                                                                                                                                                                                                                                                                                                                                                                                                                                                                                                                                                                                                                                                                                                                                                                                                                                                                                                                                                                                                                                                                                                                                                                                                                                                                                                                                                                                                                                                                                                                                                                                                                                                                                                                                                 Server was a little rude.\\n\\nOrdered the calamari, duck confit poutine and the trout fish with miso soba - all very tasty. Definitely not your typical diner.   \n",
       "13                                                                                                                                                                                                                                                                                                                                                                                                                                                                                                                                                                                                                                                                                                                                                                                                                                                                                                                                                                                                                                                                                                                                                                                                                                                                                                                                                                                                                                                                                                   Wanted to check out this place due to all the hype I had heard. My friend wanted to come here for her birthday. We had a group of seven and based on the way the seating works (as it is communal), we wind up sharing with another group of five. \\n\\nFood was ok - not sure what the hype was. Almost 75% of the dishes had some sort of cheese in it.\\n\\nThis place is very loud so not ideal for catching up\\/talking. Not a great place to go if you have any gluten or vegan restrictions.\\n\\nInteresting concept. Would definitely recommend to try this place once - but definitely not worth the 30- 45 mins wait.   \n",
       "17                                                                                                                                                                                                                                                                                                                                                                                                                                                                                                                                                                                                                                                                                                                                                                                                                                                                                                                                                                                                                                                                                                                                                                                                                                                                                                                                                                                                                                                                                                                                                                                                                                                                                                                                                                                           Came here with my girlfriends one Sunday afternoon. This place will take a long time to serve your food - as it took them almost an hour to give us our food. So make sure you give yourself lots of time! It is definitely a lazy brunch place!\\n\\nDefinitely recommend the pancakes! Beware of the portion sizes - they are huge!   \n",
       "18                                                                                                                                                                                                                                                                                                                                                                                                                                                                                                                                                                                                                                                                                                                                                                                                                                                                                                                                                                                                                                                                                                                                                                                                                                                                                                                                                                                                                                                                                                                                                                                                                                                                                                                                                                                                         Came here for a burger as one of my friends said they had good burgers and people from work would come by twice a month for a burger run.\\n\\nOrdered the original was was ok, wasn't as amazing as everyone says it to be. I think the veggie option would have been better.\\n\\nA little pricy for a take-out burger.   \n",
       "...                                                                                                                                                                                                                                                                                                                                                                                                                                                                                                                                                                                                                                                                                                                                                                                                                                                                                                                                                                                                                                                                                                                                                                                                                                                                                                                                                                                                                                                                                                                                                                                                                                                                                                                                                                                                                                                                                                                                                                                                                                                                                                                          ...   \n",
       "5261654                                                                                                                                                                                                                                                                                                                                                                                                                                                                                                                                                                                                                                                                                                                                                                                                                                                                                                                                                                                                                                                                                                                                                                                                                                                                                       They do deep tissue massage which most Chinese massage places provide but at a more attractive rate.\\n\\nComfort Zone Price:\\n\\n$38 for 45min\\n\\nMonday - Thursday before 7:00pm:  $30.\\n\\nPlace is very clean and busy.  Front desk girl is just interested in money (I guess), I feel like they over booked me and just opened a table in one of the room which had 3 chairs\\/couch (for foot massage).  Space was so tight the girl cannot even go around the table and had to push the table every time she wanted to come around (annoying noise).\\n\\nAt the end of the Massage, went back to front desk, handed over $40 and asked for $5 return and told the girl to give the masseuse the other $5.  She said 'oh'...and put the $5 in the drawer and went on doing whatever she was doing.\\n\\nP.S.  RMT receipt price: $70   \n",
       "5261655                                                                                                                                                                                                                                                                                                                                                                                                                                                                                                                                                                                                                                                                                                                                                                                                                                                                                                                                                                                                                                                                                                                                                                                                                                                                                                                                                                                                                                                                                                                                                                                                                                                                                                                                                                                                                                      Went in for a snack on a sat night.   Bar area was pretty pack, restaurant side was pretty dead. \\n\\nSat in the restaurant side.   Service was non existent as the section was dead and the server would disappear after bringing the food. \\n\\nTypical bar food,  nothing special.   \n",
       "5261664                                                                                                                                                                                                                                                                                                                                                                                                                                                                                                                                                                                                                                                                                                                                                                                                                                                                                                                                                                                                                                                                                                                                                                                                                                                                                                                                                                                                                                                                                                                                                                                                                                                                                                                                                                                                                                                                                                                                                                                              Spring rolls was pretty good, cod was a bit raw\\/cold in the middle. Server was too cool..... As if he's doing us a favour.   \n",
       "5261666  A small, cozy family run Authentic korean restaurant.  Chris Lee - the owner is very friendly and courteous.  The price is generally about 25% more than other restaurants in the area.\\n\\nOrdered a whole bunch of food to share including:\\n\\n1) Pork Bone Soup - $9.99\\n2) Samgyeopsal - BBQ Bacon and soup (for 2 ppl) - $32.99\\n3) & 4)  Bibimbap - $??\\n5) Side dishes - Free\\n\\n\\n1) Pork bone soup is really good, the consistency of the soup is slightly thicker than what you would get from any other place.  This is because of the potatoes in the soup and is really delicious.  It used to come with the Korean multigrain \\/ five grain rice (Ogokbap), but this time they served it with white rice.  When asked, Chris said that due to the raising cost, they are now serving with white rice - Generally not a good sign when they start to cut corners.\\n\\n2) I personally don't find anything special about this dish and find it a bit over priced.  They bring a grill to your table and a whole plate of fatty pork (uncured bacon).  You grill the meat, wrap it in lettuce, put some bean paste....A-OK, nothing really wowed me.  The combo also comes with a soup.  \\n\\n3) & 4) Got two different Bibimbap, one was plain rice with beef, some veggies.  They give you hot sauce  and sesame oil to add.  The second one was kim - Chee Bibimbap.  Both of them  comes with fried egg and served in traditional stone bowl.  I am not 100% sure, but I believe they were about $12.99 for each.  Once again, a bit over priced, however it was good.\\n\\n5)  Side dishes are really good and I think they make these themselves.  I particularly love their Kim Chi.  The only other place where I have seen\\/tasted this kind of kim chi is in Korea.  It's hard to explain, but this is as authentic as it's going to get.\\n\\nAll in all the food is pretty good, I would give it 3.5*.  The owner is really friendly and always checking if everything is ok.  The only complain is the price point seems to be a bit off, If it was 25% cheaper, This would be one of my regular spot.   \n",
       "5261667                                                                                                                                                                                                                                                                                                                                                                                                                                                                                                                                                                                                                                                                                                                                                                                                                                                                                                                                                                                                                                                                                                                      Really nice atmosphere and settings and very clean.  The food was sub-keg and the service was definitely under par.\\n\\nWent with a group of people, after taking the initial order, our server seems to have disappeared.  We were missing some water and had to wave down another waiter to ask for our waiter.  Asked for the water, and once again he disappeared and no water.  Kindda annoying.\\n\\nSteak was unevenly cooked.  Asked for a medium well rib steak, half of my steak was medium and the other half was well......kindda gives a different meaning to medium well.  \\n\\nOne of the person in the group also found hair(s) in her food.  She opted not to eat after that, In all fairness the Manager came by to make sure if there wasn't anything he can do.  Since she was disgusted, she did not wanted a replacement.\\n\\nThe manager however offered us two pieces of cheese cake at no charge.\\n\\nAll in all, it was A-OK, the best part is the atmosphere, that's about it.   \n",
       "\n",
       "         useful  funny  cool  \n",
       "8             1      0     0  \n",
       "11            5      0     1  \n",
       "13            2      1     1  \n",
       "17            2      0     0  \n",
       "18            4      0     0  \n",
       "...         ...    ...   ...  \n",
       "5261654       5      2     0  \n",
       "5261655       1      0     0  \n",
       "5261664       0      0     0  \n",
       "5261666       2      0     0  \n",
       "5261667       0      1     1  \n",
       "\n",
       "[615481 rows x 9 columns]"
      ]
     },
     "execution_count": 28,
     "metadata": {},
     "output_type": "execute_result"
    }
   ],
   "source": [
    "df[df['stars'] == 3]"
   ]
  },
  {
   "cell_type": "code",
   "execution_count": 29,
   "metadata": {},
   "outputs": [
    {
     "data": {
      "text/plain": [
       "(5261668, 9)"
      ]
     },
     "execution_count": 29,
     "metadata": {},
     "output_type": "execute_result"
    }
   ],
   "source": [
    "df.shape"
   ]
  },
  {
   "cell_type": "code",
   "execution_count": 30,
   "metadata": {},
   "outputs": [
    {
     "name": "stdout",
     "output_type": "stream",
     "text": [
      "<class 'pandas.core.frame.DataFrame'>\n",
      "RangeIndex: 5261668 entries, 0 to 5261667\n",
      "Data columns (total 9 columns):\n",
      " #   Column       Dtype \n",
      "---  ------       ----- \n",
      " 0   review_id    object\n",
      " 1   user_id      object\n",
      " 2   business_id  object\n",
      " 3   stars        int64 \n",
      " 4   date         object\n",
      " 5   text         object\n",
      " 6   useful       int64 \n",
      " 7   funny        int64 \n",
      " 8   cool         int64 \n",
      "dtypes: int64(4), object(5)\n",
      "memory usage: 361.3+ MB\n"
     ]
    }
   ],
   "source": [
    "df.info()"
   ]
  },
  {
   "cell_type": "code",
   "execution_count": 31,
   "metadata": {},
   "outputs": [
    {
     "data": {
      "text/plain": [
       "review_id  user_id  business_id  stars  date   text   useful  funny  cool \n",
       "False      False    False        False  False  False  False   False  False    5261668\n",
       "dtype: int64"
      ]
     },
     "execution_count": 31,
     "metadata": {},
     "output_type": "execute_result"
    }
   ],
   "source": [
    "df.isna().value_counts()"
   ]
  },
  {
   "cell_type": "code",
   "execution_count": 32,
   "metadata": {},
   "outputs": [],
   "source": [
    "df['date'] = pd.to_datetime(df['date'])"
   ]
  },
  {
   "cell_type": "code",
   "execution_count": 33,
   "metadata": {
    "scrolled": false
   },
   "outputs": [
    {
     "name": "stdout",
     "output_type": "stream",
     "text": [
      "<class 'pandas.core.frame.DataFrame'>\n",
      "RangeIndex: 5261668 entries, 0 to 5261667\n",
      "Data columns (total 9 columns):\n",
      " #   Column       Dtype         \n",
      "---  ------       -----         \n",
      " 0   review_id    object        \n",
      " 1   user_id      object        \n",
      " 2   business_id  object        \n",
      " 3   stars        int64         \n",
      " 4   date         datetime64[ns]\n",
      " 5   text         object        \n",
      " 6   useful       int64         \n",
      " 7   funny        int64         \n",
      " 8   cool         int64         \n",
      "dtypes: datetime64[ns](1), int64(4), object(4)\n",
      "memory usage: 361.3+ MB\n"
     ]
    }
   ],
   "source": [
    "df.info()"
   ]
  },
  {
   "cell_type": "markdown",
   "metadata": {},
   "source": [
    "# Data Understanding"
   ]
  },
  {
   "cell_type": "code",
   "execution_count": 34,
   "metadata": {},
   "outputs": [],
   "source": [
    "import numpy as np\n",
    "import pandas as pd\n",
    "from os import path\n",
    "from PIL import Image\n",
    "from wordcloud import WordCloud, STOPWORDS, ImageColorGenerator\n",
    "\n",
    "import matplotlib.pyplot as plt\n",
    "%matplotlib inline"
   ]
  },
  {
   "cell_type": "code",
   "execution_count": 43,
   "metadata": {},
   "outputs": [],
   "source": [
    "eda = df.sample(500000, random_state = 42)"
   ]
  },
  {
   "cell_type": "markdown",
   "metadata": {},
   "source": [
    "#### Wordcloud"
   ]
  },
  {
   "cell_type": "code",
   "execution_count": 44,
   "metadata": {},
   "outputs": [
    {
     "name": "stderr",
     "output_type": "stream",
     "text": [
      "[nltk_data] Downloading package stopwords to\n",
      "[nltk_data]     C:\\Users\\nehcr\\AppData\\Roaming\\nltk_data...\n",
      "[nltk_data]   Package stopwords is already up-to-date!\n"
     ]
    }
   ],
   "source": [
    "# stopwords\n",
    "\n",
    "import nltk\n",
    "nltk.download('stopwords')\n",
    "\n",
    "stopwords_list = stopwords.words('english') + list(string.punctuation)\n",
    "stopwords_list += [\"''\", '\"\"', '...', '``', '-', \"'\"]"
   ]
  },
  {
   "cell_type": "code",
   "execution_count": 45,
   "metadata": {},
   "outputs": [
    {
     "name": "stderr",
     "output_type": "stream",
     "text": [
      "[nltk_data] Downloading package punkt to\n",
      "[nltk_data]     C:\\Users\\nehcr\\AppData\\Roaming\\nltk_data...\n",
      "[nltk_data]   Package punkt is already up-to-date!\n"
     ]
    }
   ],
   "source": [
    "# function for removing stopwords\n",
    "\n",
    "nltk.download('punkt')\n",
    "\n",
    "def process_article(article):\n",
    "    tokens = nltk.word_tokenize(article)\n",
    "    stopwords_removed = [token.lower() for token in tokens if token.lower() not in stopwords_list]\n",
    "    return stopwords_removed    "
   ]
  },
  {
   "cell_type": "code",
   "execution_count": 46,
   "metadata": {},
   "outputs": [],
   "source": [
    "text = eda['text']"
   ]
  },
  {
   "cell_type": "code",
   "execution_count": null,
   "metadata": {},
   "outputs": [],
   "source": [
    "processed_eda = list(map(process_article, text))"
   ]
  },
  {
   "cell_type": "code",
   "execution_count": null,
   "metadata": {},
   "outputs": [],
   "source": [
    "processed_eda"
   ]
  },
  {
   "cell_type": "code",
   "execution_count": null,
   "metadata": {},
   "outputs": [],
   "source": [
    "# Save the new processed data frame\n",
    "filename = 'pickle/processed_words'\n",
    "pickle.dump(processed_eda, open(filename, 'wb'))"
   ]
  },
  {
   "cell_type": "code",
   "execution_count": null,
   "metadata": {},
   "outputs": [],
   "source": [
    "processed_words = pickle.load(open('pickle/processed_words', 'rb'))"
   ]
  },
  {
   "cell_type": "code",
   "execution_count": null,
   "metadata": {},
   "outputs": [],
   "source": [
    "true_list = []\n",
    "for doc in processed_eda:\n",
    "    for x in doc:\n",
    "        true_list.append(x)"
   ]
  },
  {
   "cell_type": "code",
   "execution_count": null,
   "metadata": {},
   "outputs": [],
   "source": [
    "# Create and generate a word cloud image:\n",
    "wordcloud = WordCloud().generate(str(true_list))\n",
    "\n",
    "# Display the generated image:\n",
    "plt.figure(figsize = (15, 15))\n",
    "plt.imshow(wordcloud, interpolation='bilinear')\n",
    "plt.axis(\"off\")\n",
    "plt.show()"
   ]
  },
  {
   "cell_type": "markdown",
   "metadata": {},
   "source": [
    "#### Star Distribution"
   ]
  },
  {
   "cell_type": "code",
   "execution_count": 12,
   "metadata": {},
   "outputs": [
    {
     "data": {
      "text/plain": [
       "[2253347, 1223316, 731363, 615481, 438161]"
      ]
     },
     "execution_count": 12,
     "metadata": {},
     "output_type": "execute_result"
    }
   ],
   "source": [
    "list(eda['stars'].value_counts().values)"
   ]
  },
  {
   "cell_type": "code",
   "execution_count": 24,
   "metadata": {},
   "outputs": [
    {
     "data": {
      "image/png": "[encoded data removed]",
      "text/plain": [
       "<Figure size 1008x576 with 1 Axes>"
      ]
     },
     "metadata": {
      "needs_background": "light"
     },
     "output_type": "display_data"
    }
   ],
   "source": [
    "# ratings distribution\n",
    "fig, ax = plt.subplots(figsize = (14,8))\n",
    "plt.bar(eda[\"stars\"].value_counts().keys(), eda['stars'].value_counts().values)\n",
    "ax.set_xlabel('Star Ratings')\n",
    "ax.set_ylabel('Number of Ratings')\n",
    "ax.set_title('Class Distribution')\n",
    "\n",
    "plt.savefig('images/stars_distribution.png')"
   ]
  },
  {
   "cell_type": "markdown",
   "metadata": {},
   "source": [
    "# Modeling Preparation"
   ]
  },
  {
   "cell_type": "markdown",
   "metadata": {},
   "source": [
    "## Drop Neutral Reviews"
   ]
  },
  {
   "cell_type": "code",
   "execution_count": 10,
   "metadata": {},
   "outputs": [],
   "source": [
    "df.drop(df[df['stars'] == 3].index, inplace = True)"
   ]
  },
  {
   "cell_type": "code",
   "execution_count": 11,
   "metadata": {},
   "outputs": [
    {
     "data": {
      "text/plain": [
       "5    2253347\n",
       "4    1223316\n",
       "1     731363\n",
       "2     438161\n",
       "Name: stars, dtype: int64"
      ]
     },
     "execution_count": 11,
     "metadata": {},
     "output_type": "execute_result"
    }
   ],
   "source": [
    "df['stars'].value_counts()"
   ]
  },
  {
   "cell_type": "markdown",
   "metadata": {},
   "source": [
    "### Adding in Manually Classified Dataset"
   ]
  },
  {
   "cell_type": "code",
   "execution_count": null,
   "metadata": {},
   "outputs": [],
   "source": [
    "manual_classified = pd.read_csv('data/manual_classified.csv')"
   ]
  },
  {
   "cell_type": "code",
   "execution_count": null,
   "metadata": {},
   "outputs": [],
   "source": [
    "manual_classified.shape"
   ]
  },
  {
   "cell_type": "code",
   "execution_count": null,
   "metadata": {},
   "outputs": [],
   "source": [
    "manual_training = manual_classified.sample(150, random_state = 42)"
   ]
  },
  {
   "cell_type": "code",
   "execution_count": null,
   "metadata": {},
   "outputs": [],
   "source": [
    "manual_training.shape"
   ]
  },
  {
   "cell_type": "code",
   "execution_count": null,
   "metadata": {},
   "outputs": [],
   "source": [
    "manual_test = manual_classified[~manual_classified.index.isin(manual_training.index)]"
   ]
  },
  {
   "cell_type": "code",
   "execution_count": null,
   "metadata": {},
   "outputs": [],
   "source": [
    "manual_test.shape"
   ]
  },
  {
   "cell_type": "markdown",
   "metadata": {},
   "source": [
    "## Setting Target Variable"
   ]
  },
  {
   "cell_type": "code",
   "execution_count": null,
   "metadata": {},
   "outputs": [],
   "source": [
    "df['target'] = df['stars'] > 3"
   ]
  },
  {
   "cell_type": "code",
   "execution_count": 19,
   "metadata": {},
   "outputs": [
    {
     "data": {
      "text/html": [
       "<div>\n",
       "<style scoped>\n",
       "    .dataframe tbody tr th:only-of-type {\n",
       "        vertical-align: middle;\n",
       "    }\n",
       "\n",
       "    .dataframe tbody tr th {\n",
       "        vertical-align: top;\n",
       "    }\n",
       "\n",
       "    .dataframe thead th {\n",
       "        text-align: right;\n",
       "    }\n",
       "</style>\n",
       "<table border=\"1\" class=\"dataframe\">\n",
       "  <thead>\n",
       "    <tr style=\"text-align: right;\">\n",
       "      <th></th>\n",
       "      <th>review_id</th>\n",
       "      <th>user_id</th>\n",
       "      <th>business_id</th>\n",
       "      <th>stars</th>\n",
       "      <th>date</th>\n",
       "      <th>text</th>\n",
       "      <th>useful</th>\n",
       "      <th>funny</th>\n",
       "      <th>cool</th>\n",
       "      <th>target</th>\n",
       "    </tr>\n",
       "  </thead>\n",
       "  <tbody>\n",
       "    <tr>\n",
       "      <th>5261660</th>\n",
       "      <td>dyW1tIaWbm_RfCFCffY9yg</td>\n",
       "      <td>mPjPyipaD0C_myqWqDipZg</td>\n",
       "      <td>Dv0OHpQSL4hOGl2KAEVvlA</td>\n",
       "      <td>2</td>\n",
       "      <td>2012-05-05</td>\n",
       "      <td>Not much to write about, food is mediocre at best.  Atmosphere was bar style.\\n\\nAsked the server if they had 'Aged beef steak' she said 'they do not have HP steak, but she can bring the sauce on the side'</td>\n",
       "      <td>0</td>\n",
       "      <td>1</td>\n",
       "      <td>0</td>\n",
       "      <td>False</td>\n",
       "    </tr>\n",
       "    <tr>\n",
       "      <th>5261661</th>\n",
       "      <td>ZU2UF0YBkhQFctXH5Mry3A</td>\n",
       "      <td>mPjPyipaD0C_myqWqDipZg</td>\n",
       "      <td>CMkayuNDHPcd1dxO32kJyA</td>\n",
       "      <td>1</td>\n",
       "      <td>2012-05-24</td>\n",
       "      <td>This place is retarded!!!  Called on a thursday, confirmed that the price of the buffet today dinner is $8.99, Weekend is $10.99.  Headed out...\\n\\nWhen we arrived, there was couple of dudes sitting at the bar and told us, they are closed today and is only open on Fri\\/Sat\\/Sun.  WTF....???\\n\\nSunday comes around, thought we'd give this place another try.  Headed out...  Arrived, the doors were locked and nobody was inside...WTF???</td>\n",
       "      <td>4</td>\n",
       "      <td>4</td>\n",
       "      <td>1</td>\n",
       "      <td>False</td>\n",
       "    </tr>\n",
       "    <tr>\n",
       "      <th>5261662</th>\n",
       "      <td>evfB2Xzw4u7aYftWClQfeg</td>\n",
       "      <td>mPjPyipaD0C_myqWqDipZg</td>\n",
       "      <td>--SrzpvFLwP_YFwB_Cetow</td>\n",
       "      <td>2</td>\n",
       "      <td>2011-10-18</td>\n",
       "      <td>So after reading Precilla C. review, I decided to try this location.  I've been to their Hwy 7 \\/ Kennedy location few times and the food was 'OK'.\\n\\nOnce I got to the restaurant I totally forgot what to order...lol.  Ended up getting:\\n\\n1) Big bowl soup\\n2) Noodles with spicy shredded pork\\n3) Spicy Chilly steamed fish\\n\\nI just made those names up...but they all have pictures.\\n\\n1)  Soup is the same as the other location, nothing to brag about, just very fresh and delicious.\\n\\n2)  Even though it was suppose to be spicy pork, it tasted sweet.  not spicy AT ALL.  it comes with a bowl of msg hot water (i think they call it soup).  Which the waiter spilled over the table and one of the chair.\\n\\n3)  Fish itself was good, but they used the flavorless chilies, no taste.\\n\\nSERVICE:\\n\\nThis place have one of the WORST service.  Went at 8:00pm on a wednesday, restataurant was 60% empty and they had 3 waiters that have a very unique skill of walking around without looking at you.  Sort of like AYCE Japanese restaurant.  Had to wait 15~20min before we could flag down a retarded fat ass lazy waiter.\\n\\nSince i don't speak cantonese, i was ordering in english and he would yell out loud the dish i wanted in Cantonese....in a signing tone...WTF???\\n\\nWhen he brought over the #2) dish, he spilled half of it on his hand, table and chair beside me...no big deal.  BUT ATLEAST CLEAN IT UP!!!.  When he brought over the #1) and #3) i asked him each time to clean that up, he just rolled his eyes.  I finally had to flag down ANOTHER WAITER (which was a challenge itself) to clean it up. \\n\\nAnyways, bill came up to $30ish+, left him $0.01 tips.\\n\\nP.S.  The staff in Kennedy\\/Hwy 7 is MUCH friendlier</td>\n",
       "      <td>0</td>\n",
       "      <td>0</td>\n",
       "      <td>0</td>\n",
       "      <td>False</td>\n",
       "    </tr>\n",
       "    <tr>\n",
       "      <th>5261663</th>\n",
       "      <td>PoGSiNz1X5SUu0qEt-qM5w</td>\n",
       "      <td>mPjPyipaD0C_myqWqDipZg</td>\n",
       "      <td>Ngk84Ax1tXgpoJFEGxot3w</td>\n",
       "      <td>1</td>\n",
       "      <td>2011-11-21</td>\n",
       "      <td>Bought groupon $39 for 4 months from groupon, the sign up guy tried so hard to sell a 'new' package to me.  I asked him if I can make up my mind after I tried the gym out first, but he insisted I do it now or else the price will go up.  As a matter of fact, he has a price increase meeting tomorrow....hahaha\\n\\nDid not opt for the 'new' package, stuck with my original package.  He seemed upset...said fine, your membership expires in 4 months, you just get your membership and nothing else, you will have to pay for parking too.  I told him...but I see that there is a sign that says one hr free parking.  umm...err...ehhh...yeah, well, only one hr free, after that you will have to pay $3\\/hr.  whatever...\\n\\nAfter signing everything, he said you will get your access card after you finish your assessment (aka personal trainer sales pitch).  I told  him I do not need an assessment as I will only be using the treadmill.  He said I HAVE to get an assessment for insurance purpose....LAAAME!\\n\\nwill update after my physical assessment.</td>\n",
       "      <td>36</td>\n",
       "      <td>3</td>\n",
       "      <td>3</td>\n",
       "      <td>False</td>\n",
       "    </tr>\n",
       "    <tr>\n",
       "      <th>5261665</th>\n",
       "      <td>W9eVvOcpBvG6lpJPoJOxuA</td>\n",
       "      <td>mPjPyipaD0C_myqWqDipZg</td>\n",
       "      <td>5ubokMNw8qfbX2WtxgJG1Q</td>\n",
       "      <td>4</td>\n",
       "      <td>2011-10-23</td>\n",
       "      <td>Had a 8 dish set meal, was enough for 10 people for $126.  \\n\\n-Seafood Soup\\n-Sweet and Sour pork\\n-Scallop with greens\\n-Steamed fish\\n-Lobster - ehh...oooh kay\\n-Some rotisserie chicken with some sauce - Tastes pretty good\\n-Duck covered with taro and deep fried - nothing to write home about, more taro than duck\\n\\nComplimentary dessert - red bean and small tapioca (EXCELLENT)\\n\\nEverything was pretty fresh and most importantly hot (temperature) when it came out.\\n\\nTaste wise, it's pretty much taste like any other cantonese cuisine.\\n\\nService was pretty fast and efficient, and both of the waiters we dealt spoke english.\\n\\nWill go again.</td>\n",
       "      <td>3</td>\n",
       "      <td>0</td>\n",
       "      <td>1</td>\n",
       "      <td>True</td>\n",
       "    </tr>\n",
       "  </tbody>\n",
       "</table>\n",
       "</div>"
      ],
      "text/plain": [
       "                      review_id                 user_id  \\\n",
       "5261660  dyW1tIaWbm_RfCFCffY9yg  mPjPyipaD0C_myqWqDipZg   \n",
       "5261661  ZU2UF0YBkhQFctXH5Mry3A  mPjPyipaD0C_myqWqDipZg   \n",
       "5261662  evfB2Xzw4u7aYftWClQfeg  mPjPyipaD0C_myqWqDipZg   \n",
       "5261663  PoGSiNz1X5SUu0qEt-qM5w  mPjPyipaD0C_myqWqDipZg   \n",
       "5261665  W9eVvOcpBvG6lpJPoJOxuA  mPjPyipaD0C_myqWqDipZg   \n",
       "\n",
       "                    business_id  stars       date  \\\n",
       "5261660  Dv0OHpQSL4hOGl2KAEVvlA      2 2012-05-05   \n",
       "5261661  CMkayuNDHPcd1dxO32kJyA      1 2012-05-24   \n",
       "5261662  --SrzpvFLwP_YFwB_Cetow      2 2011-10-18   \n",
       "5261663  Ngk84Ax1tXgpoJFEGxot3w      1 2011-11-21   \n",
       "5261665  5ubokMNw8qfbX2WtxgJG1Q      4 2011-10-23   \n",
       "\n",
       "                                                                                                                                                                                                                                                                                                                                                                                                                                                                                                                                                                                                                                                                                                                                                                                                                                                                                                                                                                                                                                                                                                                                                                                                                                                                                                                                                                                                                                                                                                                                                                                                                                                                                                                                                                                   text  \\\n",
       "5261660                                                                                                                                                                                                                                                                                                                                                                                                                                                                                                                                                                                                                                                                                                                                                                                                                                                                                                                                                                                                                                                                                                                                                                                                                                                                                                                                                                                                                                                                                                                                                                   Not much to write about, food is mediocre at best.  Atmosphere was bar style.\\n\\nAsked the server if they had 'Aged beef steak' she said 'they do not have HP steak, but she can bring the sauce on the side'   \n",
       "5261661                                                                                                                                                                                                                                                                                                                                                                                                                                                                                                                                                                                                                                                                                                                                                                                                                                                                                                                                                                                                                                                                                                                                                                                                                                                                                                                             This place is retarded!!!  Called on a thursday, confirmed that the price of the buffet today dinner is $8.99, Weekend is $10.99.  Headed out...\\n\\nWhen we arrived, there was couple of dudes sitting at the bar and told us, they are closed today and is only open on Fri\\/Sat\\/Sun.  WTF....???\\n\\nSunday comes around, thought we'd give this place another try.  Headed out...  Arrived, the doors were locked and nobody was inside...WTF???   \n",
       "5261662  So after reading Precilla C. review, I decided to try this location.  I've been to their Hwy 7 \\/ Kennedy location few times and the food was 'OK'.\\n\\nOnce I got to the restaurant I totally forgot what to order...lol.  Ended up getting:\\n\\n1) Big bowl soup\\n2) Noodles with spicy shredded pork\\n3) Spicy Chilly steamed fish\\n\\nI just made those names up...but they all have pictures.\\n\\n1)  Soup is the same as the other location, nothing to brag about, just very fresh and delicious.\\n\\n2)  Even though it was suppose to be spicy pork, it tasted sweet.  not spicy AT ALL.  it comes with a bowl of msg hot water (i think they call it soup).  Which the waiter spilled over the table and one of the chair.\\n\\n3)  Fish itself was good, but they used the flavorless chilies, no taste.\\n\\nSERVICE:\\n\\nThis place have one of the WORST service.  Went at 8:00pm on a wednesday, restataurant was 60% empty and they had 3 waiters that have a very unique skill of walking around without looking at you.  Sort of like AYCE Japanese restaurant.  Had to wait 15~20min before we could flag down a retarded fat ass lazy waiter.\\n\\nSince i don't speak cantonese, i was ordering in english and he would yell out loud the dish i wanted in Cantonese....in a signing tone...WTF???\\n\\nWhen he brought over the #2) dish, he spilled half of it on his hand, table and chair beside me...no big deal.  BUT ATLEAST CLEAN IT UP!!!.  When he brought over the #1) and #3) i asked him each time to clean that up, he just rolled his eyes.  I finally had to flag down ANOTHER WAITER (which was a challenge itself) to clean it up. \\n\\nAnyways, bill came up to $30ish+, left him $0.01 tips.\\n\\nP.S.  The staff in Kennedy\\/Hwy 7 is MUCH friendlier   \n",
       "5261663                                                                                                                                                                                                                                                                                                                                                                                                                                                                                                                                                                                                                                                                                                Bought groupon $39 for 4 months from groupon, the sign up guy tried so hard to sell a 'new' package to me.  I asked him if I can make up my mind after I tried the gym out first, but he insisted I do it now or else the price will go up.  As a matter of fact, he has a price increase meeting tomorrow....hahaha\\n\\nDid not opt for the 'new' package, stuck with my original package.  He seemed upset...said fine, your membership expires in 4 months, you just get your membership and nothing else, you will have to pay for parking too.  I told him...but I see that there is a sign that says one hr free parking.  umm...err...ehhh...yeah, well, only one hr free, after that you will have to pay $3\\/hr.  whatever...\\n\\nAfter signing everything, he said you will get your access card after you finish your assessment (aka personal trainer sales pitch).  I told  him I do not need an assessment as I will only be using the treadmill.  He said I HAVE to get an assessment for insurance purpose....LAAAME!\\n\\nwill update after my physical assessment.   \n",
       "5261665                                                                                                                                                                                                                                                                                                                                                                                                                                                                                                                                                                                                                                                                                                                                                                                                                                                                                                                                                                                                                                                                                                      Had a 8 dish set meal, was enough for 10 people for $126.  \\n\\n-Seafood Soup\\n-Sweet and Sour pork\\n-Scallop with greens\\n-Steamed fish\\n-Lobster - ehh...oooh kay\\n-Some rotisserie chicken with some sauce - Tastes pretty good\\n-Duck covered with taro and deep fried - nothing to write home about, more taro than duck\\n\\nComplimentary dessert - red bean and small tapioca (EXCELLENT)\\n\\nEverything was pretty fresh and most importantly hot (temperature) when it came out.\\n\\nTaste wise, it's pretty much taste like any other cantonese cuisine.\\n\\nService was pretty fast and efficient, and both of the waiters we dealt spoke english.\\n\\nWill go again.   \n",
       "\n",
       "         useful  funny  cool  target  \n",
       "5261660       0      1     0   False  \n",
       "5261661       4      4     1   False  \n",
       "5261662       0      0     0   False  \n",
       "5261663      36      3     3   False  \n",
       "5261665       3      0     1    True  "
      ]
     },
     "execution_count": 19,
     "metadata": {},
     "output_type": "execute_result"
    }
   ],
   "source": [
    "df.tail()"
   ]
  },
  {
   "cell_type": "code",
   "execution_count": 20,
   "metadata": {},
   "outputs": [
    {
     "name": "stdout",
     "output_type": "stream",
     "text": [
      "<class 'pandas.core.frame.DataFrame'>\n",
      "Int64Index: 4646187 entries, 0 to 5261665\n",
      "Data columns (total 10 columns):\n",
      " #   Column       Dtype         \n",
      "---  ------       -----         \n",
      " 0   review_id    object        \n",
      " 1   user_id      object        \n",
      " 2   business_id  object        \n",
      " 3   stars        int64         \n",
      " 4   date         datetime64[ns]\n",
      " 5   text         object        \n",
      " 6   useful       int64         \n",
      " 7   funny        int64         \n",
      " 8   cool         int64         \n",
      " 9   target       bool          \n",
      "dtypes: bool(1), datetime64[ns](1), int64(4), object(4)\n",
      "memory usage: 358.9+ MB\n"
     ]
    }
   ],
   "source": [
    "df.info()"
   ]
  },
  {
   "cell_type": "code",
   "execution_count": 21,
   "metadata": {
    "scrolled": true
   },
   "outputs": [
    {
     "data": {
      "text/plain": [
       "5    2253347\n",
       "4    1223316\n",
       "1     731363\n",
       "2     438161\n",
       "Name: stars, dtype: int64"
      ]
     },
     "execution_count": 21,
     "metadata": {},
     "output_type": "execute_result"
    }
   ],
   "source": [
    "df['stars'].value_counts()"
   ]
  },
  {
   "cell_type": "markdown",
   "metadata": {},
   "source": [
    "# Start of NLP"
   ]
  },
  {
   "cell_type": "code",
   "execution_count": null,
   "metadata": {},
   "outputs": [],
   "source": [
    "from collections import defaultdict\n",
    "import numpy as np\n",
    "import pandas as pd\n",
    "from sklearn.model_selection import train_test_split\n",
    "import nltk\n",
    "from nltk.tokenize import regexp_tokenize, word_tokenize, RegexpTokenizer\n",
    "from nltk.corpus import stopwords, wordnet\n",
    "from nltk import pos_tag\n",
    "from nltk.stem import WordNetLemmatizer\n",
    "from sklearn.feature_extraction.text import TfidfVectorizer, CountVectorizer\n",
    "from sklearn.ensemble import RandomForestClassifier\n",
    "from sklearn.naive_bayes import MultinomialNB\n",
    "from sklearn.metrics import accuracy_score, precision_score, confusion_matrix, f1_score\n",
    "import string\n",
    "import pickle"
   ]
  },
  {
   "cell_type": "code",
   "execution_count": null,
   "metadata": {},
   "outputs": [],
   "source": [
    "sample = df.sample(500000, random_state = 42)"
   ]
  },
  {
   "cell_type": "code",
   "execution_count": null,
   "metadata": {},
   "outputs": [],
   "source": [
    "sample = sample.append(manual_training)"
   ]
  },
  {
   "cell_type": "code",
   "execution_count": null,
   "metadata": {},
   "outputs": [],
   "source": [
    "sample['stars'].value_counts()"
   ]
  },
  {
   "cell_type": "code",
   "execution_count": null,
   "metadata": {},
   "outputs": [],
   "source": [
    "from sklearn.model_selection import train_test_split\n",
    "\n",
    "X = sample['text']\n",
    "y = sample['target']\n",
    "\n",
    "X_train, X_test, y_train, y_test = train_test_split(X, y, random_state = 42)"
   ]
  },
  {
   "cell_type": "markdown",
   "metadata": {},
   "source": [
    "## Count Vectorizer"
   ]
  },
  {
   "cell_type": "code",
   "execution_count": 20,
   "metadata": {},
   "outputs": [],
   "source": [
    "cv = CountVectorizer()\n",
    "X_t_vec = cv.fit_transform(X_train)\n",
    "X_t_vec  = pd.DataFrame.sparse.from_spmatrix(X_t_vec)\n",
    "X_t_vec.columns = sorted(cv.vocabulary_)\n",
    "X_t_vec.set_index(y_train.index, inplace=True)"
   ]
  },
  {
   "cell_type": "code",
   "execution_count": 21,
   "metadata": {},
   "outputs": [],
   "source": [
    "X_val_vec = cv.transform(X_test)\n",
    "X_val_vec  = pd.DataFrame.sparse.from_spmatrix(X_val_vec)\n",
    "X_val_vec.columns = sorted(cv.vocabulary_)\n",
    "# X_val_vec.set_index(y_train.index, inplace=True)"
   ]
  },
  {
   "cell_type": "code",
   "execution_count": 22,
   "metadata": {},
   "outputs": [
    {
     "data": {
      "text/plain": [
       "array([ True, False,  True, ...,  True, False,  True])"
      ]
     },
     "execution_count": 22,
     "metadata": {},
     "output_type": "execute_result"
    }
   ],
   "source": [
    "mnb = MultinomialNB()\n",
    "\n",
    "mnb.fit(X_t_vec, y_train)\n",
    "y_hat = mnb.predict(X_val_vec)\n",
    "y_hat"
   ]
  },
  {
   "cell_type": "markdown",
   "metadata": {},
   "source": [
    "## TF IDF Vectorization"
   ]
  },
  {
   "cell_type": "code",
   "execution_count": 27,
   "metadata": {},
   "outputs": [
    {
     "name": "stderr",
     "output_type": "stream",
     "text": [
      "[nltk_data] Downloading package stopwords to\n",
      "[nltk_data]     C:\\Users\\nehcr\\AppData\\Roaming\\nltk_data...\n",
      "[nltk_data]   Package stopwords is already up-to-date!\n"
     ]
    }
   ],
   "source": [
    "# stopwords\n",
    "\n",
    "import nltk\n",
    "nltk.download('stopwords')\n",
    "\n",
    "stopwords_list = stopwords.words('english') + list(string.punctuation)\n",
    "stopwords_list += [\"''\", '\"\"', '...', '``', '-', \"'\"]"
   ]
  },
  {
   "cell_type": "code",
   "execution_count": 28,
   "metadata": {},
   "outputs": [
    {
     "name": "stderr",
     "output_type": "stream",
     "text": [
      "[nltk_data] Downloading package punkt to\n",
      "[nltk_data]     C:\\Users\\nehcr\\AppData\\Roaming\\nltk_data...\n",
      "[nltk_data]   Package punkt is already up-to-date!\n"
     ]
    }
   ],
   "source": [
    "# function for removing stopwords\n",
    "\n",
    "nltk.download('punkt')\n",
    "\n",
    "def process_article(article):\n",
    "    tokens = nltk.word_tokenize(article)\n",
    "    stopwords_removed = [token.lower() for token in tokens if token.lower() not in stopwords_list]\n",
    "    return stopwords_removed    "
   ]
  },
  {
   "cell_type": "code",
   "execution_count": 29,
   "metadata": {},
   "outputs": [
    {
     "ename": "KeyboardInterrupt",
     "evalue": "",
     "output_type": "error",
     "traceback": [
      "\u001b[1;31m---------------------------------------------------------------------------\u001b[0m",
      "\u001b[1;31mKeyboardInterrupt\u001b[0m                         Traceback (most recent call last)",
      "\u001b[1;32m<ipython-input-29-ad996e03e3f4>\u001b[0m in \u001b[0;36m<module>\u001b[1;34m\u001b[0m\n\u001b[0;32m      1\u001b[0m \u001b[1;31m# mapping funtion to X_train and X_test\u001b[0m\u001b[1;33m\u001b[0m\u001b[1;33m\u001b[0m\u001b[1;33m\u001b[0m\u001b[0m\n\u001b[0;32m      2\u001b[0m \u001b[1;33m\u001b[0m\u001b[0m\n\u001b[1;32m----> 3\u001b[1;33m \u001b[0mprocessed_X_t\u001b[0m \u001b[1;33m=\u001b[0m \u001b[0mlist\u001b[0m\u001b[1;33m(\u001b[0m\u001b[0mmap\u001b[0m\u001b[1;33m(\u001b[0m\u001b[0mprocess_article\u001b[0m\u001b[1;33m,\u001b[0m \u001b[0mX_train\u001b[0m\u001b[1;33m)\u001b[0m\u001b[1;33m)\u001b[0m\u001b[1;33m\u001b[0m\u001b[1;33m\u001b[0m\u001b[0m\n\u001b[0m\u001b[0;32m      4\u001b[0m \u001b[1;33m\u001b[0m\u001b[0m\n\u001b[0;32m      5\u001b[0m \u001b[0mprocessed_X_val\u001b[0m \u001b[1;33m=\u001b[0m \u001b[0mlist\u001b[0m\u001b[1;33m(\u001b[0m\u001b[0mmap\u001b[0m\u001b[1;33m(\u001b[0m\u001b[0mprocess_article\u001b[0m\u001b[1;33m,\u001b[0m \u001b[0mX_test\u001b[0m\u001b[1;33m)\u001b[0m\u001b[1;33m)\u001b[0m\u001b[1;33m\u001b[0m\u001b[1;33m\u001b[0m\u001b[0m\n",
      "\u001b[1;32m<ipython-input-28-9a6130791132>\u001b[0m in \u001b[0;36mprocess_article\u001b[1;34m(article)\u001b[0m\n\u001b[0;32m      5\u001b[0m \u001b[1;32mdef\u001b[0m \u001b[0mprocess_article\u001b[0m\u001b[1;33m(\u001b[0m\u001b[0marticle\u001b[0m\u001b[1;33m)\u001b[0m\u001b[1;33m:\u001b[0m\u001b[1;33m\u001b[0m\u001b[1;33m\u001b[0m\u001b[0m\n\u001b[0;32m      6\u001b[0m     \u001b[0mtokens\u001b[0m \u001b[1;33m=\u001b[0m \u001b[0mnltk\u001b[0m\u001b[1;33m.\u001b[0m\u001b[0mword_tokenize\u001b[0m\u001b[1;33m(\u001b[0m\u001b[0marticle\u001b[0m\u001b[1;33m)\u001b[0m\u001b[1;33m\u001b[0m\u001b[1;33m\u001b[0m\u001b[0m\n\u001b[1;32m----> 7\u001b[1;33m     \u001b[0mstopwords_removed\u001b[0m \u001b[1;33m=\u001b[0m \u001b[1;33m[\u001b[0m\u001b[0mtoken\u001b[0m\u001b[1;33m.\u001b[0m\u001b[0mlower\u001b[0m\u001b[1;33m(\u001b[0m\u001b[1;33m)\u001b[0m \u001b[1;32mfor\u001b[0m \u001b[0mtoken\u001b[0m \u001b[1;32min\u001b[0m \u001b[0mtokens\u001b[0m \u001b[1;32mif\u001b[0m \u001b[0mtoken\u001b[0m\u001b[1;33m.\u001b[0m\u001b[0mlower\u001b[0m\u001b[1;33m(\u001b[0m\u001b[1;33m)\u001b[0m \u001b[1;32mnot\u001b[0m \u001b[1;32min\u001b[0m \u001b[0mstopwords_list\u001b[0m\u001b[1;33m]\u001b[0m\u001b[1;33m\u001b[0m\u001b[1;33m\u001b[0m\u001b[0m\n\u001b[0m\u001b[0;32m      8\u001b[0m     \u001b[1;32mreturn\u001b[0m \u001b[0mstopwords_removed\u001b[0m\u001b[1;33m\u001b[0m\u001b[1;33m\u001b[0m\u001b[0m\n",
      "\u001b[1;32m<ipython-input-28-9a6130791132>\u001b[0m in \u001b[0;36m<listcomp>\u001b[1;34m(.0)\u001b[0m\n\u001b[0;32m      5\u001b[0m \u001b[1;32mdef\u001b[0m \u001b[0mprocess_article\u001b[0m\u001b[1;33m(\u001b[0m\u001b[0marticle\u001b[0m\u001b[1;33m)\u001b[0m\u001b[1;33m:\u001b[0m\u001b[1;33m\u001b[0m\u001b[1;33m\u001b[0m\u001b[0m\n\u001b[0;32m      6\u001b[0m     \u001b[0mtokens\u001b[0m \u001b[1;33m=\u001b[0m \u001b[0mnltk\u001b[0m\u001b[1;33m.\u001b[0m\u001b[0mword_tokenize\u001b[0m\u001b[1;33m(\u001b[0m\u001b[0marticle\u001b[0m\u001b[1;33m)\u001b[0m\u001b[1;33m\u001b[0m\u001b[1;33m\u001b[0m\u001b[0m\n\u001b[1;32m----> 7\u001b[1;33m     \u001b[0mstopwords_removed\u001b[0m \u001b[1;33m=\u001b[0m \u001b[1;33m[\u001b[0m\u001b[0mtoken\u001b[0m\u001b[1;33m.\u001b[0m\u001b[0mlower\u001b[0m\u001b[1;33m(\u001b[0m\u001b[1;33m)\u001b[0m \u001b[1;32mfor\u001b[0m \u001b[0mtoken\u001b[0m \u001b[1;32min\u001b[0m \u001b[0mtokens\u001b[0m \u001b[1;32mif\u001b[0m \u001b[0mtoken\u001b[0m\u001b[1;33m.\u001b[0m\u001b[0mlower\u001b[0m\u001b[1;33m(\u001b[0m\u001b[1;33m)\u001b[0m \u001b[1;32mnot\u001b[0m \u001b[1;32min\u001b[0m \u001b[0mstopwords_list\u001b[0m\u001b[1;33m]\u001b[0m\u001b[1;33m\u001b[0m\u001b[1;33m\u001b[0m\u001b[0m\n\u001b[0m\u001b[0;32m      8\u001b[0m     \u001b[1;32mreturn\u001b[0m \u001b[0mstopwords_removed\u001b[0m\u001b[1;33m\u001b[0m\u001b[1;33m\u001b[0m\u001b[0m\n",
      "\u001b[1;31mKeyboardInterrupt\u001b[0m: "
     ]
    }
   ],
   "source": [
    "# mapping funtion to X_train and X_test\n",
    "\n",
    "processed_X_t = list(map(process_article, X_train))\n",
    "\n",
    "processed_X_val = list(map(process_article, X_test))"
   ]
  },
  {
   "cell_type": "code",
   "execution_count": null,
   "metadata": {},
   "outputs": [],
   "source": [
    "processed_X_t"
   ]
  },
  {
   "cell_type": "code",
   "execution_count": 23,
   "metadata": {},
   "outputs": [],
   "source": [
    "# RegEx \n",
    "## to get everything between square brackets: r'[[].*?[]]'\n",
    "## to get everything that starts with a capital letter: r'[[][A-Z].*?[]]''\n",
    "## to get everything that starts with a capital letter and no white space: r'[[][A-Z][a-z]*?[]]'\n",
    "\n",
    "regex_person_reg = r\"([A-Z][a-z].*?[^\\s]*)\\:\"\n",
    "regex_person_upper = r\"([A-Z][^\\s]*)\\:\"\n",
    "regex_parens = r'[[][A-Z].*?[]]'\n"
   ]
  },
  {
   "cell_type": "code",
   "execution_count": 35,
   "metadata": {},
   "outputs": [],
   "source": [
    "from sklearn.feature_extraction.text import TfidfVectorizer\n",
    "vectorizer = TfidfVectorizer()\n",
    "tf_idf_data_train = vectorizer.fit_transform(X_train, y_train)\n",
    "tf_idf_data_test = vectorizer.transform(X_test)"
   ]
  },
  {
   "cell_type": "markdown",
   "metadata": {},
   "source": [
    "### Modeling - NB and RF"
   ]
  },
  {
   "cell_type": "code",
   "execution_count": 36,
   "metadata": {},
   "outputs": [],
   "source": [
    "nb_classifier = MultinomialNB()\n",
    "rf_classifier = RandomForestClassifier(n_estimators=100)"
   ]
  },
  {
   "cell_type": "code",
   "execution_count": 37,
   "metadata": {},
   "outputs": [],
   "source": [
    "nb_classifier.fit(tf_idf_data_train, y_train)\n",
    "nb_train_preds = nb_classifier.predict(tf_idf_data_train)\n",
    "nb_test_preds = nb_classifier.predict(tf_idf_data_test)"
   ]
  },
  {
   "cell_type": "code",
   "execution_count": 38,
   "metadata": {},
   "outputs": [],
   "source": [
    "rf_classifier.fit(tf_idf_data_train, y_train)\n",
    "rf_train_preds = rf_classifier.predict(tf_idf_data_train)\n",
    "rf_test_preds = rf_classifier.predict(tf_idf_data_test)"
   ]
  },
  {
   "cell_type": "markdown",
   "metadata": {},
   "source": [
    "### Pickle Predictions - NB"
   ]
  },
  {
   "cell_type": "code",
   "execution_count": 39,
   "metadata": {},
   "outputs": [],
   "source": [
    "import pickle\n",
    "\n",
    "# pickle Naive Bayes Classifier\n",
    "\n",
    "filename = 'pickle/nb_classifier'\n",
    "pickle.dump(nb_classifier, open(filename, 'wb'))"
   ]
  },
  {
   "cell_type": "code",
   "execution_count": 40,
   "metadata": {},
   "outputs": [],
   "source": [
    "# pickle Naive Bayes Classifier train predictions\n",
    "\n",
    "filename = 'pickle/nb_train_preds'\n",
    "pickle.dump(nb_train_preds, open(filename, 'wb'))"
   ]
  },
  {
   "cell_type": "code",
   "execution_count": 41,
   "metadata": {},
   "outputs": [],
   "source": [
    "# pickle Naive Bayes Classifier test predictions\n",
    "\n",
    "filename = 'pickle/nb_test_preds'\n",
    "pickle.dump(nb_test_preds, open(filename, 'wb'))"
   ]
  },
  {
   "cell_type": "markdown",
   "metadata": {},
   "source": [
    "### Pickle Preds - RF"
   ]
  },
  {
   "cell_type": "code",
   "execution_count": 42,
   "metadata": {},
   "outputs": [],
   "source": [
    "# pickle Random Forest Classifier\n",
    "\n",
    "filename = 'pickle/rf_classifier'\n",
    "pickle.dump(rf_classifier, open(filename, 'wb'))"
   ]
  },
  {
   "cell_type": "code",
   "execution_count": 43,
   "metadata": {},
   "outputs": [],
   "source": [
    "# pickle Random Forest Classifier train predictions\n",
    "\n",
    "filename = 'pickle/rf_train_preds'\n",
    "pickle.dump(rf_train_preds, open(filename, 'wb'))"
   ]
  },
  {
   "cell_type": "code",
   "execution_count": 44,
   "metadata": {},
   "outputs": [],
   "source": [
    "# pickle Random Forest Classifier test predictions\n",
    "\n",
    "filename = 'pickle/rf_test_preds'\n",
    "pickle.dump(rf_test_preds, open(filename, 'wb'))"
   ]
  },
  {
   "cell_type": "markdown",
   "metadata": {},
   "source": [
    "### Load Preds"
   ]
  },
  {
   "cell_type": "code",
   "execution_count": 45,
   "metadata": {
    "scrolled": true
   },
   "outputs": [],
   "source": [
    "# load nb train preds\n",
    "\n",
    "nb_train_preds = pickle.load(open('pickle/nb_train_preds', 'rb'))"
   ]
  },
  {
   "cell_type": "code",
   "execution_count": 46,
   "metadata": {},
   "outputs": [],
   "source": [
    "# load nb test preds\n",
    "\n",
    "nb_test_preds = pickle.load(open('pickle/nb_test_preds', 'rb'))"
   ]
  },
  {
   "cell_type": "code",
   "execution_count": 47,
   "metadata": {},
   "outputs": [],
   "source": [
    "# load rf train preds\n",
    "\n",
    "rf_train_preds = pickle.load(open('pickle/rf_train_preds', 'rb'))"
   ]
  },
  {
   "cell_type": "code",
   "execution_count": 48,
   "metadata": {},
   "outputs": [],
   "source": [
    "# load nb test preds\n",
    "\n",
    "rf_test_preds = pickle.load(open('pickle/rf_test_preds', 'rb'))"
   ]
  },
  {
   "cell_type": "markdown",
   "metadata": {},
   "source": [
    "### Prediction Metrics"
   ]
  },
  {
   "cell_type": "code",
   "execution_count": 45,
   "metadata": {},
   "outputs": [
    {
     "name": "stdout",
     "output_type": "stream",
     "text": [
      "Multinomial Naive Bayes\n",
      "Training F1: 0.926 \t\t\n",
      "\n",
      "Test F1: 0.922 \t\t\n",
      "----------------------------------------------------------------------\n",
      "\n",
      "Random Forest\n",
      "Training F1: 1.0 \t\t\n",
      "\n",
      "Test F1: 0.922 \t\t\n"
     ]
    }
   ],
   "source": [
    "nb_train_score = f1_score(y_train, nb_train_preds)\n",
    "nb_test_score = f1_score(y_test, nb_test_preds)\n",
    "rf_train_score = f1_score(y_train, rf_train_preds)\n",
    "rf_test_score = f1_score(y_test, rf_test_preds)\n",
    "\n",
    "print(\"Multinomial Naive Bayes\")\n",
    "print(\"Training F1: {:.4} \\t\\t\".format(nb_train_score))\n",
    "print(\"\")\n",
    "print(\"Test F1: {:.4} \\t\\t\".format(nb_test_score))\n",
    "print('-'*70)\n",
    "print(\"\")\n",
    "print('Random Forest')\n",
    "print(\"Training F1: {:.4} \\t\\t\".format(rf_train_score))\n",
    "print(\"\")\n",
    "print(\"Test F1: {:.4} \\t\\t\".format(nb_test_score))"
   ]
  },
  {
   "cell_type": "code",
   "execution_count": 29,
   "metadata": {},
   "outputs": [],
   "source": [
    "# try logistic regression next\n",
    "# try spacy\n",
    "# try f1 score"
   ]
  },
  {
   "cell_type": "markdown",
   "metadata": {},
   "source": [
    "### Logistic Regression Model"
   ]
  },
  {
   "cell_type": "code",
   "execution_count": 65,
   "metadata": {},
   "outputs": [],
   "source": [
    "from sklearn.linear_model import LogisticRegression\n",
    "\n",
    "lr = LogisticRegression(max_iter = 500)\n",
    "lr.fit(tf_idf_data_train, y_train)\n",
    "lr_train_preds = lr.predict(tf_idf_data_train)\n",
    "lr_test_preds = lr.predict(tf_idf_data_test)"
   ]
  },
  {
   "cell_type": "code",
   "execution_count": 66,
   "metadata": {},
   "outputs": [],
   "source": [
    "# Pickle lr model and predictions\n",
    "\n",
    "filename = 'pickle/lr_classifier'\n",
    "pickle.dump(lr, open(filename, 'wb'))\n",
    "\n",
    "filename = 'pickle/lr_train_preds'\n",
    "pickle.dump(lr_train_preds, open(filename, 'wb'))\n",
    "\n",
    "filename = 'pickle/lr_test_preds'\n",
    "pickle.dump(lr_test_preds, open(filename, 'wb'))"
   ]
  },
  {
   "cell_type": "markdown",
   "metadata": {},
   "source": [
    "#### Load LR Pickle"
   ]
  },
  {
   "cell_type": "code",
   "execution_count": 46,
   "metadata": {},
   "outputs": [],
   "source": [
    "# load lr pickle\n",
    "\n",
    "lr_train_preds = pickle.load(open('pickle/lr_train_preds', 'rb'))\n",
    "\n",
    "lr_test_preds = pickle.load(open('pickle/lr_test_preds', 'rb'))"
   ]
  },
  {
   "cell_type": "code",
   "execution_count": 47,
   "metadata": {},
   "outputs": [
    {
     "name": "stdout",
     "output_type": "stream",
     "text": [
      "Logistic Regression\n",
      "Training F1: 0.9739 \t\t\n",
      "Test F1: 0.97 \t\t\n"
     ]
    }
   ],
   "source": [
    "lr_train_score = f1_score(y_train, lr_train_preds)\n",
    "lr_test_score = f1_score(y_test, lr_test_preds)\n",
    "\n",
    "print(\"Logistic Regression\")\n",
    "print(\"Training F1: {:.4} \\t\\t\".format(lr_train_score))\n",
    "print(\"Test F1: {:.4} \\t\\t\".format(lr_test_score))"
   ]
  },
  {
   "cell_type": "markdown",
   "metadata": {},
   "source": [
    "## Grid Search"
   ]
  },
  {
   "cell_type": "code",
   "execution_count": 32,
   "metadata": {},
   "outputs": [],
   "source": [
    "params = {'solver': ['newton-cg'],\n",
    "          'penalty': ['l2', 'elasticnet'], \n",
    "          'tol': [0.5, 1.0, 2.0],\n",
    "          'C': [1.0, 2.0, 3.0]}"
   ]
  },
  {
   "cell_type": "code",
   "execution_count": 33,
   "metadata": {},
   "outputs": [
    {
     "name": "stderr",
     "output_type": "stream",
     "text": [
      "C:\\Users\\nehcr\\anaconda3\\envs\\learn-env\\lib\\site-packages\\sklearn\\model_selection\\_validation.py:548: FitFailedWarning: Estimator fit failed. The score on this train-test partition for these parameters will be set to nan. Details: \n",
      "Traceback (most recent call last):\n",
      "  File \"C:\\Users\\nehcr\\anaconda3\\envs\\learn-env\\lib\\site-packages\\sklearn\\model_selection\\_validation.py\", line 531, in _fit_and_score\n",
      "    estimator.fit(X_train, y_train, **fit_params)\n",
      "  File \"C:\\Users\\nehcr\\anaconda3\\envs\\learn-env\\lib\\site-packages\\sklearn\\linear_model\\_logistic.py\", line 1304, in fit\n",
      "    solver = _check_solver(self.solver, self.penalty, self.dual)\n",
      "  File \"C:\\Users\\nehcr\\anaconda3\\envs\\learn-env\\lib\\site-packages\\sklearn\\linear_model\\_logistic.py\", line 442, in _check_solver\n",
      "    raise ValueError(\"Solver %s supports only 'l2' or 'none' penalties, \"\n",
      "ValueError: Solver newton-cg supports only 'l2' or 'none' penalties, got elasticnet penalty.\n",
      "\n",
      "  warnings.warn(\"Estimator fit failed. The score on this train-test\"\n",
      "C:\\Users\\nehcr\\anaconda3\\envs\\learn-env\\lib\\site-packages\\sklearn\\model_selection\\_validation.py:548: FitFailedWarning: Estimator fit failed. The score on this train-test partition for these parameters will be set to nan. Details: \n",
      "Traceback (most recent call last):\n",
      "  File \"C:\\Users\\nehcr\\anaconda3\\envs\\learn-env\\lib\\site-packages\\sklearn\\model_selection\\_validation.py\", line 531, in _fit_and_score\n",
      "    estimator.fit(X_train, y_train, **fit_params)\n",
      "  File \"C:\\Users\\nehcr\\anaconda3\\envs\\learn-env\\lib\\site-packages\\sklearn\\linear_model\\_logistic.py\", line 1304, in fit\n",
      "    solver = _check_solver(self.solver, self.penalty, self.dual)\n",
      "  File \"C:\\Users\\nehcr\\anaconda3\\envs\\learn-env\\lib\\site-packages\\sklearn\\linear_model\\_logistic.py\", line 442, in _check_solver\n",
      "    raise ValueError(\"Solver %s supports only 'l2' or 'none' penalties, \"\n",
      "ValueError: Solver newton-cg supports only 'l2' or 'none' penalties, got elasticnet penalty.\n",
      "\n",
      "  warnings.warn(\"Estimator fit failed. The score on this train-test\"\n",
      "C:\\Users\\nehcr\\anaconda3\\envs\\learn-env\\lib\\site-packages\\sklearn\\model_selection\\_validation.py:548: FitFailedWarning: Estimator fit failed. The score on this train-test partition for these parameters will be set to nan. Details: \n",
      "Traceback (most recent call last):\n",
      "  File \"C:\\Users\\nehcr\\anaconda3\\envs\\learn-env\\lib\\site-packages\\sklearn\\model_selection\\_validation.py\", line 531, in _fit_and_score\n",
      "    estimator.fit(X_train, y_train, **fit_params)\n",
      "  File \"C:\\Users\\nehcr\\anaconda3\\envs\\learn-env\\lib\\site-packages\\sklearn\\linear_model\\_logistic.py\", line 1304, in fit\n",
      "    solver = _check_solver(self.solver, self.penalty, self.dual)\n",
      "  File \"C:\\Users\\nehcr\\anaconda3\\envs\\learn-env\\lib\\site-packages\\sklearn\\linear_model\\_logistic.py\", line 442, in _check_solver\n",
      "    raise ValueError(\"Solver %s supports only 'l2' or 'none' penalties, \"\n",
      "ValueError: Solver newton-cg supports only 'l2' or 'none' penalties, got elasticnet penalty.\n",
      "\n",
      "  warnings.warn(\"Estimator fit failed. The score on this train-test\"\n"
     ]
    },
    {
     "data": {
      "text/plain": [
       "GridSearchCV(estimator=LogisticRegression(),\n",
       "             param_grid={'C': [1.0, 2.0, 3.0], 'penalty': ['l2', 'elasticnet'],\n",
       "                         'solver': ['newton-cg'], 'tol': [0.5, 1.0, 2.0]})"
      ]
     },
     "execution_count": 33,
     "metadata": {},
     "output_type": "execute_result"
    }
   ],
   "source": [
    "from sklearn.model_selection import GridSearchCV\n",
    "\n",
    "grid = GridSearchCV(LogisticRegression(), param_grid = params)\n",
    "grid.fit(tf_idf_data_train, y_train)"
   ]
  },
  {
   "cell_type": "code",
   "execution_count": 34,
   "metadata": {},
   "outputs": [
    {
     "data": {
      "text/plain": [
       "{'mean_fit_time': array([17.56059937, 15.68087935, 14.38120084,  0.13113747,  0.12459917,\n",
       "         0.12379971, 17.91945944, 16.60968328, 14.14945025,  0.12900357,\n",
       "         0.12380009,  0.12539043, 17.92844367, 16.84685178, 16.09444642,\n",
       "         0.13163686,  0.12380939,  0.12532287]),\n",
       " 'std_fit_time': array([6.31652949e-01, 7.95785562e-01, 1.13333698e+00, 7.69879625e-03,\n",
       "        4.89470019e-04, 3.98961008e-04, 9.24144856e-01, 6.85312223e-01,\n",
       "        3.26180676e-02, 7.56189488e-03, 3.99139801e-04, 1.61900036e-03,\n",
       "        9.72608963e-02, 8.47213536e-01, 8.90567035e-02, 8.16743808e-03,\n",
       "        6.50141794e-04, 2.37414189e-03]),\n",
       " 'mean_score_time': array([0.0300127 , 0.02719059, 0.02638774, 0.        , 0.        ,\n",
       "        0.        , 0.02600636, 0.02598028, 0.02579803, 0.        ,\n",
       "        0.        , 0.        , 0.02640448, 0.02619963, 0.02660608,\n",
       "        0.        , 0.        , 0.        ]),\n",
       " 'std_score_time': array([0.00156128, 0.00117182, 0.00048056, 0.        , 0.        ,\n",
       "        0.        , 0.00063311, 0.00063253, 0.00040578, 0.        ,\n",
       "        0.        , 0.        , 0.00048686, 0.00039909, 0.00049581,\n",
       "        0.        , 0.        , 0.        ]),\n",
       " 'param_C': masked_array(data=[1.0, 1.0, 1.0, 1.0, 1.0, 1.0, 2.0, 2.0, 2.0, 2.0, 2.0,\n",
       "                    2.0, 3.0, 3.0, 3.0, 3.0, 3.0, 3.0],\n",
       "              mask=[False, False, False, False, False, False, False, False,\n",
       "                    False, False, False, False, False, False, False, False,\n",
       "                    False, False],\n",
       "        fill_value='?',\n",
       "             dtype=object),\n",
       " 'param_penalty': masked_array(data=['l2', 'l2', 'l2', 'elasticnet', 'elasticnet',\n",
       "                    'elasticnet', 'l2', 'l2', 'l2', 'elasticnet',\n",
       "                    'elasticnet', 'elasticnet', 'l2', 'l2', 'l2',\n",
       "                    'elasticnet', 'elasticnet', 'elasticnet'],\n",
       "              mask=[False, False, False, False, False, False, False, False,\n",
       "                    False, False, False, False, False, False, False, False,\n",
       "                    False, False],\n",
       "        fill_value='?',\n",
       "             dtype=object),\n",
       " 'param_solver': masked_array(data=['newton-cg', 'newton-cg', 'newton-cg', 'newton-cg',\n",
       "                    'newton-cg', 'newton-cg', 'newton-cg', 'newton-cg',\n",
       "                    'newton-cg', 'newton-cg', 'newton-cg', 'newton-cg',\n",
       "                    'newton-cg', 'newton-cg', 'newton-cg', 'newton-cg',\n",
       "                    'newton-cg', 'newton-cg'],\n",
       "              mask=[False, False, False, False, False, False, False, False,\n",
       "                    False, False, False, False, False, False, False, False,\n",
       "                    False, False],\n",
       "        fill_value='?',\n",
       "             dtype=object),\n",
       " 'param_tol': masked_array(data=[0.5, 1.0, 2.0, 0.5, 1.0, 2.0, 0.5, 1.0, 2.0, 0.5, 1.0,\n",
       "                    2.0, 0.5, 1.0, 2.0, 0.5, 1.0, 2.0],\n",
       "              mask=[False, False, False, False, False, False, False, False,\n",
       "                    False, False, False, False, False, False, False, False,\n",
       "                    False, False],\n",
       "        fill_value='?',\n",
       "             dtype=object),\n",
       " 'params': [{'C': 1.0, 'penalty': 'l2', 'solver': 'newton-cg', 'tol': 0.5},\n",
       "  {'C': 1.0, 'penalty': 'l2', 'solver': 'newton-cg', 'tol': 1.0},\n",
       "  {'C': 1.0, 'penalty': 'l2', 'solver': 'newton-cg', 'tol': 2.0},\n",
       "  {'C': 1.0, 'penalty': 'elasticnet', 'solver': 'newton-cg', 'tol': 0.5},\n",
       "  {'C': 1.0, 'penalty': 'elasticnet', 'solver': 'newton-cg', 'tol': 1.0},\n",
       "  {'C': 1.0, 'penalty': 'elasticnet', 'solver': 'newton-cg', 'tol': 2.0},\n",
       "  {'C': 2.0, 'penalty': 'l2', 'solver': 'newton-cg', 'tol': 0.5},\n",
       "  {'C': 2.0, 'penalty': 'l2', 'solver': 'newton-cg', 'tol': 1.0},\n",
       "  {'C': 2.0, 'penalty': 'l2', 'solver': 'newton-cg', 'tol': 2.0},\n",
       "  {'C': 2.0, 'penalty': 'elasticnet', 'solver': 'newton-cg', 'tol': 0.5},\n",
       "  {'C': 2.0, 'penalty': 'elasticnet', 'solver': 'newton-cg', 'tol': 1.0},\n",
       "  {'C': 2.0, 'penalty': 'elasticnet', 'solver': 'newton-cg', 'tol': 2.0},\n",
       "  {'C': 3.0, 'penalty': 'l2', 'solver': 'newton-cg', 'tol': 0.5},\n",
       "  {'C': 3.0, 'penalty': 'l2', 'solver': 'newton-cg', 'tol': 1.0},\n",
       "  {'C': 3.0, 'penalty': 'l2', 'solver': 'newton-cg', 'tol': 2.0},\n",
       "  {'C': 3.0, 'penalty': 'elasticnet', 'solver': 'newton-cg', 'tol': 0.5},\n",
       "  {'C': 3.0, 'penalty': 'elasticnet', 'solver': 'newton-cg', 'tol': 1.0},\n",
       "  {'C': 3.0, 'penalty': 'elasticnet', 'solver': 'newton-cg', 'tol': 2.0}],\n",
       " 'split0_test_score': array([0.95312   , 0.95312   , 0.95312   ,        nan,        nan,\n",
       "               nan, 0.9544    , 0.9544    , 0.95446667,        nan,\n",
       "               nan,        nan, 0.95442667, 0.95442667, 0.95433333,\n",
       "               nan,        nan,        nan]),\n",
       " 'split1_test_score': array([0.95248   , 0.95248   , 0.95248   ,        nan,        nan,\n",
       "               nan, 0.95336   , 0.95325333, 0.95329333,        nan,\n",
       "               nan,        nan, 0.95378667, 0.9538    , 0.9538    ,\n",
       "               nan,        nan,        nan]),\n",
       " 'split2_test_score': array([0.95396   , 0.95396   , 0.95396   ,        nan,        nan,\n",
       "               nan, 0.95541333, 0.95541333, 0.95557333,        nan,\n",
       "               nan,        nan, 0.95552   , 0.95552   , 0.95556   ,\n",
       "               nan,        nan,        nan]),\n",
       " 'split3_test_score': array([0.953     , 0.95297333, 0.95297333,        nan,        nan,\n",
       "               nan, 0.95465333, 0.95465333, 0.95457333,        nan,\n",
       "               nan,        nan, 0.95478667, 0.95486667, 0.95486667,\n",
       "               nan,        nan,        nan]),\n",
       " 'split4_test_score': array([0.95382667, 0.95386667, 0.95384   ,        nan,        nan,\n",
       "               nan, 0.95518667, 0.95518667, 0.95516   ,        nan,\n",
       "               nan,        nan, 0.95556   , 0.95550667, 0.95550667,\n",
       "               nan,        nan,        nan]),\n",
       " 'mean_test_score': array([0.95327733, 0.95328   , 0.95327467,        nan,        nan,\n",
       "               nan, 0.95460267, 0.95458133, 0.95461333,        nan,\n",
       "               nan,        nan, 0.954816  , 0.954824  , 0.95481333,\n",
       "               nan,        nan,        nan]),\n",
       " 'std_test_score': array([0.00054867, 0.00055968, 0.00055417,        nan,        nan,\n",
       "               nan, 0.00071918, 0.00075635, 0.00077278,        nan,\n",
       "               nan,        nan, 0.00067248, 0.00065707, 0.00067798,\n",
       "               nan,        nan,        nan]),\n",
       " 'rank_test_score': array([ 8,  7,  9, 15, 14, 17,  5,  6,  4, 11, 12, 13,  2,  1,  3, 16, 10,\n",
       "        18])}"
      ]
     },
     "execution_count": 34,
     "metadata": {},
     "output_type": "execute_result"
    }
   ],
   "source": [
    "grid.cv_results_"
   ]
  },
  {
   "cell_type": "code",
   "execution_count": 55,
   "metadata": {},
   "outputs": [],
   "source": [
    "from sklearn.linear_model import LogisticRegression\n",
    "\n",
    "lr_tuned = LogisticRegression(max_iter = 500, C = 3, penalty = 'l2', solver = 'newton-cg', tol = 1)\n",
    "lr_tuned.fit(tf_idf_data_train, y_train)\n",
    "lr_tuned_train_preds = lr_tuned.predict(tf_idf_data_train)\n",
    "lr_tuned_test_preds = lr_tuned.predict(tf_idf_data_test)"
   ]
  },
  {
   "cell_type": "code",
   "execution_count": 70,
   "metadata": {},
   "outputs": [],
   "source": [
    "# Pickle tuned lr model and predictions\n",
    "\n",
    "filename = 'pickle/lr_classifier_tuned'\n",
    "pickle.dump(lr_tuned, open(filename, 'wb'))\n",
    "\n",
    "filename = 'pickle/lr_tuned_train_preds'\n",
    "pickle.dump(lr_tuned_train_preds, open(filename, 'wb'))\n",
    "\n",
    "filename = 'pickle/lr_tuned_test_preds'\n",
    "pickle.dump(lr_tuned_test_preds, open(filename, 'wb'))"
   ]
  },
  {
   "cell_type": "code",
   "execution_count": 48,
   "metadata": {},
   "outputs": [],
   "source": [
    "# Load tuned lr pickle\n",
    "\n",
    "# load lr pickle\n",
    "\n",
    "lr_tuned_train_preds = pickle.load(open('pickle/lr_tuned_train_preds', 'rb'))\n",
    "\n",
    "lr_tuned_test_preds = pickle.load(open('pickle/lr_tuned_test_preds', 'rb'))"
   ]
  },
  {
   "cell_type": "code",
   "execution_count": 49,
   "metadata": {
    "scrolled": true
   },
   "outputs": [
    {
     "name": "stdout",
     "output_type": "stream",
     "text": [
      "Logistic Regression\n",
      "Training F1: 0.9779 \t\t\n",
      "Test F1: 0.9709 \t\t\n"
     ]
    }
   ],
   "source": [
    "lr_train_score = f1_score(y_train, lr_tuned_train_preds)\n",
    "lr_test_score = f1_score(y_test, lr_tuned_test_preds)\n",
    "\n",
    "print(\"Logistic Regression\")\n",
    "print(\"Training F1: {:.4} \\t\\t\".format(lr_train_score))\n",
    "print(\"Test F1: {:.4} \\t\\t\".format(lr_test_score))"
   ]
  },
  {
   "cell_type": "markdown",
   "metadata": {},
   "source": [
    "## Predicting on Manual Classified"
   ]
  },
  {
   "cell_type": "code",
   "execution_count": 70,
   "metadata": {},
   "outputs": [],
   "source": [
    "X_val = manual_test['text']\n",
    "y_val = manual_test['target']"
   ]
  },
  {
   "cell_type": "code",
   "execution_count": 71,
   "metadata": {},
   "outputs": [],
   "source": [
    "tf_idf_data_val = vectorizer.transform(X_val)"
   ]
  },
  {
   "cell_type": "code",
   "execution_count": 72,
   "metadata": {},
   "outputs": [],
   "source": [
    "lr_tuned_val_preds = lr_tuned.predict(tf_idf_data_val)"
   ]
  },
  {
   "cell_type": "code",
   "execution_count": 73,
   "metadata": {},
   "outputs": [
    {
     "name": "stdout",
     "output_type": "stream",
     "text": [
      "Val F1: 0.68 \t\t\n"
     ]
    }
   ],
   "source": [
    "lr_val_score = f1_score(y_val, lr_tuned_val_preds)\n",
    "\n",
    "print(\"Val F1: {:.4} \\t\\t\".format(lr_val_score))"
   ]
  },
  {
   "cell_type": "code",
   "execution_count": null,
   "metadata": {},
   "outputs": [],
   "source": []
  },
  {
   "cell_type": "code",
   "execution_count": null,
   "metadata": {},
   "outputs": [],
   "source": []
  }
 ],
 "metadata": {
  "kernelspec": {
   "display_name": "Python (learn-env)",
   "language": "python",
   "name": "learn-env"
  },
  "language_info": {
   "codemirror_mode": {
    "name": "ipython",
    "version": 3
   },
   "file_extension": ".py",
   "mimetype": "text/x-python",
   "name": "python",
   "nbconvert_exporter": "python",
   "pygments_lexer": "ipython3",
   "version": "3.8.5"
  }
 },
 "nbformat": 4,
 "nbformat_minor": 4
}
