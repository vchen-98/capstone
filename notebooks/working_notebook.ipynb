{
 "cells": [
  {
   "cell_type": "code",
   "execution_count": 11,
   "metadata": {},
   "outputs": [],
   "source": [
    "from collections import defaultdict\n",
    "import numpy as np\n",
    "import pandas as pd\n",
    "from sklearn.model_selection import train_test_split\n",
    "import nltk\n",
    "from nltk.tokenize import regexp_tokenize, word_tokenize, RegexpTokenizer\n",
    "from nltk.corpus import stopwords, wordnet\n",
    "from nltk import pos_tag\n",
    "from nltk.stem import WordNetLemmatizer\n",
    "from sklearn.feature_extraction.text import TfidfVectorizer, CountVectorizer\n",
    "from sklearn.ensemble import RandomForestClassifier\n",
    "from sklearn.naive_bayes import MultinomialNB\n",
    "from sklearn.metrics import accuracy_score, precision_score, confusion_matrix\n",
    "import string\n",
    "import matplotlib.pyplot as plt"
   ]
  },
  {
   "cell_type": "code",
   "execution_count": 12,
   "metadata": {
    "scrolled": true
   },
   "outputs": [
    {
     "data": {
      "text/html": [
       "<div>\n",
       "<style scoped>\n",
       "    .dataframe tbody tr th:only-of-type {\n",
       "        vertical-align: middle;\n",
       "    }\n",
       "\n",
       "    .dataframe tbody tr th {\n",
       "        vertical-align: top;\n",
       "    }\n",
       "\n",
       "    .dataframe thead th {\n",
       "        text-align: right;\n",
       "    }\n",
       "</style>\n",
       "<table border=\"1\" class=\"dataframe\">\n",
       "  <thead>\n",
       "    <tr style=\"text-align: right;\">\n",
       "      <th></th>\n",
       "      <th>review_id</th>\n",
       "      <th>user_id</th>\n",
       "      <th>business_id</th>\n",
       "      <th>stars</th>\n",
       "      <th>date</th>\n",
       "      <th>text</th>\n",
       "      <th>useful</th>\n",
       "      <th>funny</th>\n",
       "      <th>cool</th>\n",
       "    </tr>\n",
       "  </thead>\n",
       "  <tbody>\n",
       "    <tr>\n",
       "      <th>0</th>\n",
       "      <td>vkVSCC7xljjrAI4UGfnKEQ</td>\n",
       "      <td>bv2nCi5Qv5vroFiqKGopiw</td>\n",
       "      <td>AEx2SYEUJmTxVVB18LlCwA</td>\n",
       "      <td>5</td>\n",
       "      <td>2016-05-28</td>\n",
       "      <td>Super simple place but amazing nonetheless. It...</td>\n",
       "      <td>0</td>\n",
       "      <td>0</td>\n",
       "      <td>0</td>\n",
       "    </tr>\n",
       "    <tr>\n",
       "      <th>1</th>\n",
       "      <td>n6QzIUObkYshz4dz2QRJTw</td>\n",
       "      <td>bv2nCi5Qv5vroFiqKGopiw</td>\n",
       "      <td>VR6GpWIda3SfvPC-lg9H3w</td>\n",
       "      <td>5</td>\n",
       "      <td>2016-05-28</td>\n",
       "      <td>Small unassuming place that changes their menu...</td>\n",
       "      <td>0</td>\n",
       "      <td>0</td>\n",
       "      <td>0</td>\n",
       "    </tr>\n",
       "    <tr>\n",
       "      <th>2</th>\n",
       "      <td>MV3CcKScW05u5LVfF6ok0g</td>\n",
       "      <td>bv2nCi5Qv5vroFiqKGopiw</td>\n",
       "      <td>CKC0-MOWMqoeWf6s-szl8g</td>\n",
       "      <td>5</td>\n",
       "      <td>2016-05-28</td>\n",
       "      <td>Lester's is located in a beautiful neighborhoo...</td>\n",
       "      <td>0</td>\n",
       "      <td>0</td>\n",
       "      <td>0</td>\n",
       "    </tr>\n",
       "    <tr>\n",
       "      <th>3</th>\n",
       "      <td>IXvOzsEMYtiJI0CARmj77Q</td>\n",
       "      <td>bv2nCi5Qv5vroFiqKGopiw</td>\n",
       "      <td>ACFtxLv8pGrrxMm6EgjreA</td>\n",
       "      <td>4</td>\n",
       "      <td>2016-05-28</td>\n",
       "      <td>Love coming here. Yes the place always needs t...</td>\n",
       "      <td>0</td>\n",
       "      <td>0</td>\n",
       "      <td>0</td>\n",
       "    </tr>\n",
       "    <tr>\n",
       "      <th>4</th>\n",
       "      <td>L_9BTb55X0GDtThi6GlZ6w</td>\n",
       "      <td>bv2nCi5Qv5vroFiqKGopiw</td>\n",
       "      <td>s2I_Ni76bjJNK9yG60iD-Q</td>\n",
       "      <td>4</td>\n",
       "      <td>2016-05-28</td>\n",
       "      <td>Had their chocolate almond croissant and it wa...</td>\n",
       "      <td>0</td>\n",
       "      <td>0</td>\n",
       "      <td>0</td>\n",
       "    </tr>\n",
       "  </tbody>\n",
       "</table>\n",
       "</div>"
      ],
      "text/plain": [
       "                review_id                 user_id             business_id  \\\n",
       "0  vkVSCC7xljjrAI4UGfnKEQ  bv2nCi5Qv5vroFiqKGopiw  AEx2SYEUJmTxVVB18LlCwA   \n",
       "1  n6QzIUObkYshz4dz2QRJTw  bv2nCi5Qv5vroFiqKGopiw  VR6GpWIda3SfvPC-lg9H3w   \n",
       "2  MV3CcKScW05u5LVfF6ok0g  bv2nCi5Qv5vroFiqKGopiw  CKC0-MOWMqoeWf6s-szl8g   \n",
       "3  IXvOzsEMYtiJI0CARmj77Q  bv2nCi5Qv5vroFiqKGopiw  ACFtxLv8pGrrxMm6EgjreA   \n",
       "4  L_9BTb55X0GDtThi6GlZ6w  bv2nCi5Qv5vroFiqKGopiw  s2I_Ni76bjJNK9yG60iD-Q   \n",
       "\n",
       "   stars        date                                               text  \\\n",
       "0      5  2016-05-28  Super simple place but amazing nonetheless. It...   \n",
       "1      5  2016-05-28  Small unassuming place that changes their menu...   \n",
       "2      5  2016-05-28  Lester's is located in a beautiful neighborhoo...   \n",
       "3      4  2016-05-28  Love coming here. Yes the place always needs t...   \n",
       "4      4  2016-05-28  Had their chocolate almond croissant and it wa...   \n",
       "\n",
       "   useful  funny  cool  \n",
       "0       0      0     0  \n",
       "1       0      0     0  \n",
       "2       0      0     0  \n",
       "3       0      0     0  \n",
       "4       0      0     0  "
      ]
     },
     "execution_count": 12,
     "metadata": {},
     "output_type": "execute_result"
    }
   ],
   "source": [
    "df = pd.read_csv('data/smaller/yelp_review.csv')\n",
    "df.head()"
   ]
  },
  {
   "cell_type": "code",
   "execution_count": 13,
   "metadata": {},
   "outputs": [
    {
     "data": {
      "text/plain": [
       "(5261668, 9)"
      ]
     },
     "execution_count": 13,
     "metadata": {},
     "output_type": "execute_result"
    }
   ],
   "source": [
    "df.shape"
   ]
  },
  {
   "cell_type": "code",
   "execution_count": 14,
   "metadata": {},
   "outputs": [],
   "source": [
    "eda = df"
   ]
  },
  {
   "cell_type": "code",
   "execution_count": 15,
   "metadata": {},
   "outputs": [
    {
     "data": {
      "text/plain": [
       "1169524"
      ]
     },
     "execution_count": 15,
     "metadata": {},
     "output_type": "execute_result"
    }
   ],
   "source": [
    "731363 + 438161"
   ]
  },
  {
   "cell_type": "markdown",
   "metadata": {},
   "source": [
    "## Ratings Distribution"
   ]
  },
  {
   "cell_type": "code",
   "execution_count": 16,
   "metadata": {},
   "outputs": [
    {
     "data": {
      "text/plain": [
       "5    2253347\n",
       "4    1223316\n",
       "1     731363\n",
       "3     615481\n",
       "2     438161\n",
       "Name: stars, dtype: int64"
      ]
     },
     "execution_count": 16,
     "metadata": {},
     "output_type": "execute_result"
    }
   ],
   "source": [
    "df['stars'].value_counts()"
   ]
  },
  {
   "cell_type": "code",
   "execution_count": 17,
   "metadata": {},
   "outputs": [
    {
     "data": {
      "text/plain": [
       "Text(0.5, 1.0, 'Ratings Distribution')"
      ]
     },
     "execution_count": 17,
     "metadata": {},
     "output_type": "execute_result"
    },
    {
     "data": {
      "image/png": "[encoded data removed]",
      "text/plain": [
       "<Figure size 432x288 with 1 Axes>"
      ]
     },
     "metadata": {
      "needs_background": "light"
     },
     "output_type": "display_data"
    }
   ],
   "source": [
    "fig, ax = plt.subplots()\n",
    "\n",
    "ax.bar(df['stars'].value_counts().keys(), df['stars'].value_counts().values)\n",
    "ax.set_xlabel('Ratings')\n",
    "ax.set_ylabel('Number of Ratings')\n",
    "ax.set_title('Ratings Distribution')"
   ]
  },
  {
   "cell_type": "markdown",
   "metadata": {},
   "source": [
    "# Manual Neutral Review Classification"
   ]
  },
  {
   "cell_type": "code",
   "execution_count": 18,
   "metadata": {},
   "outputs": [],
   "source": [
    "pd.set_option(\"display.max_colwidth\", None)"
   ]
  },
  {
   "cell_type": "code",
   "execution_count": 19,
   "metadata": {},
   "outputs": [],
   "source": [
    "neutrals = df[df['stars'] == 3]"
   ]
  },
  {
   "cell_type": "code",
   "execution_count": null,
   "metadata": {},
   "outputs": [],
   "source": []
  },
  {
   "cell_type": "code",
   "execution_count": 20,
   "metadata": {},
   "outputs": [
    {
     "data": {
      "text/html": [
       "<div>\n",
       "<style scoped>\n",
       "    .dataframe tbody tr th:only-of-type {\n",
       "        vertical-align: middle;\n",
       "    }\n",
       "\n",
       "    .dataframe tbody tr th {\n",
       "        vertical-align: top;\n",
       "    }\n",
       "\n",
       "    .dataframe thead th {\n",
       "        text-align: right;\n",
       "    }\n",
       "</style>\n",
       "<table border=\"1\" class=\"dataframe\">\n",
       "  <thead>\n",
       "    <tr style=\"text-align: right;\">\n",
       "      <th></th>\n",
       "      <th>review_id</th>\n",
       "      <th>user_id</th>\n",
       "      <th>business_id</th>\n",
       "      <th>stars</th>\n",
       "      <th>date</th>\n",
       "      <th>text</th>\n",
       "      <th>useful</th>\n",
       "      <th>funny</th>\n",
       "      <th>cool</th>\n",
       "    </tr>\n",
       "  </thead>\n",
       "  <tbody>\n",
       "    <tr>\n",
       "      <th>8</th>\n",
       "      <td>w41ZS9shepfO3uEyhXEWuQ</td>\n",
       "      <td>u0LXt3Uea_GidxRW1xcsfg</td>\n",
       "      <td>5r6-G9C4YLbC7Ziz57l3rQ</td>\n",
       "      <td>3</td>\n",
       "      <td>2013-02-09</td>\n",
       "      <td>Not bad!! Love that there is a gluten-free, vegan version of the cheese curds and gravy!!\\n\\nHaven't done the poutine taste test yet with smoke's but Im excited to see which is better. However poutini's might win as they are vegan and gluten-free</td>\n",
       "      <td>1</td>\n",
       "      <td>0</td>\n",
       "      <td>0</td>\n",
       "    </tr>\n",
       "    <tr>\n",
       "      <th>11</th>\n",
       "      <td>PdZ_uFjbbkjtm3SCY_KrZw</td>\n",
       "      <td>u0LXt3Uea_GidxRW1xcsfg</td>\n",
       "      <td>XWTPNfskXoUL-Lf32wSk0Q</td>\n",
       "      <td>3</td>\n",
       "      <td>2011-09-28</td>\n",
       "      <td>Server was a little rude.\\n\\nOrdered the calamari, duck confit poutine and the trout fish with miso soba - all very tasty. Definitely not your typical diner.</td>\n",
       "      <td>5</td>\n",
       "      <td>0</td>\n",
       "      <td>1</td>\n",
       "    </tr>\n",
       "    <tr>\n",
       "      <th>13</th>\n",
       "      <td>lsoSqIrrDbQvWpMvsSj2xw</td>\n",
       "      <td>u0LXt3Uea_GidxRW1xcsfg</td>\n",
       "      <td>RtUvSWO_UZ8V3Wpj0n077w</td>\n",
       "      <td>3</td>\n",
       "      <td>2012-12-03</td>\n",
       "      <td>Wanted to check out this place due to all the hype I had heard. My friend wanted to come here for her birthday. We had a group of seven and based on the way the seating works (as it is communal), we wind up sharing with another group of five. \\n\\nFood was ok - not sure what the hype was. Almost 75% of the dishes had some sort of cheese in it.\\n\\nThis place is very loud so not ideal for catching up\\/talking. Not a great place to go if you have any gluten or vegan restrictions.\\n\\nInteresting concept. Would definitely recommend to try this place once - but definitely not worth the 30- 45 mins wait.</td>\n",
       "      <td>2</td>\n",
       "      <td>1</td>\n",
       "      <td>1</td>\n",
       "    </tr>\n",
       "    <tr>\n",
       "      <th>17</th>\n",
       "      <td>xdu8nXrbNKeaywCX79KZSw</td>\n",
       "      <td>u0LXt3Uea_GidxRW1xcsfg</td>\n",
       "      <td>PFPUMF38-lraKzLcTiz5gQ</td>\n",
       "      <td>3</td>\n",
       "      <td>2010-09-15</td>\n",
       "      <td>Came here with my girlfriends one Sunday afternoon. This place will take a long time to serve your food - as it took them almost an hour to give us our food. So make sure you give yourself lots of time! It is definitely a lazy brunch place!\\n\\nDefinitely recommend the pancakes! Beware of the portion sizes - they are huge!</td>\n",
       "      <td>2</td>\n",
       "      <td>0</td>\n",
       "      <td>0</td>\n",
       "    </tr>\n",
       "    <tr>\n",
       "      <th>18</th>\n",
       "      <td>K7o5jDInfmX3cY5oH6ATNw</td>\n",
       "      <td>u0LXt3Uea_GidxRW1xcsfg</td>\n",
       "      <td>oWTn2IzrprsRkPfULtjZtQ</td>\n",
       "      <td>3</td>\n",
       "      <td>2012-09-23</td>\n",
       "      <td>Came here for a burger as one of my friends said they had good burgers and people from work would come by twice a month for a burger run.\\n\\nOrdered the original was was ok, wasn't as amazing as everyone says it to be. I think the veggie option would have been better.\\n\\nA little pricy for a take-out burger.</td>\n",
       "      <td>4</td>\n",
       "      <td>0</td>\n",
       "      <td>0</td>\n",
       "    </tr>\n",
       "  </tbody>\n",
       "</table>\n",
       "</div>"
      ],
      "text/plain": [
       "                 review_id                 user_id             business_id  \\\n",
       "8   w41ZS9shepfO3uEyhXEWuQ  u0LXt3Uea_GidxRW1xcsfg  5r6-G9C4YLbC7Ziz57l3rQ   \n",
       "11  PdZ_uFjbbkjtm3SCY_KrZw  u0LXt3Uea_GidxRW1xcsfg  XWTPNfskXoUL-Lf32wSk0Q   \n",
       "13  lsoSqIrrDbQvWpMvsSj2xw  u0LXt3Uea_GidxRW1xcsfg  RtUvSWO_UZ8V3Wpj0n077w   \n",
       "17  xdu8nXrbNKeaywCX79KZSw  u0LXt3Uea_GidxRW1xcsfg  PFPUMF38-lraKzLcTiz5gQ   \n",
       "18  K7o5jDInfmX3cY5oH6ATNw  u0LXt3Uea_GidxRW1xcsfg  oWTn2IzrprsRkPfULtjZtQ   \n",
       "\n",
       "    stars        date  \\\n",
       "8       3  2013-02-09   \n",
       "11      3  2011-09-28   \n",
       "13      3  2012-12-03   \n",
       "17      3  2010-09-15   \n",
       "18      3  2012-09-23   \n",
       "\n",
       "                                                                                                                                                                                                                                                                                                                                                                                                                                                                                                                                                                                                                           text  \\\n",
       "8                                                                                                                                                                                                                                                                                                                                                                        Not bad!! Love that there is a gluten-free, vegan version of the cheese curds and gravy!!\\n\\nHaven't done the poutine taste test yet with smoke's but Im excited to see which is better. However poutini's might win as they are vegan and gluten-free   \n",
       "11                                                                                                                                                                                                                                                                                                                                                                                                                                                                Server was a little rude.\\n\\nOrdered the calamari, duck confit poutine and the trout fish with miso soba - all very tasty. Definitely not your typical diner.   \n",
       "13  Wanted to check out this place due to all the hype I had heard. My friend wanted to come here for her birthday. We had a group of seven and based on the way the seating works (as it is communal), we wind up sharing with another group of five. \\n\\nFood was ok - not sure what the hype was. Almost 75% of the dishes had some sort of cheese in it.\\n\\nThis place is very loud so not ideal for catching up\\/talking. Not a great place to go if you have any gluten or vegan restrictions.\\n\\nInteresting concept. Would definitely recommend to try this place once - but definitely not worth the 30- 45 mins wait.   \n",
       "17                                                                                                                                                                                                                                                                                          Came here with my girlfriends one Sunday afternoon. This place will take a long time to serve your food - as it took them almost an hour to give us our food. So make sure you give yourself lots of time! It is definitely a lazy brunch place!\\n\\nDefinitely recommend the pancakes! Beware of the portion sizes - they are huge!   \n",
       "18                                                                                                                                                                                                                                                                                                        Came here for a burger as one of my friends said they had good burgers and people from work would come by twice a month for a burger run.\\n\\nOrdered the original was was ok, wasn't as amazing as everyone says it to be. I think the veggie option would have been better.\\n\\nA little pricy for a take-out burger.   \n",
       "\n",
       "    useful  funny  cool  \n",
       "8        1      0     0  \n",
       "11       5      0     1  \n",
       "13       2      1     1  \n",
       "17       2      0     0  \n",
       "18       4      0     0  "
      ]
     },
     "execution_count": 20,
     "metadata": {},
     "output_type": "execute_result"
    }
   ],
   "source": [
    "neutrals.head()"
   ]
  },
  {
   "cell_type": "code",
   "execution_count": 21,
   "metadata": {},
   "outputs": [
    {
     "name": "stderr",
     "output_type": "stream",
     "text": [
      "C:\\Users\\nehcr\\anaconda3\\envs\\learn-env\\lib\\site-packages\\pandas\\core\\indexing.py:659: SettingWithCopyWarning: \n",
      "A value is trying to be set on a copy of a slice from a DataFrame.\n",
      "Try using .loc[row_indexer,col_indexer] = value instead\n",
      "\n",
      "See the caveats in the documentation: https://pandas.pydata.org/pandas-docs/stable/user_guide/indexing.html#returning-a-view-versus-a-copy\n",
      "  self.obj[k] = np.nan\n",
      "C:\\Users\\nehcr\\anaconda3\\envs\\learn-env\\lib\\site-packages\\pandas\\core\\indexing.py:1765: SettingWithCopyWarning: \n",
      "A value is trying to be set on a copy of a slice from a DataFrame.\n",
      "Try using .loc[row_indexer,col_indexer] = value instead\n",
      "\n",
      "See the caveats in the documentation: https://pandas.pydata.org/pandas-docs/stable/user_guide/indexing.html#returning-a-view-versus-a-copy\n",
      "  isetter(loc, value)\n"
     ]
    }
   ],
   "source": [
    "neutrals.loc[:, ['target']] = 0"
   ]
  },
  {
   "cell_type": "code",
   "execution_count": 22,
   "metadata": {},
   "outputs": [],
   "source": [
    "# review at index 8 is 'positive'\n",
    "neutrals.loc[8, ['target']] = 1"
   ]
  },
  {
   "cell_type": "code",
   "execution_count": 23,
   "metadata": {},
   "outputs": [],
   "source": [
    "# review at index 11 is positive\n",
    "neutrals.loc[11, ['target']] = 1"
   ]
  },
  {
   "cell_type": "code",
   "execution_count": 24,
   "metadata": {
    "scrolled": false
   },
   "outputs": [],
   "source": [
    "neutrals.loc[24, ['target']] = 1"
   ]
  },
  {
   "cell_type": "code",
   "execution_count": 25,
   "metadata": {},
   "outputs": [
    {
     "data": {
      "text/html": [
       "<div>\n",
       "<style scoped>\n",
       "    .dataframe tbody tr th:only-of-type {\n",
       "        vertical-align: middle;\n",
       "    }\n",
       "\n",
       "    .dataframe tbody tr th {\n",
       "        vertical-align: top;\n",
       "    }\n",
       "\n",
       "    .dataframe thead th {\n",
       "        text-align: right;\n",
       "    }\n",
       "</style>\n",
       "<table border=\"1\" class=\"dataframe\">\n",
       "  <thead>\n",
       "    <tr style=\"text-align: right;\">\n",
       "      <th></th>\n",
       "      <th>review_id</th>\n",
       "      <th>user_id</th>\n",
       "      <th>business_id</th>\n",
       "      <th>stars</th>\n",
       "      <th>date</th>\n",
       "      <th>text</th>\n",
       "      <th>useful</th>\n",
       "      <th>funny</th>\n",
       "      <th>cool</th>\n",
       "      <th>target</th>\n",
       "    </tr>\n",
       "  </thead>\n",
       "  <tbody>\n",
       "    <tr>\n",
       "      <th>50</th>\n",
       "      <td>66KqTwiQ1oB9-aTsoEN35Q</td>\n",
       "      <td>u0LXt3Uea_GidxRW1xcsfg</td>\n",
       "      <td>DKiRDPtQ5cTN-eX1oEgA9w</td>\n",
       "      <td>3</td>\n",
       "      <td>2017-01-04</td>\n",
       "      <td>It's a pub... nice and clean one.\\n\\nCame here to grab some food with the girls since the Thai place below was an hour wait. We stuck with the normal pub food: burgers, fries and grilled cheese sandwich.\\n\\nThe burger presentation was great - it comes with fries and some onion rings piled on top. It was a decent burger.\\n\\nGirlfriend got the grilled cheese sandwich with bacon - which she said was good.\\n\\nWhen looking at the menu - there are so many options to choose from... especially with the pictures they include. The only thing is the pictures always look better then the real thing. The Sheppard's pie looked so yummy but when we saw another table get it, it didn't look so appealing.</td>\n",
       "      <td>0</td>\n",
       "      <td>0</td>\n",
       "      <td>0</td>\n",
       "      <td>0</td>\n",
       "    </tr>\n",
       "    <tr>\n",
       "      <th>54</th>\n",
       "      <td>cafDR6sZnIO02tf03ZXRZw</td>\n",
       "      <td>u0LXt3Uea_GidxRW1xcsfg</td>\n",
       "      <td>FQr_scgz9a4sXTdRS4d3mg</td>\n",
       "      <td>3</td>\n",
       "      <td>2015-06-15</td>\n",
       "      <td>Nice place by Cumberland place. After we had sat down, we were given two HUGE blown up pitas. So we had ordered the eggplant dip to go with it. It had a nice smoked flavour to it but not even garlic taste for my liking so it was just a-ok.\\n\\nOrdered a chicken shawarma and a mango strawberry juice. The juice was yummy and would definitely order it again! The shawarma - I'm not sure about it. The meat wasn't as tasty as I thought it would be. Maybe I need to try the falafel instead next time.</td>\n",
       "      <td>0</td>\n",
       "      <td>0</td>\n",
       "      <td>1</td>\n",
       "      <td>0</td>\n",
       "    </tr>\n",
       "    <tr>\n",
       "      <th>62</th>\n",
       "      <td>UmJM6J7KJT0KhGvOZ4n3IQ</td>\n",
       "      <td>u0LXt3Uea_GidxRW1xcsfg</td>\n",
       "      <td>xpJEBXTCQh5Ib8BJrjt9Bg</td>\n",
       "      <td>3</td>\n",
       "      <td>2016-02-08</td>\n",
       "      <td>Came here after dinner to meet up with some friends...it was nice and roomy for 7 people. \\n\\nWe ordered a plate of Rosemary fries to share, which wasn't bad, however when served it was room temperature and did not taste like it just came out of the fryer.\\n\\nBF had ordered a couple of beers, which he was not impressed at all with.</td>\n",
       "      <td>0</td>\n",
       "      <td>0</td>\n",
       "      <td>0</td>\n",
       "      <td>0</td>\n",
       "    </tr>\n",
       "    <tr>\n",
       "      <th>63</th>\n",
       "      <td>-Km-gkgaAJAx37yEHIERDg</td>\n",
       "      <td>u0LXt3Uea_GidxRW1xcsfg</td>\n",
       "      <td>yuFdJdrnfMp3cfXVwTXjjA</td>\n",
       "      <td>3</td>\n",
       "      <td>2016-02-08</td>\n",
       "      <td>Wanted to give this place a try since it was in my neighbourhood and I wouldn't have to go far. Came here for a late lunch on a Friday - there was a few tables, but nothing crazy.\\n\\nWe had ordered:\\n\\n- Spicy Miso Ramen\\n- Salt Broth Ramen\\n\\nThey were ok - can't say there were great and can't say it was terrible. The noodles had a nice texture to it, a bit chewy and not too soft. But the broth was a bit bland - definitely lacking some depth to it like another reviewer had said.\\n\\nLooking at the menu, they definitely did have quite a few ramen options - perhaps too many options and they should try to narrow it down to make them better.\\n\\nPerhaps next time we should try the other menu items and not the ramen.</td>\n",
       "      <td>0</td>\n",
       "      <td>0</td>\n",
       "      <td>0</td>\n",
       "      <td>0</td>\n",
       "    </tr>\n",
       "    <tr>\n",
       "      <th>68</th>\n",
       "      <td>Y8vA-J6yGkr5-nE95tbjGA</td>\n",
       "      <td>u0LXt3Uea_GidxRW1xcsfg</td>\n",
       "      <td>1jNteKQ2JuF6Sk1SI9X23Q</td>\n",
       "      <td>3</td>\n",
       "      <td>2012-09-23</td>\n",
       "      <td>Chinese version of Cheesecake factory. \\n\\nCame here with a friend on a Thursday night at 7:30pm and was told it was a 45 mins  wait. My friend had walked by at 6pm to try to make a reservation in person but they said they wouldn't take it.\\n\\nWe wind up sitting at the bar to bypass the wait, as they serve the full menu at the bar as well.\\n\\nNothing crazy different on the menu but the bartenders were really nice as we had sat there for over 2 hours.\\n\\nWe had ordered the crispy green beans which was really tasty. Ma Pao Tofu which was weird that it was crispy tofu served on top of a bed of broccoli. Vegetarian fried rice, ok but also served with a lot of broccoli.\\n\\nWill be back to try some of their noodle dishes.</td>\n",
       "      <td>0</td>\n",
       "      <td>0</td>\n",
       "      <td>0</td>\n",
       "      <td>0</td>\n",
       "    </tr>\n",
       "    <tr>\n",
       "      <th>69</th>\n",
       "      <td>S5BSUs-iDrwn6o5968LmEg</td>\n",
       "      <td>u0LXt3Uea_GidxRW1xcsfg</td>\n",
       "      <td>xNNAfZJkLZlAeS-I7-QwgA</td>\n",
       "      <td>3</td>\n",
       "      <td>2017-10-16</td>\n",
       "      <td>We were here on a holiday Monday where nothing much was open. We had to grab some takeout as we were in a rush and this was the only place open.\\n\\nWe ordered:\\n- beef noodle soup\\n- grilled pork chop rice\\n- grilled port vermicelli \\n\\nThe food was ok, nothing exciting and kind of bland.</td>\n",
       "      <td>0</td>\n",
       "      <td>0</td>\n",
       "      <td>0</td>\n",
       "      <td>0</td>\n",
       "    </tr>\n",
       "    <tr>\n",
       "      <th>70</th>\n",
       "      <td>JCna3sfrjqtnsG7l-pSs-A</td>\n",
       "      <td>u0LXt3Uea_GidxRW1xcsfg</td>\n",
       "      <td>uATqc1QJkS5lOKfoJ6Uz2w</td>\n",
       "      <td>3</td>\n",
       "      <td>2013-02-18</td>\n",
       "      <td>Read about this bakery on BlogTO so decided to check it out since it was so close.\\n\\nCute little place in the mid of Chinatown.\\n\\nSmelt amazing when we walked in. Walked out with the following:\\n- carrot cake\\n- ginger spice cookie\\n- spicy chocolate cookie\\n- gluten free peanut butter cookie\\n\\nThe mini 5 inch cake was a good size not overly priced at $7. Was a bit on the sweet side but wasn't terrible. Just make sure you have it with tea or coffee (with no sugar).\\n\\nThe cookies were $1.75 a piece, average for the size of the cookie. However they are the crunchy kind of cookies so if you are looking for a soft chewy cookie, you should skip it.\\n\\nOverall not bad, will be back to try other stuff! Can't wait until she adds more gluten free items on the menu!</td>\n",
       "      <td>2</td>\n",
       "      <td>0</td>\n",
       "      <td>1</td>\n",
       "      <td>0</td>\n",
       "    </tr>\n",
       "  </tbody>\n",
       "</table>\n",
       "</div>"
      ],
      "text/plain": [
       "                 review_id                 user_id             business_id  \\\n",
       "50  66KqTwiQ1oB9-aTsoEN35Q  u0LXt3Uea_GidxRW1xcsfg  DKiRDPtQ5cTN-eX1oEgA9w   \n",
       "54  cafDR6sZnIO02tf03ZXRZw  u0LXt3Uea_GidxRW1xcsfg  FQr_scgz9a4sXTdRS4d3mg   \n",
       "62  UmJM6J7KJT0KhGvOZ4n3IQ  u0LXt3Uea_GidxRW1xcsfg  xpJEBXTCQh5Ib8BJrjt9Bg   \n",
       "63  -Km-gkgaAJAx37yEHIERDg  u0LXt3Uea_GidxRW1xcsfg  yuFdJdrnfMp3cfXVwTXjjA   \n",
       "68  Y8vA-J6yGkr5-nE95tbjGA  u0LXt3Uea_GidxRW1xcsfg  1jNteKQ2JuF6Sk1SI9X23Q   \n",
       "69  S5BSUs-iDrwn6o5968LmEg  u0LXt3Uea_GidxRW1xcsfg  xNNAfZJkLZlAeS-I7-QwgA   \n",
       "70  JCna3sfrjqtnsG7l-pSs-A  u0LXt3Uea_GidxRW1xcsfg  uATqc1QJkS5lOKfoJ6Uz2w   \n",
       "\n",
       "    stars        date  \\\n",
       "50      3  2017-01-04   \n",
       "54      3  2015-06-15   \n",
       "62      3  2016-02-08   \n",
       "63      3  2016-02-08   \n",
       "68      3  2012-09-23   \n",
       "69      3  2017-10-16   \n",
       "70      3  2013-02-18   \n",
       "\n",
       "                                                                                                                                                                                                                                                                                                                                                                                                                                                                                                                                                                                                                                                                                                                                                                                                  text  \\\n",
       "50                                                                             It's a pub... nice and clean one.\\n\\nCame here to grab some food with the girls since the Thai place below was an hour wait. We stuck with the normal pub food: burgers, fries and grilled cheese sandwich.\\n\\nThe burger presentation was great - it comes with fries and some onion rings piled on top. It was a decent burger.\\n\\nGirlfriend got the grilled cheese sandwich with bacon - which she said was good.\\n\\nWhen looking at the menu - there are so many options to choose from... especially with the pictures they include. The only thing is the pictures always look better then the real thing. The Sheppard's pie looked so yummy but when we saw another table get it, it didn't look so appealing.   \n",
       "54                                                                                                                                                                                                                                                                                    Nice place by Cumberland place. After we had sat down, we were given two HUGE blown up pitas. So we had ordered the eggplant dip to go with it. It had a nice smoked flavour to it but not even garlic taste for my liking so it was just a-ok.\\n\\nOrdered a chicken shawarma and a mango strawberry juice. The juice was yummy and would definitely order it again! The shawarma - I'm not sure about it. The meat wasn't as tasty as I thought it would be. Maybe I need to try the falafel instead next time.   \n",
       "62                                                                                                                                                                                                                                                                                                                                                                                                                                                       Came here after dinner to meet up with some friends...it was nice and roomy for 7 people. \\n\\nWe ordered a plate of Rosemary fries to share, which wasn't bad, however when served it was room temperature and did not taste like it just came out of the fryer.\\n\\nBF had ordered a couple of beers, which he was not impressed at all with.   \n",
       "63                                                    Wanted to give this place a try since it was in my neighbourhood and I wouldn't have to go far. Came here for a late lunch on a Friday - there was a few tables, but nothing crazy.\\n\\nWe had ordered:\\n\\n- Spicy Miso Ramen\\n- Salt Broth Ramen\\n\\nThey were ok - can't say there were great and can't say it was terrible. The noodles had a nice texture to it, a bit chewy and not too soft. But the broth was a bit bland - definitely lacking some depth to it like another reviewer had said.\\n\\nLooking at the menu, they definitely did have quite a few ramen options - perhaps too many options and they should try to narrow it down to make them better.\\n\\nPerhaps next time we should try the other menu items and not the ramen.   \n",
       "68                                               Chinese version of Cheesecake factory. \\n\\nCame here with a friend on a Thursday night at 7:30pm and was told it was a 45 mins  wait. My friend had walked by at 6pm to try to make a reservation in person but they said they wouldn't take it.\\n\\nWe wind up sitting at the bar to bypass the wait, as they serve the full menu at the bar as well.\\n\\nNothing crazy different on the menu but the bartenders were really nice as we had sat there for over 2 hours.\\n\\nWe had ordered the crispy green beans which was really tasty. Ma Pao Tofu which was weird that it was crispy tofu served on top of a bed of broccoli. Vegetarian fried rice, ok but also served with a lot of broccoli.\\n\\nWill be back to try some of their noodle dishes.   \n",
       "69                                                                                                                                                                                                                                                                                                                                                                                                                                                                                                   We were here on a holiday Monday where nothing much was open. We had to grab some takeout as we were in a rush and this was the only place open.\\n\\nWe ordered:\\n- beef noodle soup\\n- grilled pork chop rice\\n- grilled port vermicelli \\n\\nThe food was ok, nothing exciting and kind of bland.   \n",
       "70  Read about this bakery on BlogTO so decided to check it out since it was so close.\\n\\nCute little place in the mid of Chinatown.\\n\\nSmelt amazing when we walked in. Walked out with the following:\\n- carrot cake\\n- ginger spice cookie\\n- spicy chocolate cookie\\n- gluten free peanut butter cookie\\n\\nThe mini 5 inch cake was a good size not overly priced at $7. Was a bit on the sweet side but wasn't terrible. Just make sure you have it with tea or coffee (with no sugar).\\n\\nThe cookies were $1.75 a piece, average for the size of the cookie. However they are the crunchy kind of cookies so if you are looking for a soft chewy cookie, you should skip it.\\n\\nOverall not bad, will be back to try other stuff! Can't wait until she adds more gluten free items on the menu!   \n",
       "\n",
       "    useful  funny  cool  target  \n",
       "50       0      0     0       0  \n",
       "54       0      0     1       0  \n",
       "62       0      0     0       0  \n",
       "63       0      0     0       0  \n",
       "68       0      0     0       0  \n",
       "69       0      0     0       0  \n",
       "70       2      0     1       0  "
      ]
     },
     "execution_count": 25,
     "metadata": {},
     "output_type": "execute_result"
    }
   ],
   "source": [
    "neutrals.loc[30:70]"
   ]
  },
  {
   "cell_type": "code",
   "execution_count": 26,
   "metadata": {},
   "outputs": [
    {
     "name": "stderr",
     "output_type": "stream",
     "text": [
      "C:\\Users\\nehcr\\anaconda3\\envs\\learn-env\\lib\\site-packages\\pandas\\core\\indexing.py:1765: SettingWithCopyWarning: \n",
      "A value is trying to be set on a copy of a slice from a DataFrame.\n",
      "Try using .loc[row_indexer,col_indexer] = value instead\n",
      "\n",
      "See the caveats in the documentation: https://pandas.pydata.org/pandas-docs/stable/user_guide/indexing.html#returning-a-view-versus-a-copy\n",
      "  isetter(loc, value)\n"
     ]
    }
   ],
   "source": [
    "neutrals.loc[54, ['target']] = 1"
   ]
  },
  {
   "cell_type": "code",
   "execution_count": 27,
   "metadata": {},
   "outputs": [],
   "source": [
    "neutrals.loc[68, ['target']] = 1"
   ]
  },
  {
   "cell_type": "code",
   "execution_count": 28,
   "metadata": {},
   "outputs": [],
   "source": [
    "neutrals.loc[70, ['target']] = 1"
   ]
  },
  {
   "cell_type": "code",
   "execution_count": 29,
   "metadata": {},
   "outputs": [],
   "source": [
    "neutrals.loc[76, ['target']] = 1"
   ]
  },
  {
   "cell_type": "code",
   "execution_count": 30,
   "metadata": {},
   "outputs": [],
   "source": [
    "neutrals.loc[78, ['target']] = 1"
   ]
  },
  {
   "cell_type": "code",
   "execution_count": 31,
   "metadata": {},
   "outputs": [],
   "source": [
    "neutrals.loc[112, ['target']] = 1"
   ]
  },
  {
   "cell_type": "code",
   "execution_count": 32,
   "metadata": {},
   "outputs": [],
   "source": [
    "neutrals.loc[130, ['target']] = 1"
   ]
  },
  {
   "cell_type": "code",
   "execution_count": 33,
   "metadata": {},
   "outputs": [],
   "source": [
    "neutrals.loc[135, ['target']] = 1"
   ]
  },
  {
   "cell_type": "code",
   "execution_count": 34,
   "metadata": {},
   "outputs": [],
   "source": [
    "neutrals.loc[140, ['target']] = 1"
   ]
  },
  {
   "cell_type": "code",
   "execution_count": 35,
   "metadata": {},
   "outputs": [],
   "source": [
    "neutrals.loc[151, 'target'] = 1"
   ]
  },
  {
   "cell_type": "code",
   "execution_count": 36,
   "metadata": {},
   "outputs": [],
   "source": [
    "neutrals.loc[160, 'target'] = 1"
   ]
  },
  {
   "cell_type": "code",
   "execution_count": 37,
   "metadata": {},
   "outputs": [],
   "source": [
    "neutrals.loc[181, 'target'] = 1"
   ]
  },
  {
   "cell_type": "code",
   "execution_count": 38,
   "metadata": {},
   "outputs": [],
   "source": [
    "neutrals.loc[201, 'target'] = 1"
   ]
  },
  {
   "cell_type": "code",
   "execution_count": 39,
   "metadata": {},
   "outputs": [],
   "source": [
    "neutrals.loc[203, 'target'] = 1"
   ]
  },
  {
   "cell_type": "code",
   "execution_count": 40,
   "metadata": {},
   "outputs": [],
   "source": [
    "neutrals.loc[205, 'target'] = 1"
   ]
  },
  {
   "cell_type": "code",
   "execution_count": 41,
   "metadata": {},
   "outputs": [],
   "source": [
    "neutrals.loc[227, 'target'] = 1"
   ]
  },
  {
   "cell_type": "code",
   "execution_count": 42,
   "metadata": {},
   "outputs": [],
   "source": [
    "neutrals.loc[255, 'target'] = 1"
   ]
  },
  {
   "cell_type": "code",
   "execution_count": 43,
   "metadata": {},
   "outputs": [],
   "source": [
    "neutrals.loc[256, 'target'] = 1"
   ]
  },
  {
   "cell_type": "code",
   "execution_count": 44,
   "metadata": {},
   "outputs": [],
   "source": [
    "neutrals.loc[269, 'target'] = 1"
   ]
  },
  {
   "cell_type": "code",
   "execution_count": 45,
   "metadata": {},
   "outputs": [],
   "source": [
    "neutrals.loc[284, 'target'] = 1"
   ]
  },
  {
   "cell_type": "code",
   "execution_count": 46,
   "metadata": {},
   "outputs": [],
   "source": [
    "neutrals.loc[290, 'target'] = 1"
   ]
  },
  {
   "cell_type": "code",
   "execution_count": 47,
   "metadata": {},
   "outputs": [],
   "source": [
    "neutrals.loc[295, 'target'] = 1"
   ]
  },
  {
   "cell_type": "code",
   "execution_count": 48,
   "metadata": {},
   "outputs": [],
   "source": [
    "neutrals.loc[296, 'target'] = 1"
   ]
  },
  {
   "cell_type": "code",
   "execution_count": 49,
   "metadata": {},
   "outputs": [],
   "source": [
    "neutrals.loc[316, 'target'] = 1"
   ]
  },
  {
   "cell_type": "code",
   "execution_count": 50,
   "metadata": {},
   "outputs": [],
   "source": [
    "neutrals.loc[320, 'target'] = 1"
   ]
  },
  {
   "cell_type": "code",
   "execution_count": 51,
   "metadata": {},
   "outputs": [],
   "source": [
    "neutrals.loc[322, 'target'] = 1"
   ]
  },
  {
   "cell_type": "code",
   "execution_count": 52,
   "metadata": {},
   "outputs": [],
   "source": [
    "neutrals.loc[329, 'target'] = 1"
   ]
  },
  {
   "cell_type": "code",
   "execution_count": 53,
   "metadata": {},
   "outputs": [],
   "source": [
    "neutrals.loc[340, 'target'] = 1"
   ]
  },
  {
   "cell_type": "code",
   "execution_count": 54,
   "metadata": {},
   "outputs": [],
   "source": [
    "neutrals.loc[347, 'target'] = 1"
   ]
  },
  {
   "cell_type": "code",
   "execution_count": 55,
   "metadata": {},
   "outputs": [],
   "source": [
    "neutrals.loc[352, 'target'] = 1"
   ]
  },
  {
   "cell_type": "code",
   "execution_count": 56,
   "metadata": {},
   "outputs": [],
   "source": [
    "neutrals.loc[353, 'target'] = 1"
   ]
  },
  {
   "cell_type": "code",
   "execution_count": 57,
   "metadata": {},
   "outputs": [],
   "source": [
    "neutrals.loc[374, 'target'] = 1"
   ]
  },
  {
   "cell_type": "code",
   "execution_count": 58,
   "metadata": {},
   "outputs": [],
   "source": [
    "neutrals.loc[375, 'target'] = 1"
   ]
  },
  {
   "cell_type": "code",
   "execution_count": 59,
   "metadata": {},
   "outputs": [],
   "source": [
    "neutrals.loc[385, 'target'] = 1"
   ]
  },
  {
   "cell_type": "code",
   "execution_count": 60,
   "metadata": {},
   "outputs": [],
   "source": [
    "neutrals.loc[389, 'target'] = 1"
   ]
  },
  {
   "cell_type": "code",
   "execution_count": 61,
   "metadata": {},
   "outputs": [],
   "source": [
    "neutrals.loc[398, 'target'] = 1"
   ]
  },
  {
   "cell_type": "code",
   "execution_count": 62,
   "metadata": {},
   "outputs": [],
   "source": [
    "neutrals.loc[412, 'target'] = 1"
   ]
  },
  {
   "cell_type": "code",
   "execution_count": 63,
   "metadata": {},
   "outputs": [],
   "source": [
    "neutrals.loc[418, 'target'] = 1"
   ]
  },
  {
   "cell_type": "code",
   "execution_count": 64,
   "metadata": {},
   "outputs": [],
   "source": [
    "neutrals.loc[434, 'target'] = 1"
   ]
  },
  {
   "cell_type": "code",
   "execution_count": 65,
   "metadata": {},
   "outputs": [],
   "source": [
    "neutrals.loc[440, 'target'] = 1"
   ]
  },
  {
   "cell_type": "code",
   "execution_count": 66,
   "metadata": {},
   "outputs": [],
   "source": [
    "neutrals.loc[464, 'target'] = 1"
   ]
  },
  {
   "cell_type": "code",
   "execution_count": 67,
   "metadata": {},
   "outputs": [],
   "source": [
    "neutrals.loc[467, 'target'] = 1"
   ]
  },
  {
   "cell_type": "code",
   "execution_count": 68,
   "metadata": {},
   "outputs": [],
   "source": [
    "neutrals.loc[469, 'target'] = 1"
   ]
  },
  {
   "cell_type": "code",
   "execution_count": 69,
   "metadata": {},
   "outputs": [],
   "source": [
    "neutrals.loc[477, 'target'] = 1"
   ]
  },
  {
   "cell_type": "code",
   "execution_count": 70,
   "metadata": {},
   "outputs": [],
   "source": [
    "neutrals.loc[479, 'target'] = 1"
   ]
  },
  {
   "cell_type": "code",
   "execution_count": 71,
   "metadata": {},
   "outputs": [],
   "source": [
    "neutrals.loc[482, 'target'] = 1"
   ]
  },
  {
   "cell_type": "code",
   "execution_count": 72,
   "metadata": {},
   "outputs": [],
   "source": [
    "neutrals.loc[486, 'target'] = 1"
   ]
  },
  {
   "cell_type": "code",
   "execution_count": 73,
   "metadata": {},
   "outputs": [],
   "source": [
    "neutrals.loc[490, 'target'] = 1"
   ]
  },
  {
   "cell_type": "code",
   "execution_count": 74,
   "metadata": {},
   "outputs": [],
   "source": [
    "neutrals.loc[491, 'target'] = 1"
   ]
  },
  {
   "cell_type": "code",
   "execution_count": 75,
   "metadata": {},
   "outputs": [],
   "source": [
    "neutrals.loc[495, 'target'] = 1"
   ]
  },
  {
   "cell_type": "code",
   "execution_count": 76,
   "metadata": {},
   "outputs": [],
   "source": [
    "neutrals.loc[497, 'target'] = 1"
   ]
  },
  {
   "cell_type": "code",
   "execution_count": 77,
   "metadata": {},
   "outputs": [],
   "source": [
    "neutrals.loc[500, 'target'] = 1"
   ]
  },
  {
   "cell_type": "code",
   "execution_count": 78,
   "metadata": {},
   "outputs": [],
   "source": [
    "neutrals.loc[523, 'target'] = 1"
   ]
  },
  {
   "cell_type": "code",
   "execution_count": 79,
   "metadata": {},
   "outputs": [],
   "source": [
    "neutrals.loc[525, 'target'] = 1"
   ]
  },
  {
   "cell_type": "code",
   "execution_count": 80,
   "metadata": {},
   "outputs": [],
   "source": [
    "neutrals.loc[528, 'target'] = 1"
   ]
  },
  {
   "cell_type": "code",
   "execution_count": 81,
   "metadata": {},
   "outputs": [],
   "source": [
    "neutrals.loc[532, 'target'] = 1"
   ]
  },
  {
   "cell_type": "code",
   "execution_count": 82,
   "metadata": {},
   "outputs": [],
   "source": [
    "neutrals.loc[537, 'target'] = 1"
   ]
  },
  {
   "cell_type": "code",
   "execution_count": 83,
   "metadata": {},
   "outputs": [],
   "source": [
    "neutrals.loc[542, 'target'] = 1"
   ]
  },
  {
   "cell_type": "code",
   "execution_count": 84,
   "metadata": {},
   "outputs": [],
   "source": [
    "neutrals.loc[543, 'target'] = 1"
   ]
  },
  {
   "cell_type": "code",
   "execution_count": 85,
   "metadata": {},
   "outputs": [],
   "source": [
    "neutrals.loc[553, 'target'] = 1"
   ]
  },
  {
   "cell_type": "code",
   "execution_count": 86,
   "metadata": {},
   "outputs": [],
   "source": [
    "neutrals.loc[555, 'target'] = 1"
   ]
  },
  {
   "cell_type": "code",
   "execution_count": 87,
   "metadata": {},
   "outputs": [],
   "source": [
    "neutrals.loc[561, 'target'] = 1"
   ]
  },
  {
   "cell_type": "code",
   "execution_count": 88,
   "metadata": {},
   "outputs": [],
   "source": [
    "neutrals.loc[568, 'target'] = 1"
   ]
  },
  {
   "cell_type": "code",
   "execution_count": 89,
   "metadata": {},
   "outputs": [],
   "source": [
    "neutrals.loc[570, 'target'] = 1"
   ]
  },
  {
   "cell_type": "code",
   "execution_count": 90,
   "metadata": {},
   "outputs": [],
   "source": [
    "neutrals.loc[580, 'target'] = 1"
   ]
  },
  {
   "cell_type": "code",
   "execution_count": 91,
   "metadata": {},
   "outputs": [],
   "source": [
    "neutrals.loc[587, 'target'] = 1"
   ]
  },
  {
   "cell_type": "code",
   "execution_count": 92,
   "metadata": {},
   "outputs": [],
   "source": [
    "neutrals.loc[588, 'target'] = 1"
   ]
  },
  {
   "cell_type": "code",
   "execution_count": 93,
   "metadata": {},
   "outputs": [],
   "source": [
    "neutrals.loc[591, 'target'] = 1"
   ]
  },
  {
   "cell_type": "code",
   "execution_count": 94,
   "metadata": {},
   "outputs": [],
   "source": [
    "neutrals.loc[592, 'target'] = 1"
   ]
  },
  {
   "cell_type": "code",
   "execution_count": 95,
   "metadata": {},
   "outputs": [],
   "source": [
    "neutrals.loc[604, 'target'] = 1"
   ]
  },
  {
   "cell_type": "code",
   "execution_count": 96,
   "metadata": {},
   "outputs": [],
   "source": [
    "neutrals.loc[606, 'target'] = 1"
   ]
  },
  {
   "cell_type": "code",
   "execution_count": 97,
   "metadata": {},
   "outputs": [],
   "source": [
    "neutrals.loc[613, 'target'] = 1"
   ]
  },
  {
   "cell_type": "code",
   "execution_count": 98,
   "metadata": {},
   "outputs": [],
   "source": [
    "neutrals.loc[618, 'target'] = 1"
   ]
  },
  {
   "cell_type": "code",
   "execution_count": 99,
   "metadata": {},
   "outputs": [],
   "source": [
    "neutrals.loc[666, 'target'] = 1"
   ]
  },
  {
   "cell_type": "code",
   "execution_count": 100,
   "metadata": {},
   "outputs": [],
   "source": [
    "neutrals.loc[719, 'target'] = 1"
   ]
  },
  {
   "cell_type": "code",
   "execution_count": 101,
   "metadata": {},
   "outputs": [],
   "source": [
    "neutrals.loc[723, 'target'] = 1"
   ]
  },
  {
   "cell_type": "code",
   "execution_count": 102,
   "metadata": {},
   "outputs": [],
   "source": [
    "neutrals.loc[724, 'target'] = 1"
   ]
  },
  {
   "cell_type": "code",
   "execution_count": 103,
   "metadata": {},
   "outputs": [],
   "source": [
    "neutrals.loc[732, 'target'] = 1"
   ]
  },
  {
   "cell_type": "code",
   "execution_count": 104,
   "metadata": {},
   "outputs": [],
   "source": [
    "neutrals.loc[751, 'target'] = 1"
   ]
  },
  {
   "cell_type": "code",
   "execution_count": 105,
   "metadata": {},
   "outputs": [],
   "source": [
    "neutrals.loc[763, 'target'] = 1"
   ]
  },
  {
   "cell_type": "code",
   "execution_count": 106,
   "metadata": {},
   "outputs": [],
   "source": [
    "neutrals.loc[765, 'target'] = 1"
   ]
  },
  {
   "cell_type": "code",
   "execution_count": 107,
   "metadata": {},
   "outputs": [],
   "source": [
    "neutrals.loc[766, 'target'] = 1"
   ]
  },
  {
   "cell_type": "code",
   "execution_count": 108,
   "metadata": {},
   "outputs": [],
   "source": [
    "neutrals.loc[775, 'target'] = 1"
   ]
  },
  {
   "cell_type": "code",
   "execution_count": 109,
   "metadata": {},
   "outputs": [],
   "source": [
    "neutrals.loc[779, 'target'] = 1"
   ]
  },
  {
   "cell_type": "code",
   "execution_count": 110,
   "metadata": {},
   "outputs": [],
   "source": [
    "neutrals.loc[785, 'target'] = 1"
   ]
  },
  {
   "cell_type": "code",
   "execution_count": 111,
   "metadata": {},
   "outputs": [],
   "source": [
    "neutrals.loc[793, 'target'] = 1"
   ]
  },
  {
   "cell_type": "code",
   "execution_count": 114,
   "metadata": {},
   "outputs": [
    {
     "name": "stderr",
     "output_type": "stream",
     "text": [
      "C:\\Users\\nehcr\\anaconda3\\envs\\learn-env\\lib\\site-packages\\pandas\\core\\indexing.py:1765: SettingWithCopyWarning: \n",
      "A value is trying to be set on a copy of a slice from a DataFrame.\n",
      "Try using .loc[row_indexer,col_indexer] = value instead\n",
      "\n",
      "See the caveats in the documentation: https://pandas.pydata.org/pandas-docs/stable/user_guide/indexing.html#returning-a-view-versus-a-copy\n",
      "  isetter(loc, value)\n"
     ]
    }
   ],
   "source": [
    "neutrals.loc[807, 'target'] = 1"
   ]
  },
  {
   "cell_type": "code",
   "execution_count": 115,
   "metadata": {},
   "outputs": [],
   "source": [
    "neutrals.loc[811, 'target'] = 1"
   ]
  },
  {
   "cell_type": "code",
   "execution_count": 116,
   "metadata": {},
   "outputs": [],
   "source": [
    "neutrals.loc[813, 'target'] = 1"
   ]
  },
  {
   "cell_type": "code",
   "execution_count": 117,
   "metadata": {},
   "outputs": [],
   "source": [
    "neutrals.loc[814, 'target'] = 1"
   ]
  },
  {
   "cell_type": "code",
   "execution_count": 118,
   "metadata": {},
   "outputs": [],
   "source": [
    "neutrals.loc[815, 'target'] = 1"
   ]
  },
  {
   "cell_type": "code",
   "execution_count": 119,
   "metadata": {},
   "outputs": [],
   "source": [
    "neutrals.loc[821, 'target'] = 1"
   ]
  },
  {
   "cell_type": "code",
   "execution_count": 120,
   "metadata": {},
   "outputs": [],
   "source": [
    "neutrals.loc[829, 'target'] = 1"
   ]
  },
  {
   "cell_type": "code",
   "execution_count": 121,
   "metadata": {},
   "outputs": [],
   "source": [
    "neutrals.loc[832, 'target'] = 1"
   ]
  },
  {
   "cell_type": "code",
   "execution_count": 122,
   "metadata": {},
   "outputs": [],
   "source": [
    "neutrals.loc[833, 'target'] = 1"
   ]
  },
  {
   "cell_type": "code",
   "execution_count": 123,
   "metadata": {},
   "outputs": [],
   "source": [
    "neutrals.loc[841, 'target'] = 1"
   ]
  },
  {
   "cell_type": "code",
   "execution_count": 124,
   "metadata": {},
   "outputs": [],
   "source": [
    "neutrals.loc[845, 'target'] = 1"
   ]
  },
  {
   "cell_type": "code",
   "execution_count": 125,
   "metadata": {},
   "outputs": [],
   "source": [
    "neutrals.loc[850, 'target'] = 1"
   ]
  },
  {
   "cell_type": "code",
   "execution_count": null,
   "metadata": {},
   "outputs": [],
   "source": []
  },
  {
   "cell_type": "code",
   "execution_count": 112,
   "metadata": {
    "scrolled": true
   },
   "outputs": [
    {
     "data": {
      "text/html": [
       "<div>\n",
       "<style scoped>\n",
       "    .dataframe tbody tr th:only-of-type {\n",
       "        vertical-align: middle;\n",
       "    }\n",
       "\n",
       "    .dataframe tbody tr th {\n",
       "        vertical-align: top;\n",
       "    }\n",
       "\n",
       "    .dataframe thead th {\n",
       "        text-align: right;\n",
       "    }\n",
       "</style>\n",
       "<table border=\"1\" class=\"dataframe\">\n",
       "  <thead>\n",
       "    <tr style=\"text-align: right;\">\n",
       "      <th></th>\n",
       "      <th>review_id</th>\n",
       "      <th>user_id</th>\n",
       "      <th>business_id</th>\n",
       "      <th>stars</th>\n",
       "      <th>date</th>\n",
       "      <th>text</th>\n",
       "      <th>useful</th>\n",
       "      <th>funny</th>\n",
       "      <th>cool</th>\n",
       "      <th>target</th>\n",
       "    </tr>\n",
       "  </thead>\n",
       "  <tbody>\n",
       "    <tr>\n",
       "      <th>807</th>\n",
       "      <td>IZvA2Sous1e3wYcV4IMHlQ</td>\n",
       "      <td>5V8eXkTJb6IejJkMDaj_Bw</td>\n",
       "      <td>UP2iSqCGIHU5EHZ1vNNfkQ</td>\n",
       "      <td>3</td>\n",
       "      <td>2011-05-02</td>\n",
       "      <td>How incredibly adorable!! Practical Art is just what the name implies - tons of items that are beautiful works of art that have the bonus of being able to be used in your everyday life - cooking dinner, having a glass of wine, relaxing in the living room, sending greetings to friends and so much more.\\n\\nMost of the items are for the home and sadly aren't the style of mine, which makes it hard to buy for myself here. However, I have a feeling this will be a potential gift spot for friends for years to come. And I just realized, people may now try to vie for my friendship or get engaged just knowing of potential gifts they will receive. \\n\\nThe employee that was there was really nice as I aimlessly walked about, but after seeing the special offer on yelp of iced tea or tequila, I'm suddenly sad I wasn't offered any.</td>\n",
       "      <td>1</td>\n",
       "      <td>1</td>\n",
       "      <td>1</td>\n",
       "      <td>0</td>\n",
       "    </tr>\n",
       "    <tr>\n",
       "      <th>809</th>\n",
       "      <td>sOmSkrLFhji-0x8P16CJdQ</td>\n",
       "      <td>5V8eXkTJb6IejJkMDaj_Bw</td>\n",
       "      <td>NmbBDuALeotUv01k7Qqr7g</td>\n",
       "      <td>3</td>\n",
       "      <td>2010-05-03</td>\n",
       "      <td>I'm a pretty big fan of Urban Outfitters, mostly because you never expect to find just about anything in there, but you always can, as long as you are willing to pay for it. I've found household items, cute chandeliers, and usually always get key covers there.. this past time it was unikeys :)\\n\\nI sometimes cry a bit that the clothing is a little more mainstream than the other items, but I typically find a few basic pieces I should grab. \\n\\nOne awesome upside is the bags are durable and the straps long enough you can put the bag over your shoulder like a tote.. and the inside is bright pink.\\n\\nDownfall is shoes are way too expensive there... I hate paying so much for things that just walk on the ground. Gross.\\n\\nNot enough good deals or original clothing to go back frequently but I do love to window shop there and occasionally come out with a gem.</td>\n",
       "      <td>0</td>\n",
       "      <td>0</td>\n",
       "      <td>0</td>\n",
       "      <td>0</td>\n",
       "    </tr>\n",
       "    <tr>\n",
       "      <th>811</th>\n",
       "      <td>601My-4M4FR13FHwD0jnqg</td>\n",
       "      <td>5V8eXkTJb6IejJkMDaj_Bw</td>\n",
       "      <td>bKxKPGmkwH-Q-GSbt7chNA</td>\n",
       "      <td>3</td>\n",
       "      <td>2010-04-15</td>\n",
       "      <td>Continuing in the week of lunch, I ventured out the other day to Stingray. A coworker and I were craving some sushi, and they love Stingray, so I decided to give it a whirl. I was well warned of the teasing that could easily be done to all the fantasy perfect waitresses, so this I was expecting (and somewhat looking forward to).\\n\\nI have to admit I wasn't all that impressed with the inside, but I did really enjoy the patio area. It was the perfect place to relax and people watch, which was most excellent that day in particular. The place settings were appreciated, as a lot of places do not offer a stone or cradle to rest your sticks on.. and hell, even my home set has cradles. I made sure of that. \\n\\nAlso, while the service was good... I think everyone set my expectations pretty high for the waitresses... I was unable to do any harassing. Sad face.\\n\\nOne suggestion if you go... try the green tea. Two reasons. First,  the cups are incredible. I love them. I am considering it a collect them all game and will try to make damn sure I do. Second, the tea is delicious. I had two amazing cups.\\n\\nThe sushi isn't all that bad either. It could've been just me, but I found the selection of sushi a little limited and the specialty ones pretty overpriced, but the sushi I had was out of this world. I had the spicy scallop and the summertime soy paper roll. I seriously gobbled down that summertime roll fast and impressed many. \\n\\nI'll probably be back if I crave sushi at lunchtime again. However, I really get disappointed at the prices of the ones I would like to try (especially for lunch) and think I may run out of new dishes to try soon.</td>\n",
       "      <td>0</td>\n",
       "      <td>1</td>\n",
       "      <td>0</td>\n",
       "      <td>0</td>\n",
       "    </tr>\n",
       "    <tr>\n",
       "      <th>813</th>\n",
       "      <td>1tsrgWRY8DcDf3nv8Nco_g</td>\n",
       "      <td>5V8eXkTJb6IejJkMDaj_Bw</td>\n",
       "      <td>QYIhMNwxXejDoCr-F1BxDg</td>\n",
       "      <td>3</td>\n",
       "      <td>2009-08-03</td>\n",
       "      <td>Oh yes. And the search for the best Thai establishment in the valley continues. \\n\\nAs usual, I was craving Thai tonight. Not that this is really a surprise. I wanted something decadent and full of flavor, spices, and heat. Due to talking I believe, we passed Thai Elephant which is what I intended to try and instead hit Thai Basil. \\n\\nI do have to give them props for having a seriously cute interior in a small plaza establishment. I was told that it's usually packed, which might've scared me considering how small it actually was. However tonight it was pretty slow. \\n\\nI ordered cashew chicken hot. The sticky rice was perfection and the cashew chicken was definitely hot. However, I didn't get all the flavor I have from other Thai places. I left wanting a little more in the way of flavor and spices. However, the dish was very fresh and healthy. \\n\\nI'll probably give it another try. Hoping it was just the dish I chose that was lacking spice and flavor.</td>\n",
       "      <td>0</td>\n",
       "      <td>0</td>\n",
       "      <td>0</td>\n",
       "      <td>0</td>\n",
       "    </tr>\n",
       "    <tr>\n",
       "      <th>814</th>\n",
       "      <td>9AxKHhXeshDKZwKQsHk1TA</td>\n",
       "      <td>5V8eXkTJb6IejJkMDaj_Bw</td>\n",
       "      <td>Xwf022IffmZPq6V25iomDg</td>\n",
       "      <td>3</td>\n",
       "      <td>2011-01-01</td>\n",
       "      <td>There are things they have that I want to try, thus making me want to return which is indeed a bonus. This includes my favorite treat, red velvet cake.\\n\\nThe breve I had wasn't bad and it's a very relaxing place to sit and get some work done. It's sad I always seem to forget about it. \\n\\nOne thing I don't like is the wifi. It works similar to those at hotels where you have to sign into a web page. I don't expect it and therefore dislike it greatly.</td>\n",
       "      <td>0</td>\n",
       "      <td>0</td>\n",
       "      <td>0</td>\n",
       "      <td>0</td>\n",
       "    </tr>\n",
       "    <tr>\n",
       "      <th>815</th>\n",
       "      <td>SA6CNBikIGp_NEVXXOqs_A</td>\n",
       "      <td>5V8eXkTJb6IejJkMDaj_Bw</td>\n",
       "      <td>wJKTZXmoSO_4oGwbKfF4JQ</td>\n",
       "      <td>3</td>\n",
       "      <td>2011-05-15</td>\n",
       "      <td>I've never been here for dinner or a meal or anything like that, but I have been here a few times for karaoke. \\n\\nThe first time I went, it was a little hard to see form the road as the sign was dim but I made it. The place is clean and the staff is nice. They stay on top of the bill and last time split checks with ease :)\\n\\nNo matter how packed the place gets they're always there to make sure your glass stays full. \\n\\nWhen I was DD, I was never charged for my soda or water.. or if I was, someone else put it on theirs.\\n\\nThe karaoke runs fairly smoothly, but the selection of songs is pretty lacking, at least for my taste.</td>\n",
       "      <td>0</td>\n",
       "      <td>0</td>\n",
       "      <td>0</td>\n",
       "      <td>0</td>\n",
       "    </tr>\n",
       "    <tr>\n",
       "      <th>818</th>\n",
       "      <td>g2nh83SUMIVEaZvNHkR7gw</td>\n",
       "      <td>5V8eXkTJb6IejJkMDaj_Bw</td>\n",
       "      <td>Gu8D1YoKErqVNNX00qkEaw</td>\n",
       "      <td>3</td>\n",
       "      <td>2009-07-22</td>\n",
       "      <td>I stopped here to meet up with friends last Friday night. I was surprised that it ended up being right by one of my favorite gelato places and I never even knew. \\n\\nIt wasn't a bad spot. We had a pretty big crowd and weren't made to feel out of place or like we were a bother. The place is decent sized and pretty laid back, which can be great on a Friday.\\n\\nI didn't order any food but it all looked fantastic. Had I been hungry I would've surely snatched up some of the wings. \\n\\nI was fairly impressed with the tap. I'm typically pretty picky about my beer selection and what is on tap, and I don't expect much from this type of establishment. However, after having a bad day and noticing they had Leinenkugels Sunset Wheat on tap, my day got brighter and I was happy. Anywhere that has Leinie's on tap gets brownie points in my book.\\n\\nI have to admit it struck me as odd that Nickelodeon was playing on one of the screens while I was there. I asked if we could have it switched and while they said yes, they never did.</td>\n",
       "      <td>2</td>\n",
       "      <td>0</td>\n",
       "      <td>1</td>\n",
       "      <td>0</td>\n",
       "    </tr>\n",
       "    <tr>\n",
       "      <th>821</th>\n",
       "      <td>Ip0OfpdAPNBMR38CyZOkFQ</td>\n",
       "      <td>5V8eXkTJb6IejJkMDaj_Bw</td>\n",
       "      <td>VgfqjXetLMxn5X5_uomBkg</td>\n",
       "      <td>3</td>\n",
       "      <td>2011-05-10</td>\n",
       "      <td>Abridged: Good food, hotel restaurant feel.\\n\\nI headed to Alexi's with friends for some good old carbs &amp; veggies before a run on a Saturday night. When I arrived, I was a little worried as the over starched burgundy table decor and lack of patrons made me think of a stiff uncomfortable hotel restaurant.\\n\\nOur server was friendly and knowledgeable, and the menu looked fantastic with so-so prices. I ended up getting the primavera dish and stayed with water for my drink. The food was great, even down to the bread. I devoured it with pleasure! \\n\\nIn the end though, I don't think the patrons or staff were amused with the out of ordinary conversations my friends and I often like to have. The food was good enough that I won't write it off my list, but I wouldn't be surprised if they didn't welcome my kind any more haha!!</td>\n",
       "      <td>1</td>\n",
       "      <td>0</td>\n",
       "      <td>0</td>\n",
       "      <td>0</td>\n",
       "    </tr>\n",
       "    <tr>\n",
       "      <th>827</th>\n",
       "      <td>_j5QUPitlkwSa_aRlpnuCQ</td>\n",
       "      <td>5V8eXkTJb6IejJkMDaj_Bw</td>\n",
       "      <td>BHMqFvtguSDrZLQPtjZSuA</td>\n",
       "      <td>3</td>\n",
       "      <td>2009-08-25</td>\n",
       "      <td>Fiesta Burrito is pretty close to my office and a few months ago one of my coworkers introduced it to me for a first time. For a quick in and out Mexican place it's definitely worth it. The prices are decent, they have a fairly extensive menu, and the service is fast. \\n\\nThe downsides?\\n\\n1) Parking is very limited which caused me issues for the first time today.\\n2) Seating can sometimes be limited as well. It's a fairly small joint.\\n3) Being a non tomato fan and sometimes not being in the mood for guac doesn't leave me much of a choice here and my options are pretty plain and limited most of the time.\\n\\nWith that being said, it's definitely worth trying if you are in the area. I suggest the carne asada burrito :)</td>\n",
       "      <td>2</td>\n",
       "      <td>0</td>\n",
       "      <td>2</td>\n",
       "      <td>0</td>\n",
       "    </tr>\n",
       "    <tr>\n",
       "      <th>829</th>\n",
       "      <td>YCBKEIqprb268o6UWvfYMw</td>\n",
       "      <td>5V8eXkTJb6IejJkMDaj_Bw</td>\n",
       "      <td>BgQ5ob0QiZfO5YbgI7VyFw</td>\n",
       "      <td>3</td>\n",
       "      <td>2010-03-28</td>\n",
       "      <td>I've been here twice and the average of the two visits is a 3. The first time was an #evfn event that gave them 1 star for embarrassingly terrible service for my one margarita.\\n\\nThis time I dined there for lunch with a group of 6 and it was a 4! Unbelievable!\\n\\nLets just start with the salsa; the lovely, surprisingly dark addictive salsa. I recall at least 4 occasions where I inquired if it was available for take home purchase. Yay once again for non tomato based salsa!\\n\\nAdditionally I had a seafood enchilada that was TO. DIE. FOR. Honestly. It was just the right size for lunch and had salmon, halibut, shrimp, delicious cheese and was made with no tomato as requested. Topped with green Chile it had an amazing flavor that I ended up craving the rest of the day.\\n\\nEveryone in my group was completely satisfied. Even the meatloaf sandwich lunch special a coworker had looked delicious and I don't even really like meatloaf. \\n\\nThe service was kinda awkward, for lack of better words, but this completely made me feel better about this place. While it's a little out of the way, I can see it becoming a work lunch spot on occasion... and I won't complain and tell them about my horrid experience from before.</td>\n",
       "      <td>1</td>\n",
       "      <td>0</td>\n",
       "      <td>1</td>\n",
       "      <td>0</td>\n",
       "    </tr>\n",
       "    <tr>\n",
       "      <th>832</th>\n",
       "      <td>GGf7L8ECHEwT9VWxXRN9ww</td>\n",
       "      <td>5V8eXkTJb6IejJkMDaj_Bw</td>\n",
       "      <td>HsU00tlEnOg0W_cv-xubgQ</td>\n",
       "      <td>3</td>\n",
       "      <td>2011-01-01</td>\n",
       "      <td>Call me weird, but I have an issue with long toe nails. It weirds me out. So when I went in for a pedicure appointment with DeAnna and was hoping for some minx, which looks better on long toe nails, she was up front with me and let me do a custom glitter bling job instead. Not only did she mix up a glitter just for me (I'm sure the color isn't hard to guess), but she gave me the extra to use at home!!!\\n\\nGreat service and such an adorable place, Downtown Scottsdale Hair &amp; Nails will definitely pamper you and make you feel at home!!</td>\n",
       "      <td>2</td>\n",
       "      <td>1</td>\n",
       "      <td>0</td>\n",
       "      <td>0</td>\n",
       "    </tr>\n",
       "    <tr>\n",
       "      <th>833</th>\n",
       "      <td>HZ1Qj1ehTMtAC0GDVYnaIQ</td>\n",
       "      <td>5V8eXkTJb6IejJkMDaj_Bw</td>\n",
       "      <td>NPiLy71qqXzb45k9eQOgCQ</td>\n",
       "      <td>3</td>\n",
       "      <td>2009-08-24</td>\n",
       "      <td>I've been to Maizie's twice now, once for dinner and another for a drink with a few (or a lot) of friends. I haven't been disappointed yet. \\n\\nTheir drink menu is incredible. Lots of yummy items to choose from. I've seen great specials on wine and sangria. However, if you want a drink that is not on their special menu, it will be just as amazingly delicious but a little pricey. Their pom mojito is incredible and has agave and pomegranate. \\n\\nThe food is delicious, but nothing super spectacular. My dinner included a cup of their gumbo and the quesadilla. The gumbo wasn't the gumbo I was used to (it was a pretty runny rather than thicker) but it was good. The cup was so huge I wasn't able to finish it. I was able to order the quesadilla without tomato which always makes me happy. It was also delicious. I loved the combination of the spinach wrap and pine nuts and cheese. Mmm. \\n\\nThe place is a little awkward to get to and fairly small. On the upside though it does have cute decor once you are there.</td>\n",
       "      <td>1</td>\n",
       "      <td>0</td>\n",
       "      <td>0</td>\n",
       "      <td>0</td>\n",
       "    </tr>\n",
       "    <tr>\n",
       "      <th>835</th>\n",
       "      <td>hWrGqJKtWj_PPSKUCE1aig</td>\n",
       "      <td>5V8eXkTJb6IejJkMDaj_Bw</td>\n",
       "      <td>OGRB__fguKfGpPdH7FvBDA</td>\n",
       "      <td>3</td>\n",
       "      <td>2011-04-27</td>\n",
       "      <td>I've been to the Rose and Crown a handful of times, usually after improv events, as it seems to be the go to place. Never have I sat inside, which is always an indicator to me that a place is worthy of repeat visits. Patios are in... indoors are out!\\n\\nThe selection is typical pub, and always has something I want, but I do always get sad face when a place doesn't carry ginger ale. Ginger ale is not only easy to make (and no, I'm not referring to the fake make it with coke way.. WTF is that?) but a fantastic mixer with all types of alcohol. \\n\\nIf you want a good place to socialize that's kinda crazy but not too crazy, this is a great choice!</td>\n",
       "      <td>2</td>\n",
       "      <td>0</td>\n",
       "      <td>0</td>\n",
       "      <td>0</td>\n",
       "    </tr>\n",
       "    <tr>\n",
       "      <th>836</th>\n",
       "      <td>XteXMJMGtK_-FLYbRQrH3w</td>\n",
       "      <td>5V8eXkTJb6IejJkMDaj_Bw</td>\n",
       "      <td>_n3w5BK4-k7iXCWifCjUZg</td>\n",
       "      <td>3</td>\n",
       "      <td>2010-12-14</td>\n",
       "      <td>I can't tell you how heartbreaking it is that I cannot give The Lodge more stars than three.\\n\\nEspecially with how absolutely exited I was to go somewhere that had Bratwurst, Berry Weiss AND Cheese Curds. The midwestern girl in me was swooning for my knight in shining armor.\\n\\nThe berry weiss was amazing.... really wish it was on tap, but bottle will do. The cheese curds were sincerely authentic too. I introduced several at the table to their lusty flirtatious ways, and they will never be the same again.\\n\\nWhat ruined it you ask? The fact that it took us 40 minutes to pay our bill. When we received it, we realized we forgot to ask to split it and promptly asked the waitress. Her response?\\n\\n\"You should've asked me before you ordered and then I could have done it. However, we normally don't do it at all.\" \\n\\nWhat??? Um okay. We knew it wasn't all her fault and tried to split our bill. In the middle of our first attempt, she came by to ask if we were done and we said we needed a few more minutes. Well, come to third try of splitting a check 10 ways she comes back again and asks the same question. Frustrated, we tell her we are not, and she just shakes her head almost like she was angered at us and walks away.\\n\\nSeriously.. who doesn't split a check these days.. even after the fact. I've seen today's digital restaurant systems. This shouldn't have been an issue. Even if she had to void it and start over it wouldn't have taken her the 40 minutes it took us.. especially because there were only two other people in the entire place.\\n\\nUgh. Meh. That was not midwestern hospitality.</td>\n",
       "      <td>0</td>\n",
       "      <td>2</td>\n",
       "      <td>1</td>\n",
       "      <td>0</td>\n",
       "    </tr>\n",
       "    <tr>\n",
       "      <th>838</th>\n",
       "      <td>GYl0xJQEsCyfpRWmc5UYEQ</td>\n",
       "      <td>5V8eXkTJb6IejJkMDaj_Bw</td>\n",
       "      <td>7XTGtaKjANmZqp2QtN_iPA</td>\n",
       "      <td>3</td>\n",
       "      <td>2009-07-19</td>\n",
       "      <td>Ahhhh yes. The British Open Pub or the BOP as I lovingly call it. This is a frequent lunchtime spot during the work week. Without knowing specifically where it was, you might drive right past it too. \\n\\nThe atmosphere is my favorite part of the BOP. It's usually a very relaxing place to be at lunch. I have never been there any other time, so I'm not sure if this always holds true. However, despite it typically being quiet at lunch, the service is usually pretty slow. I typically have to plan on a longer lunch than normal.\\n\\nThe beer selection is pretty good. I can always count on being able to have a Boddington's or a black velvet. As far as the food goes, it's pretty good, but not overly British and a little on the greasy side. \\n\\nI've noticed a few spelling errors on their menus from time to time too, which always annoys me.\\n\\nOverall the food isn't the best and the service is slow but it's still an okay place to visit.</td>\n",
       "      <td>1</td>\n",
       "      <td>0</td>\n",
       "      <td>0</td>\n",
       "      <td>0</td>\n",
       "    </tr>\n",
       "    <tr>\n",
       "      <th>841</th>\n",
       "      <td>YGNSAfajCztvh2Mg0KylEw</td>\n",
       "      <td>5V8eXkTJb6IejJkMDaj_Bw</td>\n",
       "      <td>cQVpdviIJNkzO-5tFM_s9w</td>\n",
       "      <td>3</td>\n",
       "      <td>2011-05-10</td>\n",
       "      <td>Abridged: Aside from the inconsistency with deals and pricing, it's a great wax. Worth the trip.\\n\\nUnabridged: European Wax Center was recommended to me by my new stylist when I ended up falling in love with a hair salon that didn't do waxing. I have to admit that when I entered the location for the first time, I thought I was signing up for a cult. Just gave me one of those odd feelings. \\n\\nThat ended when I went back though and had my eyebrows waxed. It was the least painful waxing I've ever had. The room was clean, my waxer was nice and friendly. She made sure I wasn't allergic to anything. It was very pleasant and the price is super reasonable. \\n\\nAfter my first visit, I was told about a plan I could sign up for. I declined, but was told if I booked my next appointment in advance now, I'd get $5 off. What I wasn't told, was that there was a piece of paper or something I needed to have in order to redeem that, and when I returned a few weeks later, I wasn't given my discount. I was assured I will next time, but we'll see what happens. If the third time proves to have no discount attached, it may be enough for me to leave. I want to come back, but I also don't like being toyed with.</td>\n",
       "      <td>2</td>\n",
       "      <td>0</td>\n",
       "      <td>0</td>\n",
       "      <td>0</td>\n",
       "    </tr>\n",
       "    <tr>\n",
       "      <th>845</th>\n",
       "      <td>KLKrafEiQJpzPGfd-S7XUw</td>\n",
       "      <td>5V8eXkTJb6IejJkMDaj_Bw</td>\n",
       "      <td>z-m0Dj_ea_SQra2kYds1Dw</td>\n",
       "      <td>3</td>\n",
       "      <td>2011-05-10</td>\n",
       "      <td>I don't really like big box-like bakeries that have popped up over the years, because well... I'm not a big-box chain type person. However, I was in the area, starving, with some time to kill and was craving something to hold me over until dinner. \\n\\nWhat I had hoped for was a lemonade and a muffin. Only thing was, they didn't have lemonade. Boo. Mega mega boo.\\n\\nOnce I figured out where to go to order, I decided on a banana nut muffin and a black cherry smoothie. Speaking of which though, is it ever okay for a customer to not know where to go to order something? Really? I really hope no one thinks this is okay. Luckily, someone behind the counter sensed my frustration and helped me.\\n\\nThe prices weren't bad and everything was ready quickly and I was able to take a seat on a comfy chair in an area no one was occupying. The muffin was huge. Therefore, that combined with the smoothie rather than a lemonade meant I pretty much had my dinner there. Kinda sad. The muffin was fantastic but huge. The winner of this visit though? The black cherry smoothie. Now that I know how big portions are, whenever I need something to hold me over, I'll be back for that. Pure heaven.</td>\n",
       "      <td>0</td>\n",
       "      <td>0</td>\n",
       "      <td>1</td>\n",
       "      <td>0</td>\n",
       "    </tr>\n",
       "    <tr>\n",
       "      <th>847</th>\n",
       "      <td>KziJ0CpGCWmLBI0SvpNNvw</td>\n",
       "      <td>5V8eXkTJb6IejJkMDaj_Bw</td>\n",
       "      <td>mm0qwYzOilFNVV2us5_8Rg</td>\n",
       "      <td>3</td>\n",
       "      <td>2011-01-01</td>\n",
       "      <td>I've swung into Echo a few times and haven't ever had a bad cup of coffee. The cappuccino is pretty solid and the zucchini bread I had for breakfast one day was a win. If I recall correctly it came in a cute little box too.\\n\\nFor some reason I've never been able to feel relaxed and at home enough to chill and enjoy an afternoon or evening there. Not sure why, but just haven't.</td>\n",
       "      <td>0</td>\n",
       "      <td>0</td>\n",
       "      <td>0</td>\n",
       "      <td>0</td>\n",
       "    </tr>\n",
       "    <tr>\n",
       "      <th>850</th>\n",
       "      <td>4J6MB34AC_7FPMA29JBlfQ</td>\n",
       "      <td>5V8eXkTJb6IejJkMDaj_Bw</td>\n",
       "      <td>8nNB_yG1gzVpbqNH2EBucg</td>\n",
       "      <td>3</td>\n",
       "      <td>2010-06-01</td>\n",
       "      <td>Trekked here for lunch one day with some work folk. It left an eh in my mind. Not a bad eh, which is usually a 2 for me, but more like an I'll-come-back-here-if-someone-else-is-dying-to eh, which leaves it at a 3.\\n\\nI can say that the cornbread is exquisite. It's what cornbread should be. Corn and bread. It's not cornmeal trying to be cornbread. It's not some yuppie metropolitan height of sophistication's chef trying to be country. It's the no shit real deal. I appreciate that. I just have to remember to appreciate it in small quantities.\\n\\nThe service was pretty on par for it being lunch on a Monday. \\n\\nMy main dish was the seafood enchilada which was pretty on point, but not as good as the one at Blue Adobe. I was pretty annoyed to see it came with tomato even though tomato was listed nowhere on the menu. I will remember that. I may just return and order cornbread with a side of cornbread.</td>\n",
       "      <td>1</td>\n",
       "      <td>0</td>\n",
       "      <td>1</td>\n",
       "      <td>0</td>\n",
       "    </tr>\n",
       "  </tbody>\n",
       "</table>\n",
       "</div>"
      ],
      "text/plain": [
       "                  review_id                 user_id             business_id  \\\n",
       "807  IZvA2Sous1e3wYcV4IMHlQ  5V8eXkTJb6IejJkMDaj_Bw  UP2iSqCGIHU5EHZ1vNNfkQ   \n",
       "809  sOmSkrLFhji-0x8P16CJdQ  5V8eXkTJb6IejJkMDaj_Bw  NmbBDuALeotUv01k7Qqr7g   \n",
       "811  601My-4M4FR13FHwD0jnqg  5V8eXkTJb6IejJkMDaj_Bw  bKxKPGmkwH-Q-GSbt7chNA   \n",
       "813  1tsrgWRY8DcDf3nv8Nco_g  5V8eXkTJb6IejJkMDaj_Bw  QYIhMNwxXejDoCr-F1BxDg   \n",
       "814  9AxKHhXeshDKZwKQsHk1TA  5V8eXkTJb6IejJkMDaj_Bw  Xwf022IffmZPq6V25iomDg   \n",
       "815  SA6CNBikIGp_NEVXXOqs_A  5V8eXkTJb6IejJkMDaj_Bw  wJKTZXmoSO_4oGwbKfF4JQ   \n",
       "818  g2nh83SUMIVEaZvNHkR7gw  5V8eXkTJb6IejJkMDaj_Bw  Gu8D1YoKErqVNNX00qkEaw   \n",
       "821  Ip0OfpdAPNBMR38CyZOkFQ  5V8eXkTJb6IejJkMDaj_Bw  VgfqjXetLMxn5X5_uomBkg   \n",
       "827  _j5QUPitlkwSa_aRlpnuCQ  5V8eXkTJb6IejJkMDaj_Bw  BHMqFvtguSDrZLQPtjZSuA   \n",
       "829  YCBKEIqprb268o6UWvfYMw  5V8eXkTJb6IejJkMDaj_Bw  BgQ5ob0QiZfO5YbgI7VyFw   \n",
       "832  GGf7L8ECHEwT9VWxXRN9ww  5V8eXkTJb6IejJkMDaj_Bw  HsU00tlEnOg0W_cv-xubgQ   \n",
       "833  HZ1Qj1ehTMtAC0GDVYnaIQ  5V8eXkTJb6IejJkMDaj_Bw  NPiLy71qqXzb45k9eQOgCQ   \n",
       "835  hWrGqJKtWj_PPSKUCE1aig  5V8eXkTJb6IejJkMDaj_Bw  OGRB__fguKfGpPdH7FvBDA   \n",
       "836  XteXMJMGtK_-FLYbRQrH3w  5V8eXkTJb6IejJkMDaj_Bw  _n3w5BK4-k7iXCWifCjUZg   \n",
       "838  GYl0xJQEsCyfpRWmc5UYEQ  5V8eXkTJb6IejJkMDaj_Bw  7XTGtaKjANmZqp2QtN_iPA   \n",
       "841  YGNSAfajCztvh2Mg0KylEw  5V8eXkTJb6IejJkMDaj_Bw  cQVpdviIJNkzO-5tFM_s9w   \n",
       "845  KLKrafEiQJpzPGfd-S7XUw  5V8eXkTJb6IejJkMDaj_Bw  z-m0Dj_ea_SQra2kYds1Dw   \n",
       "847  KziJ0CpGCWmLBI0SvpNNvw  5V8eXkTJb6IejJkMDaj_Bw  mm0qwYzOilFNVV2us5_8Rg   \n",
       "850  4J6MB34AC_7FPMA29JBlfQ  5V8eXkTJb6IejJkMDaj_Bw  8nNB_yG1gzVpbqNH2EBucg   \n",
       "\n",
       "     stars        date  \\\n",
       "807      3  2011-05-02   \n",
       "809      3  2010-05-03   \n",
       "811      3  2010-04-15   \n",
       "813      3  2009-08-03   \n",
       "814      3  2011-01-01   \n",
       "815      3  2011-05-15   \n",
       "818      3  2009-07-22   \n",
       "821      3  2011-05-10   \n",
       "827      3  2009-08-25   \n",
       "829      3  2010-03-28   \n",
       "832      3  2011-01-01   \n",
       "833      3  2009-08-24   \n",
       "835      3  2011-04-27   \n",
       "836      3  2010-12-14   \n",
       "838      3  2009-07-19   \n",
       "841      3  2011-05-10   \n",
       "845      3  2011-05-10   \n",
       "847      3  2011-01-01   \n",
       "850      3  2010-06-01   \n",
       "\n",
       "                                                                                                                                                                                                                                                                                                                                                                                                                                                                                                                                                                                                                                                                                                                                                                                                                                                                                                                                                                                                                                                                                                                                                                                                                                                                                                                                                                                                                                                                                                                                                                                                                                                                                                                          text  \\\n",
       "807                                                                                                                                                                                                                                                                                                                                                                                                                                                                                                                                                                                                                                                                                                                                                                                                                                                                 How incredibly adorable!! Practical Art is just what the name implies - tons of items that are beautiful works of art that have the bonus of being able to be used in your everyday life - cooking dinner, having a glass of wine, relaxing in the living room, sending greetings to friends and so much more.\\n\\nMost of the items are for the home and sadly aren't the style of mine, which makes it hard to buy for myself here. However, I have a feeling this will be a potential gift spot for friends for years to come. And I just realized, people may now try to vie for my friendship or get engaged just knowing of potential gifts they will receive. \\n\\nThe employee that was there was really nice as I aimlessly walked about, but after seeing the special offer on yelp of iced tea or tequila, I'm suddenly sad I wasn't offered any.   \n",
       "809                                                                                                                                                                                                                                                                                                                                                                                                                                                                                                                                                                                                                                                                                                                                                                                                                            I'm a pretty big fan of Urban Outfitters, mostly because you never expect to find just about anything in there, but you always can, as long as you are willing to pay for it. I've found household items, cute chandeliers, and usually always get key covers there.. this past time it was unikeys :)\\n\\nI sometimes cry a bit that the clothing is a little more mainstream than the other items, but I typically find a few basic pieces I should grab. \\n\\nOne awesome upside is the bags are durable and the straps long enough you can put the bag over your shoulder like a tote.. and the inside is bright pink.\\n\\nDownfall is shoes are way too expensive there... I hate paying so much for things that just walk on the ground. Gross.\\n\\nNot enough good deals or original clothing to go back frequently but I do love to window shop there and occasionally come out with a gem.   \n",
       "811  Continuing in the week of lunch, I ventured out the other day to Stingray. A coworker and I were craving some sushi, and they love Stingray, so I decided to give it a whirl. I was well warned of the teasing that could easily be done to all the fantasy perfect waitresses, so this I was expecting (and somewhat looking forward to).\\n\\nI have to admit I wasn't all that impressed with the inside, but I did really enjoy the patio area. It was the perfect place to relax and people watch, which was most excellent that day in particular. The place settings were appreciated, as a lot of places do not offer a stone or cradle to rest your sticks on.. and hell, even my home set has cradles. I made sure of that. \\n\\nAlso, while the service was good... I think everyone set my expectations pretty high for the waitresses... I was unable to do any harassing. Sad face.\\n\\nOne suggestion if you go... try the green tea. Two reasons. First,  the cups are incredible. I love them. I am considering it a collect them all game and will try to make damn sure I do. Second, the tea is delicious. I had two amazing cups.\\n\\nThe sushi isn't all that bad either. It could've been just me, but I found the selection of sushi a little limited and the specialty ones pretty overpriced, but the sushi I had was out of this world. I had the spicy scallop and the summertime soy paper roll. I seriously gobbled down that summertime roll fast and impressed many. \\n\\nI'll probably be back if I crave sushi at lunchtime again. However, I really get disappointed at the prices of the ones I would like to try (especially for lunch) and think I may run out of new dishes to try soon.   \n",
       "813                                                                                                                                                                                                                                                                                                                                                                                                                                                                                                                                                                                                                                                                                                                     Oh yes. And the search for the best Thai establishment in the valley continues. \\n\\nAs usual, I was craving Thai tonight. Not that this is really a surprise. I wanted something decadent and full of flavor, spices, and heat. Due to talking I believe, we passed Thai Elephant which is what I intended to try and instead hit Thai Basil. \\n\\nI do have to give them props for having a seriously cute interior in a small plaza establishment. I was told that it's usually packed, which might've scared me considering how small it actually was. However tonight it was pretty slow. \\n\\nI ordered cashew chicken hot. The sticky rice was perfection and the cashew chicken was definitely hot. However, I didn't get all the flavor I have from other Thai places. I left wanting a little more in the way of flavor and spices. However, the dish was very fresh and healthy. \\n\\nI'll probably give it another try. Hoping it was just the dish I chose that was lacking spice and flavor.   \n",
       "814                                                                                                                                                                                                                                                                                                                                                                                                                                                                                                                                                                                                                                                                                                                                                                                                                                                                                                                                                                                                                                                                                                                                                                                                                                                     There are things they have that I want to try, thus making me want to return which is indeed a bonus. This includes my favorite treat, red velvet cake.\\n\\nThe breve I had wasn't bad and it's a very relaxing place to sit and get some work done. It's sad I always seem to forget about it. \\n\\nOne thing I don't like is the wifi. It works similar to those at hotels where you have to sign into a web page. I don't expect it and therefore dislike it greatly.   \n",
       "815                                                                                                                                                                                                                                                                                                                                                                                                                                                                                                                                                                                                                                                                                                                                                                                                                                                                                                                                                                                                                                                                  I've never been here for dinner or a meal or anything like that, but I have been here a few times for karaoke. \\n\\nThe first time I went, it was a little hard to see form the road as the sign was dim but I made it. The place is clean and the staff is nice. They stay on top of the bill and last time split checks with ease :)\\n\\nNo matter how packed the place gets they're always there to make sure your glass stays full. \\n\\nWhen I was DD, I was never charged for my soda or water.. or if I was, someone else put it on theirs.\\n\\nThe karaoke runs fairly smoothly, but the selection of songs is pretty lacking, at least for my taste.   \n",
       "818                                                                                                                                                                                                                                                                                                                                                                                                                                                                                                                                                                                                                                                        I stopped here to meet up with friends last Friday night. I was surprised that it ended up being right by one of my favorite gelato places and I never even knew. \\n\\nIt wasn't a bad spot. We had a pretty big crowd and weren't made to feel out of place or like we were a bother. The place is decent sized and pretty laid back, which can be great on a Friday.\\n\\nI didn't order any food but it all looked fantastic. Had I been hungry I would've surely snatched up some of the wings. \\n\\nI was fairly impressed with the tap. I'm typically pretty picky about my beer selection and what is on tap, and I don't expect much from this type of establishment. However, after having a bad day and noticing they had Leinenkugels Sunset Wheat on tap, my day got brighter and I was happy. Anywhere that has Leinie's on tap gets brownie points in my book.\\n\\nI have to admit it struck me as odd that Nickelodeon was playing on one of the screens while I was there. I asked if we could have it switched and while they said yes, they never did.   \n",
       "821                                                                                                                                                                                                                                                                                                                                                                                                                                                                                                                                                                                                                                                                                                                                                                                                                                                               Abridged: Good food, hotel restaurant feel.\\n\\nI headed to Alexi's with friends for some good old carbs & veggies before a run on a Saturday night. When I arrived, I was a little worried as the over starched burgundy table decor and lack of patrons made me think of a stiff uncomfortable hotel restaurant.\\n\\nOur server was friendly and knowledgeable, and the menu looked fantastic with so-so prices. I ended up getting the primavera dish and stayed with water for my drink. The food was great, even down to the bread. I devoured it with pleasure! \\n\\nIn the end though, I don't think the patrons or staff were amused with the out of ordinary conversations my friends and I often like to have. The food was good enough that I won't write it off my list, but I wouldn't be surprised if they didn't welcome my kind any more haha!!   \n",
       "827                                                                                                                                                                                                                                                                                                                                                                                                                                                                                                                                                                                                                                                                                                                                                                                                                                                                                                                                                                    Fiesta Burrito is pretty close to my office and a few months ago one of my coworkers introduced it to me for a first time. For a quick in and out Mexican place it's definitely worth it. The prices are decent, they have a fairly extensive menu, and the service is fast. \\n\\nThe downsides?\\n\\n1) Parking is very limited which caused me issues for the first time today.\\n2) Seating can sometimes be limited as well. It's a fairly small joint.\\n3) Being a non tomato fan and sometimes not being in the mood for guac doesn't leave me much of a choice here and my options are pretty plain and limited most of the time.\\n\\nWith that being said, it's definitely worth trying if you are in the area. I suggest the carne asada burrito :)   \n",
       "829                                                                                                                                                                                                                                                                                                                                                                                                                                                     I've been here twice and the average of the two visits is a 3. The first time was an #evfn event that gave them 1 star for embarrassingly terrible service for my one margarita.\\n\\nThis time I dined there for lunch with a group of 6 and it was a 4! Unbelievable!\\n\\nLets just start with the salsa; the lovely, surprisingly dark addictive salsa. I recall at least 4 occasions where I inquired if it was available for take home purchase. Yay once again for non tomato based salsa!\\n\\nAdditionally I had a seafood enchilada that was TO. DIE. FOR. Honestly. It was just the right size for lunch and had salmon, halibut, shrimp, delicious cheese and was made with no tomato as requested. Topped with green Chile it had an amazing flavor that I ended up craving the rest of the day.\\n\\nEveryone in my group was completely satisfied. Even the meatloaf sandwich lunch special a coworker had looked delicious and I don't even really like meatloaf. \\n\\nThe service was kinda awkward, for lack of better words, but this completely made me feel better about this place. While it's a little out of the way, I can see it becoming a work lunch spot on occasion... and I won't complain and tell them about my horrid experience from before.   \n",
       "832                                                                                                                                                                                                                                                                                                                                                                                                                                                                                                                                                                                                                                                                                                                                                                                                                                                                                                                                                                                                                                                                                                                                                                 Call me weird, but I have an issue with long toe nails. It weirds me out. So when I went in for a pedicure appointment with DeAnna and was hoping for some minx, which looks better on long toe nails, she was up front with me and let me do a custom glitter bling job instead. Not only did she mix up a glitter just for me (I'm sure the color isn't hard to guess), but she gave me the extra to use at home!!!\\n\\nGreat service and such an adorable place, Downtown Scottsdale Hair & Nails will definitely pamper you and make you feel at home!!   \n",
       "833                                                                                                                                                                                                                                                                                                                                                                                                                                                                                                                                                                                                                                                                    I've been to Maizie's twice now, once for dinner and another for a drink with a few (or a lot) of friends. I haven't been disappointed yet. \\n\\nTheir drink menu is incredible. Lots of yummy items to choose from. I've seen great specials on wine and sangria. However, if you want a drink that is not on their special menu, it will be just as amazingly delicious but a little pricey. Their pom mojito is incredible and has agave and pomegranate. \\n\\nThe food is delicious, but nothing super spectacular. My dinner included a cup of their gumbo and the quesadilla. The gumbo wasn't the gumbo I was used to (it was a pretty runny rather than thicker) but it was good. The cup was so huge I wasn't able to finish it. I was able to order the quesadilla without tomato which always makes me happy. It was also delicious. I loved the combination of the spinach wrap and pine nuts and cheese. Mmm. \\n\\nThe place is a little awkward to get to and fairly small. On the upside though it does have cute decor once you are there.   \n",
       "835                                                                                                                                                                                                                                                                                                                                                                                                                                                                                                                                                                                                                                                                                                                                                                                                                                                                                                                                                                                                                                                 I've been to the Rose and Crown a handful of times, usually after improv events, as it seems to be the go to place. Never have I sat inside, which is always an indicator to me that a place is worthy of repeat visits. Patios are in... indoors are out!\\n\\nThe selection is typical pub, and always has something I want, but I do always get sad face when a place doesn't carry ginger ale. Ginger ale is not only easy to make (and no, I'm not referring to the fake make it with coke way.. WTF is that?) but a fantastic mixer with all types of alcohol. \\n\\nIf you want a good place to socialize that's kinda crazy but not too crazy, this is a great choice!   \n",
       "836                                                    I can't tell you how heartbreaking it is that I cannot give The Lodge more stars than three.\\n\\nEspecially with how absolutely exited I was to go somewhere that had Bratwurst, Berry Weiss AND Cheese Curds. The midwestern girl in me was swooning for my knight in shining armor.\\n\\nThe berry weiss was amazing.... really wish it was on tap, but bottle will do. The cheese curds were sincerely authentic too. I introduced several at the table to their lusty flirtatious ways, and they will never be the same again.\\n\\nWhat ruined it you ask? The fact that it took us 40 minutes to pay our bill. When we received it, we realized we forgot to ask to split it and promptly asked the waitress. Her response?\\n\\n\"You should've asked me before you ordered and then I could have done it. However, we normally don't do it at all.\" \\n\\nWhat??? Um okay. We knew it wasn't all her fault and tried to split our bill. In the middle of our first attempt, she came by to ask if we were done and we said we needed a few more minutes. Well, come to third try of splitting a check 10 ways she comes back again and asks the same question. Frustrated, we tell her we are not, and she just shakes her head almost like she was angered at us and walks away.\\n\\nSeriously.. who doesn't split a check these days.. even after the fact. I've seen today's digital restaurant systems. This shouldn't have been an issue. Even if she had to void it and start over it wouldn't have taken her the 40 minutes it took us.. especially because there were only two other people in the entire place.\\n\\nUgh. Meh. That was not midwestern hospitality.   \n",
       "838                                                                                                                                                                                                                                                                                                                                                                                                                                                                                                                                                                                                                                                                                                                                                Ahhhh yes. The British Open Pub or the BOP as I lovingly call it. This is a frequent lunchtime spot during the work week. Without knowing specifically where it was, you might drive right past it too. \\n\\nThe atmosphere is my favorite part of the BOP. It's usually a very relaxing place to be at lunch. I have never been there any other time, so I'm not sure if this always holds true. However, despite it typically being quiet at lunch, the service is usually pretty slow. I typically have to plan on a longer lunch than normal.\\n\\nThe beer selection is pretty good. I can always count on being able to have a Boddington's or a black velvet. As far as the food goes, it's pretty good, but not overly British and a little on the greasy side. \\n\\nI've noticed a few spelling errors on their menus from time to time too, which always annoys me.\\n\\nOverall the food isn't the best and the service is slow but it's still an okay place to visit.   \n",
       "841                                                                                                                                                                                                                                                                                                                                                                                                                                                                     Abridged: Aside from the inconsistency with deals and pricing, it's a great wax. Worth the trip.\\n\\nUnabridged: European Wax Center was recommended to me by my new stylist when I ended up falling in love with a hair salon that didn't do waxing. I have to admit that when I entered the location for the first time, I thought I was signing up for a cult. Just gave me one of those odd feelings. \\n\\nThat ended when I went back though and had my eyebrows waxed. It was the least painful waxing I've ever had. The room was clean, my waxer was nice and friendly. She made sure I wasn't allergic to anything. It was very pleasant and the price is super reasonable. \\n\\nAfter my first visit, I was told about a plan I could sign up for. I declined, but was told if I booked my next appointment in advance now, I'd get $5 off. What I wasn't told, was that there was a piece of paper or something I needed to have in order to redeem that, and when I returned a few weeks later, I wasn't given my discount. I was assured I will next time, but we'll see what happens. If the third time proves to have no discount attached, it may be enough for me to leave. I want to come back, but I also don't like being toyed with.   \n",
       "845                                                                                                                                                                                                                                                                                                                                                                                                                                                                                           I don't really like big box-like bakeries that have popped up over the years, because well... I'm not a big-box chain type person. However, I was in the area, starving, with some time to kill and was craving something to hold me over until dinner. \\n\\nWhat I had hoped for was a lemonade and a muffin. Only thing was, they didn't have lemonade. Boo. Mega mega boo.\\n\\nOnce I figured out where to go to order, I decided on a banana nut muffin and a black cherry smoothie. Speaking of which though, is it ever okay for a customer to not know where to go to order something? Really? I really hope no one thinks this is okay. Luckily, someone behind the counter sensed my frustration and helped me.\\n\\nThe prices weren't bad and everything was ready quickly and I was able to take a seat on a comfy chair in an area no one was occupying. The muffin was huge. Therefore, that combined with the smoothie rather than a lemonade meant I pretty much had my dinner there. Kinda sad. The muffin was fantastic but huge. The winner of this visit though? The black cherry smoothie. Now that I know how big portions are, whenever I need something to hold me over, I'll be back for that. Pure heaven.   \n",
       "847                                                                                                                                                                                                                                                                                                                                                                                                                                                                                                                                                                                                                                                                                                                                                                                                                                                                                                                                                                                                                                                                                                                                                                                                                                                                                                                               I've swung into Echo a few times and haven't ever had a bad cup of coffee. The cappuccino is pretty solid and the zucchini bread I had for breakfast one day was a win. If I recall correctly it came in a cute little box too.\\n\\nFor some reason I've never been able to feel relaxed and at home enough to chill and enjoy an afternoon or evening there. Not sure why, but just haven't.   \n",
       "850                                                                                                                                                                                                                                                                                                                                                                                                                                                                                                                                                                                                                                                                                                                                                                                Trekked here for lunch one day with some work folk. It left an eh in my mind. Not a bad eh, which is usually a 2 for me, but more like an I'll-come-back-here-if-someone-else-is-dying-to eh, which leaves it at a 3.\\n\\nI can say that the cornbread is exquisite. It's what cornbread should be. Corn and bread. It's not cornmeal trying to be cornbread. It's not some yuppie metropolitan height of sophistication's chef trying to be country. It's the no shit real deal. I appreciate that. I just have to remember to appreciate it in small quantities.\\n\\nThe service was pretty on par for it being lunch on a Monday. \\n\\nMy main dish was the seafood enchilada which was pretty on point, but not as good as the one at Blue Adobe. I was pretty annoyed to see it came with tomato even though tomato was listed nowhere on the menu. I will remember that. I may just return and order cornbread with a side of cornbread.   \n",
       "\n",
       "     useful  funny  cool  target  \n",
       "807       1      1     1       0  \n",
       "809       0      0     0       0  \n",
       "811       0      1     0       0  \n",
       "813       0      0     0       0  \n",
       "814       0      0     0       0  \n",
       "815       0      0     0       0  \n",
       "818       2      0     1       0  \n",
       "821       1      0     0       0  \n",
       "827       2      0     2       0  \n",
       "829       1      0     1       0  \n",
       "832       2      1     0       0  \n",
       "833       1      0     0       0  \n",
       "835       2      0     0       0  \n",
       "836       0      2     1       0  \n",
       "838       1      0     0       0  \n",
       "841       2      0     0       0  \n",
       "845       0      0     1       0  \n",
       "847       0      0     0       0  \n",
       "850       1      0     1       0  "
      ]
     },
     "execution_count": 112,
     "metadata": {},
     "output_type": "execute_result"
    }
   ],
   "source": [
    "neutrals.loc[800:850]"
   ]
  },
  {
   "cell_type": "code",
   "execution_count": null,
   "metadata": {},
   "outputs": [],
   "source": []
  },
  {
   "cell_type": "code",
   "execution_count": 126,
   "metadata": {},
   "outputs": [],
   "source": [
    "manual_classified = neutrals.loc[0:850]\n",
    "manual_classified.to_csv('data/manual_classified.csv')"
   ]
  },
  {
   "cell_type": "code",
   "execution_count": null,
   "metadata": {},
   "outputs": [],
   "source": []
  }
 ],
 "metadata": {
  "kernelspec": {
   "display_name": "Python (learn-env)",
   "language": "python",
   "name": "learn-env"
  },
  "language_info": {
   "codemirror_mode": {
    "name": "ipython",
    "version": 3
   },
   "file_extension": ".py",
   "mimetype": "text/x-python",
   "name": "python",
   "nbconvert_exporter": "python",
   "pygments_lexer": "ipython3",
   "version": "3.8.5"
  }
 },
 "nbformat": 4,
 "nbformat_minor": 4
}
